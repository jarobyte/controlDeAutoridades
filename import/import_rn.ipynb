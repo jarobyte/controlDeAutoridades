{
 "cells": [
  {
   "cell_type": "code",
   "execution_count": 9,
   "metadata": {},
   "outputs": [],
   "source": [
    "library(\"tidyverse\")\n",
    "\n",
    "library(\"stringr\")"
   ]
  },
  {
   "cell_type": "code",
   "execution_count": 10,
   "metadata": {},
   "outputs": [
    {
     "data": {
      "text/html": [
       "<table>\n",
       "<thead><tr><th scope=col>encoding</th><th scope=col>confidence</th></tr></thead>\n",
       "<tbody>\n",
       "\t<tr><td>ISO-8859-1</td><td>0.44      </td></tr>\n",
       "</tbody>\n",
       "</table>\n"
      ],
      "text/latex": [
       "\\begin{tabular}{r|ll}\n",
       " encoding & confidence\\\\\n",
       "\\hline\n",
       "\t ISO-8859-1 & 0.44      \\\\\n",
       "\\end{tabular}\n"
      ],
      "text/markdown": [
       "\n",
       "encoding | confidence | \n",
       "|---|\n",
       "| ISO-8859-1 | 0.44       | \n",
       "\n",
       "\n"
      ],
      "text/plain": [
       "  encoding   confidence\n",
       "1 ISO-8859-1 0.44      "
      ]
     },
     "metadata": {},
     "output_type": "display_data"
    }
   ],
   "source": [
    "guess_encoding(\"fuente/catalogo_RN_utf8/RN_catalogo_personas_Hoja1.csv\", n_max = -1)"
   ]
  },
  {
   "cell_type": "code",
   "execution_count": 11,
   "metadata": {},
   "outputs": [
    {
     "name": "stderr",
     "output_type": "stream",
     "text": [
      "Warning message in rbind(names(probs), probs_f):\n",
      "“number of columns of result is not a multiple of vector length (arg 1)”Warning message:\n",
      "“6 parsing failures.\n",
      "row # A tibble: 5 x 5 col      row col        expected   actual          file                             expected    <int> <chr>      <chr>      <chr>           <chr>                            actual 1 143678 id_persona an integer ;Yugosf13       'fuente/catalogo_RN_utf8/RN_cat… file 2 143679 id_persona an integer ;NULL;NULL;NULL 'fuente/catalogo_RN_utf8/RN_cat… row 3 423927 id_persona an integer ;Zamparini      'fuente/catalogo_RN_utf8/RN_cat… col 4 423928 id_persona an integer ;NULL;NULL;NULL 'fuente/catalogo_RN_utf8/RN_cat… expected 5 441353 id_persona an integer ;lo3zis         'fuente/catalogo_RN_utf8/RN_cat…\n",
      "... ................. ... ............................................................................... ........ ............................................................................... ...... ............................................................................... .... ............................................................................... ... ............................................................................... ... ............................................................................... ........ ...............................................................................\n",
      "See problems(...) for more details.\n",
      "”"
     ]
    }
   ],
   "source": [
    "rn_hoja1  <- read_csv(\"fuente/catalogo_RN_utf8/RN_catalogo_personas_Hoja1.csv\", \n",
    "                      locale = locale(encoding = \"windows-1252\"), \n",
    "                      na = c(\"\", \"NA\", \"NULL\"), \n",
    "                     col_types = cols(\n",
    "  id_persona = col_integer(),\n",
    "  id_cvu_conacyt = col_character(),\n",
    "  id_orcid = col_character(),\n",
    "  curp = col_character(),\n",
    "  dni = col_character(),\n",
    "  nombres = col_character(),\n",
    "  primer_apellido = col_character(),\n",
    "  segundo_apellido = col_character(),\n",
    "  id_institucion = col_integer(),\n",
    "  institucion = col_character()\n",
    "))"
   ]
  },
  {
   "cell_type": "code",
   "execution_count": 12,
   "metadata": {},
   "outputs": [
    {
     "data": {
      "text/html": [
       "<table>\n",
       "<thead><tr><th scope=col>row</th><th scope=col>col</th><th scope=col>expected</th><th scope=col>actual</th><th scope=col>file</th></tr></thead>\n",
       "<tbody>\n",
       "\t<tr><td>143678                                                  </td><td>id_persona                                              </td><td>an integer                                              </td><td>;Yugosf13                                               </td><td>'fuente/catalogo_RN_utf8/RN_catalogo_personas_Hoja1.csv'</td></tr>\n",
       "\t<tr><td>143679                                                  </td><td>id_persona                                              </td><td>an integer                                              </td><td>;NULL;NULL;NULL                                         </td><td>'fuente/catalogo_RN_utf8/RN_catalogo_personas_Hoja1.csv'</td></tr>\n",
       "\t<tr><td>423927                                                  </td><td>id_persona                                              </td><td>an integer                                              </td><td>;Zamparini                                              </td><td>'fuente/catalogo_RN_utf8/RN_catalogo_personas_Hoja1.csv'</td></tr>\n",
       "\t<tr><td>423928                                                  </td><td>id_persona                                              </td><td>an integer                                              </td><td>;NULL;NULL;NULL                                         </td><td>'fuente/catalogo_RN_utf8/RN_catalogo_personas_Hoja1.csv'</td></tr>\n",
       "\t<tr><td>441353                                                  </td><td>id_persona                                              </td><td>an integer                                              </td><td>;lo3zis                                                 </td><td>'fuente/catalogo_RN_utf8/RN_catalogo_personas_Hoja1.csv'</td></tr>\n",
       "\t<tr><td>441354                                                  </td><td>id_persona                                              </td><td>an integer                                              </td><td>;NULL;NULL;NULL                                         </td><td>'fuente/catalogo_RN_utf8/RN_catalogo_personas_Hoja1.csv'</td></tr>\n",
       "</tbody>\n",
       "</table>\n"
      ],
      "text/latex": [
       "\\begin{tabular}{r|lllll}\n",
       " row & col & expected & actual & file\\\\\n",
       "\\hline\n",
       "\t 143678                                                             & id\\_persona                                                       & an integer                                                         & ;Yugosf13                                                          & 'fuente/catalogo\\_RN\\_utf8/RN\\_catalogo\\_personas\\_Hoja1.csv'\\\\\n",
       "\t 143679                                                             & id\\_persona                                                       & an integer                                                         & ;NULL;NULL;NULL                                                    & 'fuente/catalogo\\_RN\\_utf8/RN\\_catalogo\\_personas\\_Hoja1.csv'\\\\\n",
       "\t 423927                                                             & id\\_persona                                                       & an integer                                                         & ;Zamparini                                                         & 'fuente/catalogo\\_RN\\_utf8/RN\\_catalogo\\_personas\\_Hoja1.csv'\\\\\n",
       "\t 423928                                                             & id\\_persona                                                       & an integer                                                         & ;NULL;NULL;NULL                                                    & 'fuente/catalogo\\_RN\\_utf8/RN\\_catalogo\\_personas\\_Hoja1.csv'\\\\\n",
       "\t 441353                                                             & id\\_persona                                                       & an integer                                                         & ;lo3zis                                                            & 'fuente/catalogo\\_RN\\_utf8/RN\\_catalogo\\_personas\\_Hoja1.csv'\\\\\n",
       "\t 441354                                                             & id\\_persona                                                       & an integer                                                         & ;NULL;NULL;NULL                                                    & 'fuente/catalogo\\_RN\\_utf8/RN\\_catalogo\\_personas\\_Hoja1.csv'\\\\\n",
       "\\end{tabular}\n"
      ],
      "text/markdown": [
       "\n",
       "row | col | expected | actual | file | \n",
       "|---|---|---|---|---|---|\n",
       "| 143678                                                   | id_persona                                               | an integer                                               | ;Yugosf13                                                | 'fuente/catalogo_RN_utf8/RN_catalogo_personas_Hoja1.csv' | \n",
       "| 143679                                                   | id_persona                                               | an integer                                               | ;NULL;NULL;NULL                                          | 'fuente/catalogo_RN_utf8/RN_catalogo_personas_Hoja1.csv' | \n",
       "| 423927                                                   | id_persona                                               | an integer                                               | ;Zamparini                                               | 'fuente/catalogo_RN_utf8/RN_catalogo_personas_Hoja1.csv' | \n",
       "| 423928                                                   | id_persona                                               | an integer                                               | ;NULL;NULL;NULL                                          | 'fuente/catalogo_RN_utf8/RN_catalogo_personas_Hoja1.csv' | \n",
       "| 441353                                                   | id_persona                                               | an integer                                               | ;lo3zis                                                  | 'fuente/catalogo_RN_utf8/RN_catalogo_personas_Hoja1.csv' | \n",
       "| 441354                                                   | id_persona                                               | an integer                                               | ;NULL;NULL;NULL                                          | 'fuente/catalogo_RN_utf8/RN_catalogo_personas_Hoja1.csv' | \n",
       "\n",
       "\n"
      ],
      "text/plain": [
       "  row    col        expected   actual         \n",
       "1 143678 id_persona an integer ;Yugosf13      \n",
       "2 143679 id_persona an integer ;NULL;NULL;NULL\n",
       "3 423927 id_persona an integer ;Zamparini     \n",
       "4 423928 id_persona an integer ;NULL;NULL;NULL\n",
       "5 441353 id_persona an integer ;lo3zis        \n",
       "6 441354 id_persona an integer ;NULL;NULL;NULL\n",
       "  file                                                    \n",
       "1 'fuente/catalogo_RN_utf8/RN_catalogo_personas_Hoja1.csv'\n",
       "2 'fuente/catalogo_RN_utf8/RN_catalogo_personas_Hoja1.csv'\n",
       "3 'fuente/catalogo_RN_utf8/RN_catalogo_personas_Hoja1.csv'\n",
       "4 'fuente/catalogo_RN_utf8/RN_catalogo_personas_Hoja1.csv'\n",
       "5 'fuente/catalogo_RN_utf8/RN_catalogo_personas_Hoja1.csv'\n",
       "6 'fuente/catalogo_RN_utf8/RN_catalogo_personas_Hoja1.csv'"
      ]
     },
     "metadata": {},
     "output_type": "display_data"
    }
   ],
   "source": [
    "problems(rn_hoja1)"
   ]
  },
  {
   "cell_type": "code",
   "execution_count": 13,
   "metadata": {},
   "outputs": [
    {
     "data": {
      "text/html": [
       "<table>\n",
       "<thead><tr><th scope=col>id_persona</th><th scope=col>id_cvu_conacyt</th><th scope=col>id_orcid</th><th scope=col>curp</th><th scope=col>dni</th><th scope=col>nombres</th><th scope=col>primer_apellido</th><th scope=col>segundo_apellido</th><th scope=col>id_institucion</th><th scope=col>institucion</th></tr></thead>\n",
       "<tbody>\n",
       "\t<tr><td>1                  </td><td>0000-0001-5000-0584</td><td>0000-0001-5000-0584</td><td>NA                 </td><td>NA                 </td><td>Benedek            </td><td>Kurdi              </td><td>NA                 </td><td>NA                 </td><td>NA                 </td></tr>\n",
       "\t<tr><td>2                  </td><td>0000-0001-5000-0592</td><td>0000-0001-5000-0592</td><td>NA                 </td><td>NA                 </td><td>fan                </td><td>NA                 </td><td>NA                 </td><td>NA                 </td><td>NA                 </td></tr>\n",
       "\t<tr><td>3                  </td><td>0000-0001-5000-0664</td><td>0000-0001-5000-0664</td><td>NA                 </td><td>NA                 </td><td>Serap              </td><td>DURUKAN KÖSE       </td><td>NA                 </td><td>NA                 </td><td>NA                 </td></tr>\n",
       "\t<tr><td>4                  </td><td>0000-0001-5000-0699</td><td>0000-0001-5000-0699</td><td>NA                 </td><td>NA                 </td><td>qinghua            </td><td>Wan                </td><td>NA                 </td><td>NA                 </td><td>NA                 </td></tr>\n",
       "\t<tr><td>5                  </td><td>0000-0001-5000-0832</td><td>0000-0001-5000-0832</td><td>NA                 </td><td>NA                 </td><td>Anabela            </td><td>Costa              </td><td>NA                 </td><td>NA                 </td><td>NA                 </td></tr>\n",
       "\t<tr><td>6                  </td><td>0000-0001-5000-1202</td><td>0000-0001-5000-1202</td><td>NA                 </td><td>NA                 </td><td>dawei              </td><td>NA                 </td><td>NA                 </td><td>NA                 </td><td>NA                 </td></tr>\n",
       "</tbody>\n",
       "</table>\n"
      ],
      "text/latex": [
       "\\begin{tabular}{r|llllllllll}\n",
       " id\\_persona & id\\_cvu\\_conacyt & id\\_orcid & curp & dni & nombres & primer\\_apellido & segundo\\_apellido & id\\_institucion & institucion\\\\\n",
       "\\hline\n",
       "\t 1                   & 0000-0001-5000-0584 & 0000-0001-5000-0584 & NA                  & NA                  & Benedek             & Kurdi               & NA                  & NA                  & NA                 \\\\\n",
       "\t 2                   & 0000-0001-5000-0592 & 0000-0001-5000-0592 & NA                  & NA                  & fan                 & NA                  & NA                  & NA                  & NA                 \\\\\n",
       "\t 3                   & 0000-0001-5000-0664 & 0000-0001-5000-0664 & NA                  & NA                  & Serap               & DURUKAN KÖSE        & NA                  & NA                  & NA                 \\\\\n",
       "\t 4                   & 0000-0001-5000-0699 & 0000-0001-5000-0699 & NA                  & NA                  & qinghua             & Wan                 & NA                  & NA                  & NA                 \\\\\n",
       "\t 5                   & 0000-0001-5000-0832 & 0000-0001-5000-0832 & NA                  & NA                  & Anabela             & Costa               & NA                  & NA                  & NA                 \\\\\n",
       "\t 6                   & 0000-0001-5000-1202 & 0000-0001-5000-1202 & NA                  & NA                  & dawei               & NA                  & NA                  & NA                  & NA                 \\\\\n",
       "\\end{tabular}\n"
      ],
      "text/markdown": [
       "\n",
       "id_persona | id_cvu_conacyt | id_orcid | curp | dni | nombres | primer_apellido | segundo_apellido | id_institucion | institucion | \n",
       "|---|---|---|---|---|---|\n",
       "| 1                   | 0000-0001-5000-0584 | 0000-0001-5000-0584 | NA                  | NA                  | Benedek             | Kurdi               | NA                  | NA                  | NA                  | \n",
       "| 2                   | 0000-0001-5000-0592 | 0000-0001-5000-0592 | NA                  | NA                  | fan                 | NA                  | NA                  | NA                  | NA                  | \n",
       "| 3                   | 0000-0001-5000-0664 | 0000-0001-5000-0664 | NA                  | NA                  | Serap               | DURUKAN KÖSE        | NA                  | NA                  | NA                  | \n",
       "| 4                   | 0000-0001-5000-0699 | 0000-0001-5000-0699 | NA                  | NA                  | qinghua             | Wan                 | NA                  | NA                  | NA                  | \n",
       "| 5                   | 0000-0001-5000-0832 | 0000-0001-5000-0832 | NA                  | NA                  | Anabela             | Costa               | NA                  | NA                  | NA                  | \n",
       "| 6                   | 0000-0001-5000-1202 | 0000-0001-5000-1202 | NA                  | NA                  | dawei               | NA                  | NA                  | NA                  | NA                  | \n",
       "\n",
       "\n"
      ],
      "text/plain": [
       "  id_persona id_cvu_conacyt      id_orcid            curp dni nombres\n",
       "1 1          0000-0001-5000-0584 0000-0001-5000-0584 NA   NA  Benedek\n",
       "2 2          0000-0001-5000-0592 0000-0001-5000-0592 NA   NA  fan    \n",
       "3 3          0000-0001-5000-0664 0000-0001-5000-0664 NA   NA  Serap  \n",
       "4 4          0000-0001-5000-0699 0000-0001-5000-0699 NA   NA  qinghua\n",
       "5 5          0000-0001-5000-0832 0000-0001-5000-0832 NA   NA  Anabela\n",
       "6 6          0000-0001-5000-1202 0000-0001-5000-1202 NA   NA  dawei  \n",
       "  primer_apellido segundo_apellido id_institucion institucion\n",
       "1 Kurdi           NA               NA             NA         \n",
       "2 NA              NA               NA             NA         \n",
       "3 DURUKAN KÖSE    NA               NA             NA         \n",
       "4 Wan             NA               NA             NA         \n",
       "5 Costa           NA               NA             NA         \n",
       "6 NA              NA               NA             NA         "
      ]
     },
     "metadata": {},
     "output_type": "display_data"
    }
   ],
   "source": [
    "head(rn_hoja1)"
   ]
  },
  {
   "cell_type": "code",
   "execution_count": 15,
   "metadata": {},
   "outputs": [
    {
     "data": {
      "text/html": [
       "<table>\n",
       "<thead><tr><th scope=col>encoding</th><th scope=col>confidence</th></tr></thead>\n",
       "<tbody>\n",
       "\t<tr><td>UTF-8       </td><td>1.00        </td></tr>\n",
       "\t<tr><td>Shift_JIS   </td><td>0.40        </td></tr>\n",
       "\t<tr><td>windows-1252</td><td>0.29        </td></tr>\n",
       "</tbody>\n",
       "</table>\n"
      ],
      "text/latex": [
       "\\begin{tabular}{r|ll}\n",
       " encoding & confidence\\\\\n",
       "\\hline\n",
       "\t UTF-8        & 1.00        \\\\\n",
       "\t Shift\\_JIS    & 0.40          \\\\\n",
       "\t windows-1252 & 0.29        \\\\\n",
       "\\end{tabular}\n"
      ],
      "text/markdown": [
       "\n",
       "encoding | confidence | \n",
       "|---|---|---|\n",
       "| UTF-8        | 1.00         | \n",
       "| Shift_JIS    | 0.40         | \n",
       "| windows-1252 | 0.29         | \n",
       "\n",
       "\n"
      ],
      "text/plain": [
       "  encoding     confidence\n",
       "1 UTF-8        1.00      \n",
       "2 Shift_JIS    0.40      \n",
       "3 windows-1252 0.29      "
      ]
     },
     "metadata": {},
     "output_type": "display_data"
    }
   ],
   "source": [
    "guess_encoding(\"fuente/catalogo_RN_utf8/RN_catalogo_personas_Hoja2.csv\")"
   ]
  },
  {
   "cell_type": "code",
   "execution_count": 17,
   "metadata": {},
   "outputs": [
    {
     "data": {
      "text/html": [
       "<table>\n",
       "<thead><tr><th scope=col>id_persona</th><th scope=col>id_cvu_conacyt</th><th scope=col>id_orcid</th><th scope=col>curp</th><th scope=col>dni</th><th scope=col>nombres</th><th scope=col>primer_apellido</th><th scope=col>segundo_apellido</th><th scope=col>id_institucion</th><th scope=col>institucion</th></tr></thead>\n",
       "<tbody>\n",
       "\t<tr><td>2303163           </td><td>303163            </td><td>NA                </td><td>MAMR840716HCCRLB08</td><td>NA                </td><td>ROBERTO           </td><td>MARTINEZ          </td><td>MALDONADO         </td><td>NA                </td><td>NA                </td></tr>\n",
       "\t<tr><td>2303187           </td><td>303187            </td><td>NA                </td><td>MAKE480624HNECXT05</td><td>NA                </td><td>KEITH MICHAEL     </td><td>MCCALL            </td><td>NA                </td><td>NA                </td><td>NA                </td></tr>\n",
       "\t<tr><td>2303302           </td><td>303302            </td><td>NA                </td><td>JIGA760519HGRMRL03</td><td>NA                </td><td>JOSE ALFREDO      </td><td>JIMENEZ           </td><td>GARCIA            </td><td>NA                </td><td>NA                </td></tr>\n",
       "\t<tr><td>2303436           </td><td>303436            </td><td>NA                </td><td>DOOA650422HGRMRN03</td><td>NA                </td><td>JOSE ANGEL        </td><td>DOMINGUEZ         </td><td>ORDOÑEZ           </td><td>NA                </td><td>NA                </td></tr>\n",
       "\t<tr><td>2303509           </td><td>303509            </td><td>NA                </td><td>GOFM770708MDFMLR04</td><td>NA                </td><td>MARA              </td><td>GOMEZ             </td><td>FLORES            </td><td>NA                </td><td>NA                </td></tr>\n",
       "\t<tr><td>2303560           </td><td>303560            </td><td>NA                </td><td>GOOA580515MCHNRN05</td><td>NA                </td><td>ANA MARIA         </td><td>GONZALEZ          </td><td>ORTIZ             </td><td>NA                </td><td>NA                </td></tr>\n",
       "</tbody>\n",
       "</table>\n"
      ],
      "text/latex": [
       "\\begin{tabular}{r|llllllllll}\n",
       " id\\_persona & id\\_cvu\\_conacyt & id\\_orcid & curp & dni & nombres & primer\\_apellido & segundo\\_apellido & id\\_institucion & institucion\\\\\n",
       "\\hline\n",
       "\t 2303163            & 303163             & NA                 & MAMR840716HCCRLB08 & NA                 & ROBERTO            & MARTINEZ           & MALDONADO          & NA                 & NA                \\\\\n",
       "\t 2303187            & 303187             & NA                 & MAKE480624HNECXT05 & NA                 & KEITH MICHAEL      & MCCALL             & NA                 & NA                 & NA                \\\\\n",
       "\t 2303302            & 303302             & NA                 & JIGA760519HGRMRL03 & NA                 & JOSE ALFREDO       & JIMENEZ            & GARCIA             & NA                 & NA                \\\\\n",
       "\t 2303436            & 303436             & NA                 & DOOA650422HGRMRN03 & NA                 & JOSE ANGEL         & DOMINGUEZ          & ORDOÑEZ            & NA                 & NA                \\\\\n",
       "\t 2303509            & 303509             & NA                 & GOFM770708MDFMLR04 & NA                 & MARA               & GOMEZ              & FLORES             & NA                 & NA                \\\\\n",
       "\t 2303560            & 303560             & NA                 & GOOA580515MCHNRN05 & NA                 & ANA MARIA          & GONZALEZ           & ORTIZ              & NA                 & NA                \\\\\n",
       "\\end{tabular}\n"
      ],
      "text/markdown": [
       "\n",
       "id_persona | id_cvu_conacyt | id_orcid | curp | dni | nombres | primer_apellido | segundo_apellido | id_institucion | institucion | \n",
       "|---|---|---|---|---|---|\n",
       "| 2303163            | 303163             | NA                 | MAMR840716HCCRLB08 | NA                 | ROBERTO            | MARTINEZ           | MALDONADO          | NA                 | NA                 | \n",
       "| 2303187            | 303187             | NA                 | MAKE480624HNECXT05 | NA                 | KEITH MICHAEL      | MCCALL             | NA                 | NA                 | NA                 | \n",
       "| 2303302            | 303302             | NA                 | JIGA760519HGRMRL03 | NA                 | JOSE ALFREDO       | JIMENEZ            | GARCIA             | NA                 | NA                 | \n",
       "| 2303436            | 303436             | NA                 | DOOA650422HGRMRN03 | NA                 | JOSE ANGEL         | DOMINGUEZ          | ORDOÑEZ            | NA                 | NA                 | \n",
       "| 2303509            | 303509             | NA                 | GOFM770708MDFMLR04 | NA                 | MARA               | GOMEZ              | FLORES             | NA                 | NA                 | \n",
       "| 2303560            | 303560             | NA                 | GOOA580515MCHNRN05 | NA                 | ANA MARIA          | GONZALEZ           | ORTIZ              | NA                 | NA                 | \n",
       "\n",
       "\n"
      ],
      "text/plain": [
       "  id_persona id_cvu_conacyt id_orcid curp               dni nombres      \n",
       "1 2303163    303163         NA       MAMR840716HCCRLB08 NA  ROBERTO      \n",
       "2 2303187    303187         NA       MAKE480624HNECXT05 NA  KEITH MICHAEL\n",
       "3 2303302    303302         NA       JIGA760519HGRMRL03 NA  JOSE ALFREDO \n",
       "4 2303436    303436         NA       DOOA650422HGRMRN03 NA  JOSE ANGEL   \n",
       "5 2303509    303509         NA       GOFM770708MDFMLR04 NA  MARA         \n",
       "6 2303560    303560         NA       GOOA580515MCHNRN05 NA  ANA MARIA    \n",
       "  primer_apellido segundo_apellido id_institucion institucion\n",
       "1 MARTINEZ        MALDONADO        NA             NA         \n",
       "2 MCCALL          NA               NA             NA         \n",
       "3 JIMENEZ         GARCIA           NA             NA         \n",
       "4 DOMINGUEZ       ORDOÑEZ          NA             NA         \n",
       "5 GOMEZ           FLORES           NA             NA         \n",
       "6 GONZALEZ        ORTIZ            NA             NA         "
      ]
     },
     "metadata": {},
     "output_type": "display_data"
    }
   ],
   "source": [
    "rn_hoja2  <- read_csv(\"fuente/catalogo_RN_utf8/RN_catalogo_personas_Hoja2.csv\", \n",
    "                      locale = locale(encoding = \"UTF-8\"), \n",
    "                     na = c(\"\", \"NA\", \"NULL\"), \n",
    "                     col_types = cols(\n",
    "  id_persona = col_integer(),\n",
    "  id_cvu_conacyt = col_character(),\n",
    "  id_orcid = col_character(),\n",
    "  curp = col_character(),\n",
    "  dni = col_character(),\n",
    "  nombres = col_character(),\n",
    "  primer_apellido = col_character(),\n",
    "  segundo_apellido = col_character(),\n",
    "  id_institucion = col_integer(),\n",
    "  institucion = col_character()\n",
    "))\n",
    "\n",
    "head(rn_hoja2)"
   ]
  },
  {
   "cell_type": "code",
   "execution_count": 18,
   "metadata": {},
   "outputs": [
    {
     "data": {
      "text/html": [
       "<table>\n",
       "<thead><tr><th scope=col>row</th><th scope=col>col</th><th scope=col>expected</th><th scope=col>actual</th></tr></thead>\n",
       "<tbody>\n",
       "</tbody>\n",
       "</table>\n"
      ],
      "text/latex": [
       "\\begin{tabular}{r|llll}\n",
       " row & col & expected & actual\\\\\n",
       "\\hline\n",
       "\\end{tabular}\n"
      ],
      "text/markdown": [
       "\n",
       "row | col | expected | actual | \n",
       "||\n",
       "\n",
       "\n"
      ],
      "text/plain": [
       "     row col expected actual"
      ]
     },
     "metadata": {},
     "output_type": "display_data"
    }
   ],
   "source": [
    "problems(rn_hoja2)"
   ]
  },
  {
   "cell_type": "code",
   "execution_count": 19,
   "metadata": {},
   "outputs": [
    {
     "name": "stderr",
     "output_type": "stream",
     "text": [
      "Joining, by = c(\"id_persona\", \"id_cvu_conacyt\", \"id_orcid\", \"curp\", \"dni\", \"nombres\", \"primer_apellido\", \"segundo_apellido\", \"id_institucion\", \"institucion\")\n"
     ]
    },
    {
     "data": {
      "text/html": [
       "<table>\n",
       "<thead><tr><th scope=col>cvu</th><th scope=col>orcid</th><th scope=col>curp</th><th scope=col>dni</th><th scope=col>nombres</th><th scope=col>primer_apellido</th><th scope=col>segundo_apellido</th><th scope=col>afiliacion</th><th scope=col>rn</th><th scope=col>pais_de_nacimiento</th><th scope=col>pais_asociado</th><th scope=col>genero</th><th scope=col>fecha_de_nacimiento</th><th scope=col>origen</th></tr></thead>\n",
       "<tbody>\n",
       "\t<tr><td>0000-0001-5000-0584</td><td>0000-0001-5000-0584</td><td>NA                 </td><td>NA                 </td><td>Benedek            </td><td>KURDI              </td><td>NA                 </td><td>NA                 </td><td>NA                 </td><td>NA                 </td><td>NA                 </td><td>NA                 </td><td>NA                 </td><td>rn                 </td></tr>\n",
       "\t<tr><td>0000-0001-5000-0592</td><td>0000-0001-5000-0592</td><td>NA                 </td><td>NA                 </td><td>fan                </td><td>NA                 </td><td>NA                 </td><td>NA                 </td><td>NA                 </td><td>NA                 </td><td>NA                 </td><td>NA                 </td><td>NA                 </td><td>rn                 </td></tr>\n",
       "\t<tr><td>0000-0001-5000-0664</td><td>0000-0001-5000-0664</td><td>NA                 </td><td>NA                 </td><td>Serap              </td><td>DURUKAN KÖSE       </td><td>NA                 </td><td>NA                 </td><td>NA                 </td><td>NA                 </td><td>NA                 </td><td>NA                 </td><td>NA                 </td><td>rn                 </td></tr>\n",
       "\t<tr><td>0000-0001-5000-0699</td><td>0000-0001-5000-0699</td><td>NA                 </td><td>NA                 </td><td>qinghua            </td><td>WAN                </td><td>NA                 </td><td>NA                 </td><td>NA                 </td><td>NA                 </td><td>NA                 </td><td>NA                 </td><td>NA                 </td><td>rn                 </td></tr>\n",
       "\t<tr><td>0000-0001-5000-0832</td><td>0000-0001-5000-0832</td><td>NA                 </td><td>NA                 </td><td>Anabela            </td><td>COSTA              </td><td>NA                 </td><td>NA                 </td><td>NA                 </td><td>NA                 </td><td>NA                 </td><td>NA                 </td><td>NA                 </td><td>rn                 </td></tr>\n",
       "\t<tr><td>0000-0001-5000-1202</td><td>0000-0001-5000-1202</td><td>NA                 </td><td>NA                 </td><td>dawei              </td><td>NA                 </td><td>NA                 </td><td>NA                 </td><td>NA                 </td><td>NA                 </td><td>NA                 </td><td>NA                 </td><td>NA                 </td><td>rn                 </td></tr>\n",
       "</tbody>\n",
       "</table>\n"
      ],
      "text/latex": [
       "\\begin{tabular}{r|llllllllllllll}\n",
       " cvu & orcid & curp & dni & nombres & primer\\_apellido & segundo\\_apellido & afiliacion & rn & pais\\_de\\_nacimiento & pais\\_asociado & genero & fecha\\_de\\_nacimiento & origen\\\\\n",
       "\\hline\n",
       "\t 0000-0001-5000-0584 & 0000-0001-5000-0584 & NA                  & NA                  & Benedek             & KURDI               & NA                  & NA                  & NA                  & NA                  & NA                  & NA                  & NA                  & rn                 \\\\\n",
       "\t 0000-0001-5000-0592 & 0000-0001-5000-0592 & NA                  & NA                  & fan                 & NA                  & NA                  & NA                  & NA                  & NA                  & NA                  & NA                  & NA                  & rn                 \\\\\n",
       "\t 0000-0001-5000-0664 & 0000-0001-5000-0664 & NA                  & NA                  & Serap               & DURUKAN KÖSE        & NA                  & NA                  & NA                  & NA                  & NA                  & NA                  & NA                  & rn                 \\\\\n",
       "\t 0000-0001-5000-0699 & 0000-0001-5000-0699 & NA                  & NA                  & qinghua             & WAN                 & NA                  & NA                  & NA                  & NA                  & NA                  & NA                  & NA                  & rn                 \\\\\n",
       "\t 0000-0001-5000-0832 & 0000-0001-5000-0832 & NA                  & NA                  & Anabela             & COSTA               & NA                  & NA                  & NA                  & NA                  & NA                  & NA                  & NA                  & rn                 \\\\\n",
       "\t 0000-0001-5000-1202 & 0000-0001-5000-1202 & NA                  & NA                  & dawei               & NA                  & NA                  & NA                  & NA                  & NA                  & NA                  & NA                  & NA                  & rn                 \\\\\n",
       "\\end{tabular}\n"
      ],
      "text/markdown": [
       "\n",
       "cvu | orcid | curp | dni | nombres | primer_apellido | segundo_apellido | afiliacion | rn | pais_de_nacimiento | pais_asociado | genero | fecha_de_nacimiento | origen | \n",
       "|---|---|---|---|---|---|\n",
       "| 0000-0001-5000-0584 | 0000-0001-5000-0584 | NA                  | NA                  | Benedek             | KURDI               | NA                  | NA                  | NA                  | NA                  | NA                  | NA                  | NA                  | rn                  | \n",
       "| 0000-0001-5000-0592 | 0000-0001-5000-0592 | NA                  | NA                  | fan                 | NA                  | NA                  | NA                  | NA                  | NA                  | NA                  | NA                  | NA                  | rn                  | \n",
       "| 0000-0001-5000-0664 | 0000-0001-5000-0664 | NA                  | NA                  | Serap               | DURUKAN KÖSE        | NA                  | NA                  | NA                  | NA                  | NA                  | NA                  | NA                  | rn                  | \n",
       "| 0000-0001-5000-0699 | 0000-0001-5000-0699 | NA                  | NA                  | qinghua             | WAN                 | NA                  | NA                  | NA                  | NA                  | NA                  | NA                  | NA                  | rn                  | \n",
       "| 0000-0001-5000-0832 | 0000-0001-5000-0832 | NA                  | NA                  | Anabela             | COSTA               | NA                  | NA                  | NA                  | NA                  | NA                  | NA                  | NA                  | rn                  | \n",
       "| 0000-0001-5000-1202 | 0000-0001-5000-1202 | NA                  | NA                  | dawei               | NA                  | NA                  | NA                  | NA                  | NA                  | NA                  | NA                  | NA                  | rn                  | \n",
       "\n",
       "\n"
      ],
      "text/plain": [
       "  cvu                 orcid               curp dni nombres primer_apellido\n",
       "1 0000-0001-5000-0584 0000-0001-5000-0584 NA   NA  Benedek KURDI          \n",
       "2 0000-0001-5000-0592 0000-0001-5000-0592 NA   NA  fan     NA             \n",
       "3 0000-0001-5000-0664 0000-0001-5000-0664 NA   NA  Serap   DURUKAN KÖSE   \n",
       "4 0000-0001-5000-0699 0000-0001-5000-0699 NA   NA  qinghua WAN            \n",
       "5 0000-0001-5000-0832 0000-0001-5000-0832 NA   NA  Anabela COSTA          \n",
       "6 0000-0001-5000-1202 0000-0001-5000-1202 NA   NA  dawei   NA             \n",
       "  segundo_apellido afiliacion rn pais_de_nacimiento pais_asociado genero\n",
       "1 NA               NA         NA NA                 NA            NA    \n",
       "2 NA               NA         NA NA                 NA            NA    \n",
       "3 NA               NA         NA NA                 NA            NA    \n",
       "4 NA               NA         NA NA                 NA            NA    \n",
       "5 NA               NA         NA NA                 NA            NA    \n",
       "6 NA               NA         NA NA                 NA            NA    \n",
       "  fecha_de_nacimiento origen\n",
       "1 NA                  rn    \n",
       "2 NA                  rn    \n",
       "3 NA                  rn    \n",
       "4 NA                  rn    \n",
       "5 NA                  rn    \n",
       "6 NA                  rn    "
      ]
     },
     "metadata": {},
     "output_type": "display_data"
    }
   ],
   "source": [
    "rn <- full_join(rn_hoja1, rn_hoja2) %>% \n",
    "select(-id_persona, -id_institucion) %>% \n",
    "rename(cvu = id_cvu_conacyt, \n",
    "       orcid = id_orcid, \n",
    "      afiliacion = institucion) %>%\n",
    "mutate(rn = NA,\n",
    "      pais_de_nacimiento = NA, \n",
    "      pais_asociado = NA,\n",
    "      genero = NA, \n",
    "      fecha_de_nacimiento = NA,\n",
    "      origen = \"rn\") %>% \n",
    "mutate(nombres = nombres, #nombres = toupper(nombres)\n",
    "      primer_apellido = toupper(primer_apellido),\n",
    "      segundo_apellido = toupper(segundo_apellido))\n",
    "\n",
    "head(rn)"
   ]
  },
  {
   "cell_type": "code",
   "execution_count": 20,
   "metadata": {},
   "outputs": [
    {
     "data": {
      "text/html": [
       "<table>\n",
       "<thead><tr><th scope=col>cvu</th><th scope=col>orcid</th><th scope=col>curp</th><th scope=col>dni</th><th scope=col>nombres</th><th scope=col>primer_apellido</th><th scope=col>segundo_apellido</th><th scope=col>afiliacion</th><th scope=col>rn</th><th scope=col>pais_de_nacimiento</th><th scope=col>pais_asociado</th><th scope=col>genero</th><th scope=col>fecha_de_nacimiento</th><th scope=col>origen</th></tr></thead>\n",
       "<tbody>\n",
       "\t<tr><td>100038              </td><td>NA                  </td><td>ROCL700825HDFDHS06  </td><td>NA                  </td><td>JOSE LUIS           </td><td>RODRIGUEZ           </td><td>CHAVEZ              </td><td>NA                  </td><td>NA                  </td><td>NA                  </td><td>NA                  </td><td>NA                  </td><td>NA                  </td><td>rn                  </td></tr>\n",
       "\t<tr><td>100078              </td><td>NA                  </td><td>MAEC770515MJCRSL01  </td><td>NA                  </td><td>CLAUDIA             </td><td>MARQUEZ             </td><td>ESTRADA             </td><td>NA                  </td><td>NA                  </td><td>NA                  </td><td>NA                  </td><td>NA                  </td><td>NA                  </td><td>rn                  </td></tr>\n",
       "\t<tr><td>100156              </td><td>NA                  </td><td>LOOG770324MDFPRL07  </td><td>NA                  </td><td>GLORIA GABRIELA     </td><td>LOPEZ               </td><td>ORNELAS             </td><td>NA                  </td><td>NA                  </td><td>NA                  </td><td>NA                  </td><td>NA                  </td><td>NA                  </td><td>rn                  </td></tr>\n",
       "\t<tr><td>100158              </td><td>NA                  </td><td>GAVL760916MDFRLZ07  </td><td>NA                  </td><td>LUZ MARIA           </td><td>GRANADOS            </td><td>VILLARREAL          </td><td>NA                  </td><td>NA                  </td><td>NA                  </td><td>NA                  </td><td>NA                  </td><td>NA                  </td><td>rn                  </td></tr>\n",
       "\t<tr><td>100261              </td><td>NA                  </td><td>TUJL751217HJCRRZ03  </td><td>NA                  </td><td>LAZARO GABRIEL      </td><td>TRUJILLO            </td><td>JUAREZ              </td><td>NA                  </td><td>NA                  </td><td>NA                  </td><td>NA                  </td><td>NA                  </td><td>NA                  </td><td>rn                  </td></tr>\n",
       "\t<tr><td>100276              </td><td>NA                  </td><td>SAPE740916MDFNRD06  </td><td>NA                  </td><td>EDITH               </td><td>SANCHEZ             </td><td>PAREDES             </td><td>NA                  </td><td>NA                  </td><td>NA                  </td><td>NA                  </td><td>NA                  </td><td>NA                  </td><td>rn                  </td></tr>\n",
       "\t<tr><td>100287              </td><td>NA                  </td><td>CACM761106HJCLHR01  </td><td>NA                  </td><td>MARIZA              </td><td>CALDERON            </td><td>CHAVEZ              </td><td>NA                  </td><td>NA                  </td><td>NA                  </td><td>NA                  </td><td>NA                  </td><td>NA                  </td><td>rn                  </td></tr>\n",
       "\t<tr><td>100455              </td><td>NA                  </td><td>VAMM721103HJCLGR04  </td><td>NA                  </td><td>MARTIN              </td><td>VALLE               </td><td>MAGALLANES          </td><td>NA                  </td><td>NA                  </td><td>NA                  </td><td>NA                  </td><td>NA                  </td><td>NA                  </td><td>rn                  </td></tr>\n",
       "\t<tr><td>100479              </td><td>NA                  </td><td>HEAD761106HQTRRN02  </td><td>NA                  </td><td>DANIEL              </td><td>HERNANDEZ           </td><td>ARRIAGA             </td><td>NA                  </td><td>NA                  </td><td>NA                  </td><td>NA                  </td><td>NA                  </td><td>NA                  </td><td>rn                  </td></tr>\n",
       "\t<tr><td>100095              </td><td>NA                  </td><td>HERA740424MDFRQL00  </td><td>NA                  </td><td>ALEJANDRA           </td><td>HERNANDEZ           </td><td>ROQUE               </td><td>NA                  </td><td>NA                  </td><td>NA                  </td><td>NA                  </td><td>NA                  </td><td>NA                  </td><td>rn                  </td></tr>\n",
       "\t<tr><td>100101              </td><td>NA                  </td><td>HERA760920HPLRMN02  </td><td>NA                  </td><td>ANGEL HECTOR        </td><td>HERNANDEZ           </td><td>ROMERO              </td><td>NA                  </td><td>NA                  </td><td>NA                  </td><td>NA                  </td><td>NA                  </td><td>NA                  </td><td>rn                  </td></tr>\n",
       "\t<tr><td>100110              </td><td>NA                  </td><td>CULL740627MJCRRR00  </td><td>NA                  </td><td>LAURA ELENA         </td><td>CRUZ                </td><td>LARA                </td><td>NA                  </td><td>NA                  </td><td>NA                  </td><td>NA                  </td><td>NA                  </td><td>NA                  </td><td>rn                  </td></tr>\n",
       "\t<tr><td>100150              </td><td>NA                  </td><td>GANV641012HDFRVR09  </td><td>NA                  </td><td>VERONICA SOLEDAD    </td><td>GARZA               </td><td>NAVEJAS             </td><td>NA                  </td><td>NA                  </td><td>NA                  </td><td>NA                  </td><td>NA                  </td><td>NA                  </td><td>rn                  </td></tr>\n",
       "\t<tr><td>100259              </td><td>NA                  </td><td>MEUA730907MJCDRS06  </td><td>NA                  </td><td>MARIA DE LA ASUNCION</td><td>MEDELLIN            </td><td>URQUIAGA            </td><td>NA                  </td><td>NA                  </td><td>NA                  </td><td>NA                  </td><td>NA                  </td><td>NA                  </td><td>rn                  </td></tr>\n",
       "\t<tr><td>100260              </td><td>NA                  </td><td>GUEF760829HDFDLL02  </td><td>NA                  </td><td>FILIBERTO           </td><td>GUADALUPE           </td><td>ELIGIO              </td><td>NA                  </td><td>NA                  </td><td>NA                  </td><td>NA                  </td><td>NA                  </td><td>NA                  </td><td>rn                  </td></tr>\n",
       "\t<tr><td>100265              </td><td>NA                  </td><td>MOHD681122HJCLMN00  </td><td>NA                  </td><td>DANIEL ALEJANDRO    </td><td>MOLINA              </td><td>HAMPSHIRE           </td><td>NA                  </td><td>NA                  </td><td>NA                  </td><td>NA                  </td><td>NA                  </td><td>NA                  </td><td>rn                  </td></tr>\n",
       "\t<tr><td>100295              </td><td>NA                  </td><td>GACN760427MDFLNR04  </td><td>NA                  </td><td>NORMA ANGELICA      </td><td>GALICIA             </td><td>CANALES             </td><td>NA                  </td><td>NA                  </td><td>NA                  </td><td>NA                  </td><td>NA                  </td><td>NA                  </td><td>rn                  </td></tr>\n",
       "\t<tr><td>100298              </td><td>NA                  </td><td>OECD760712HTLRLN17  </td><td>NA                  </td><td>DANIEL DAGOBERTO    </td><td>ORTEGA              </td><td>CUELLAR             </td><td>NA                  </td><td>NA                  </td><td>NA                  </td><td>NA                  </td><td>NA                  </td><td>NA                  </td><td>rn                  </td></tr>\n",
       "\t<tr><td>100395              </td><td>NA                  </td><td>IAML720813HDFBNS09  </td><td>NA                  </td><td>JOSE LUIS           </td><td>IBARRA              </td><td>MONTOYA             </td><td>NA                  </td><td>NA                  </td><td>NA                  </td><td>NA                  </td><td>NA                  </td><td>NA                  </td><td>rn                  </td></tr>\n",
       "\t<tr><td>100432              </td><td>NA                  </td><td>ROAP781225MJCDRL09  </td><td>NA                  </td><td>PALOMA              </td><td>RODRIGUEZ           </td><td>ARIZPE              </td><td>NA                  </td><td>NA                  </td><td>NA                  </td><td>NA                  </td><td>NA                  </td><td>NA                  </td><td>rn                  </td></tr>\n",
       "\t<tr><td>100441              </td><td>NA                  </td><td>HEMR760816MVZRRC02  </td><td>NA                  </td><td>MARIA DEL ROCIO     </td><td>HERRERA             </td><td>MARTINEZ            </td><td>NA                  </td><td>NA                  </td><td>NA                  </td><td>NA                  </td><td>NA                  </td><td>NA                  </td><td>rn                  </td></tr>\n",
       "\t<tr><td>100453              </td><td>NA                  </td><td>GOVA591010MJCNND09  </td><td>NA                  </td><td>AIDA                </td><td>GONZALEZ            </td><td>VENEGAS             </td><td>NA                  </td><td>NA                  </td><td>NA                  </td><td>NA                  </td><td>NA                  </td><td>NA                  </td><td>rn                  </td></tr>\n",
       "\t<tr><td>100028              </td><td>NA                  </td><td>OISA760527MMCRRG04  </td><td>NA                  </td><td>AGUSTINA            </td><td>ORTIZ               </td><td>SORIANO             </td><td>NA                  </td><td>NA                  </td><td>NA                  </td><td>NA                  </td><td>NA                  </td><td>NA                  </td><td>rn                  </td></tr>\n",
       "\t<tr><td>100058              </td><td>NA                  </td><td>TEQG650108MDFRNB06  </td><td>NA                  </td><td>GABRIELA            </td><td>TERCERO             </td><td>QUINTANILLA         </td><td>NA                  </td><td>NA                  </td><td>NA                  </td><td>NA                  </td><td>NA                  </td><td>NA                  </td><td>rn                  </td></tr>\n",
       "\t<tr><td>100171              </td><td>NA                  </td><td>PEGJ730418HJCXNR03  </td><td>NA                  </td><td>JORGE IGNACIO       </td><td>PEÑA                </td><td>GONZALEZ            </td><td>NA                  </td><td>NA                  </td><td>NA                  </td><td>NA                  </td><td>NA                  </td><td>NA                  </td><td>rn                  </td></tr>\n",
       "\t<tr><td>100172              </td><td>NA                  </td><td>POPE671013HJCRCD09  </td><td>NA                  </td><td>EDUARDO             </td><td>PORTILLO            </td><td>PIOCO               </td><td>NA                  </td><td>NA                  </td><td>NA                  </td><td>NA                  </td><td>NA                  </td><td>NA                  </td><td>rn                  </td></tr>\n",
       "\t<tr><td>100250              </td><td>NA                  </td><td>PAGM730821MHGZRN00  </td><td>NA                  </td><td>MINERVA             </td><td>PAZ                 </td><td>GARCIA              </td><td>NA                  </td><td>NA                  </td><td>NA                  </td><td>NA                  </td><td>NA                  </td><td>NA                  </td><td>rn                  </td></tr>\n",
       "\t<tr><td>100272              </td><td>NA                  </td><td>NARO770927HTLVDM02  </td><td>NA                  </td><td>OMAR                </td><td>NAVA                </td><td>RODRIGUEZ           </td><td>NA                  </td><td>NA                  </td><td>NA                  </td><td>NA                  </td><td>NA                  </td><td>NA                  </td><td>rn                  </td></tr>\n",
       "\t<tr><td>100383              </td><td>NA                  </td><td>AOAR631112HPLLLN09  </td><td>NA                  </td><td>RENATO              </td><td>ALMORIN             </td><td>ALBINO              </td><td>NA                  </td><td>NA                  </td><td>NA                  </td><td>NA                  </td><td>NA                  </td><td>NA                  </td><td>rn                  </td></tr>\n",
       "\t<tr><td>100503              </td><td>NA                  </td><td>LODS581118HMNPZG05  </td><td>NA                  </td><td>SIGIFREDO           </td><td>LOPEZ               </td><td>DIAZ                </td><td>NA                  </td><td>NA                  </td><td>NA                  </td><td>NA                  </td><td>NA                  </td><td>NA                  </td><td>rn                  </td></tr>\n",
       "\t<tr><td>⋮</td><td>⋮</td><td>⋮</td><td>⋮</td><td>⋮</td><td>⋮</td><td>⋮</td><td>⋮</td><td>⋮</td><td>⋮</td><td>⋮</td><td>⋮</td><td>⋮</td><td>⋮</td></tr>\n",
       "\t<tr><td>397355                                  </td><td>NA                                      </td><td>SIRI770605HDFRYS18                      </td><td>NA                                      </td><td>Israel                                  </td><td>SIERRA                                  </td><td>REYES                                   </td><td>Instituto Politécnico Nacional (UPIICSA)</td><td>NA                                      </td><td>NA                                      </td><td>NA                                      </td><td>NA                                      </td><td>NA                                      </td><td>rn                                      </td></tr>\n",
       "\t<tr><td>295286                                  </td><td>NA                                      </td><td>NA                                      </td><td>NA                                      </td><td>Laura Patricia                          </td><td>MEDELLÍN                                </td><td>ROMERO                                  </td><td>Instituto Politécnico Nacional (UPIICSA)</td><td>NA                                      </td><td>NA                                      </td><td>NA                                      </td><td>NA                                      </td><td>NA                                      </td><td>rn                                      </td></tr>\n",
       "\t<tr><td>366366                                  </td><td>NA                                      </td><td>NA                                      </td><td>NA                                      </td><td>Susana Ignacia                          </td><td>SANTANA                                 </td><td>ALMORA                                  </td><td>Instituto Politécnico Nacional (UPIICSA)</td><td>NA                                      </td><td>NA                                      </td><td>NA                                      </td><td>NA                                      </td><td>NA                                      </td><td>rn                                      </td></tr>\n",
       "\t<tr><td>NA                                      </td><td>NA                                      </td><td>MAMR870223HDFRRY06                      </td><td>NA                                      </td><td>Raymundo Javier                         </td><td>MÁRQUEZ                                 </td><td>MÁRQUEZ                                 </td><td>Instituto Politécnico Nacional (UPIICSA)</td><td>NA                                      </td><td>NA                                      </td><td>NA                                      </td><td>NA                                      </td><td>NA                                      </td><td>rn                                      </td></tr>\n",
       "\t<tr><td>597368                                  </td><td>NA                                      </td><td>IIFL900809HDFNRS09                      </td><td>NA                                      </td><td>Luis Angel                              </td><td>INIESTRA                                </td><td>FRIAS                                   </td><td>Instituto Politécnico Nacional (UPIICSA)</td><td>NA                                      </td><td>NA                                      </td><td>NA                                      </td><td>NA                                      </td><td>NA                                      </td><td>rn                                      </td></tr>\n",
       "\t<tr><td>412147                                  </td><td>NA                                      </td><td>REGR870410HHGYRB04                      </td><td>NA                                      </td><td>José Roberto                            </td><td>REYES                                   </td><td>GARCÍA                                  </td><td>Instituto Politécnico Nacional (UPIICSA)</td><td>NA                                      </td><td>NA                                      </td><td>NA                                      </td><td>NA                                      </td><td>NA                                      </td><td>rn                                      </td></tr>\n",
       "\t<tr><td>NA                                      </td><td>NA                                      </td><td>MEEE820721HDFRSD14                      </td><td>NA                                      </td><td>Edgar Carlos                            </td><td>MERCADO                                 </td><td>ESQUIVEL                                </td><td>Instituto Politécnico Nacional (UPIICSA)</td><td>NA                                      </td><td>NA                                      </td><td>NA                                      </td><td>NA                                      </td><td>NA                                      </td><td>rn                                      </td></tr>\n",
       "\t<tr><td>295653                                  </td><td>NA                                      </td><td>NA                                      </td><td>NA                                      </td><td>Laura Isabel                            </td><td>GONZÁLEZ                                </td><td>PANTOJA                                 </td><td>Instituto Politécnico Nacional (UPIICSA)</td><td>NA                                      </td><td>NA                                      </td><td>NA                                      </td><td>NA                                      </td><td>NA                                      </td><td>rn                                      </td></tr>\n",
       "\t<tr><td>397263                                  </td><td>NA                                      </td><td>OIHG850725MDFRRD05                      </td><td>NA                                      </td><td>Guadalupe                               </td><td>ORTIZ                                   </td><td>HUERTA                                  </td><td>Instituto Politécnico Nacional (UPIICSA)</td><td>NA                                      </td><td>NA                                      </td><td>NA                                      </td><td>NA                                      </td><td>NA                                      </td><td>rn                                      </td></tr>\n",
       "\t<tr><td>487932                                  </td><td>NA                                      </td><td>NAFN870806HDFVGR01                      </td><td>NA                                      </td><td>Norman Ricardo                          </td><td>NAVARRETE                               </td><td>FIGUEROA                                </td><td>Instituto Politécnico Nacional (UPIICSA)</td><td>NA                                      </td><td>NA                                      </td><td>NA                                      </td><td>NA                                      </td><td>NA                                      </td><td>rn                                      </td></tr>\n",
       "\t<tr><td>488851                                  </td><td>NA                                      </td><td>DOCJ840206HDFMRN06                      </td><td>NA                                      </td><td>Jonathan                                </td><td>DOMÍNGUEZ                               </td><td>CORTES                                  </td><td>Instituto Politécnico Nacional (UPIICSA)</td><td>NA                                      </td><td>NA                                      </td><td>NA                                      </td><td>NA                                      </td><td>NA                                      </td><td>rn                                      </td></tr>\n",
       "\t<tr><td>488860                                  </td><td>NA                                      </td><td>MIGR870622HDFRMB07                      </td><td>NA                                      </td><td>Roberto                                 </td><td>MIRANDA                                 </td><td>GÓMEZ                                   </td><td>Instituto Politécnico Nacional (UPIICSA)</td><td>NA                                      </td><td>NA                                      </td><td>NA                                      </td><td>NA                                      </td><td>NA                                      </td><td>rn                                      </td></tr>\n",
       "\t<tr><td>NA                                      </td><td>NA                                      </td><td>NA                                      </td><td>NA                                      </td><td>Ernesto                                 </td><td>BRIONES                                 </td><td>ÁVILA                                   </td><td>NA                                      </td><td>NA                                      </td><td>NA                                      </td><td>NA                                      </td><td>NA                                      </td><td>NA                                      </td><td>rn                                      </td></tr>\n",
       "\t<tr><td>NA                                      </td><td>NA                                      </td><td>NA                                      </td><td>NA                                      </td><td>Atilano                                 </td><td>CONTRERAS                               </td><td>RAMOS                                   </td><td>NA                                      </td><td>NA                                      </td><td>NA                                      </td><td>NA                                      </td><td>NA                                      </td><td>NA                                      </td><td>rn                                      </td></tr>\n",
       "\t<tr><td>NA                                      </td><td>NA                                      </td><td>NA                                      </td><td>NA                                      </td><td>Arturo Isaías                           </td><td>ALLENDE                                 </td><td>FRAUSTO                                 </td><td>NA                                      </td><td>NA                                      </td><td>NA                                      </td><td>NA                                      </td><td>NA                                      </td><td>NA                                      </td><td>rn                                      </td></tr>\n",
       "\t<tr><td>NA                                      </td><td>NA                                      </td><td>NA                                      </td><td>NA                                      </td><td>Allan                                   </td><td>VICTOR                                  </td><td>RIBEIRO                                 </td><td>NA                                      </td><td>NA                                      </td><td>NA                                      </td><td>NA                                      </td><td>NA                                      </td><td>NA                                      </td><td>rn                                      </td></tr>\n",
       "\t<tr><td>NA                                      </td><td>NA                                      </td><td>NA                                      </td><td>NA                                      </td><td>Guillermo Alejandro                     </td><td>ALVARADO                                </td><td>ESPINOSA                                </td><td>NA                                      </td><td>NA                                      </td><td>NA                                      </td><td>NA                                      </td><td>NA                                      </td><td>NA                                      </td><td>rn                                      </td></tr>\n",
       "\t<tr><td>NA                                      </td><td>NA                                      </td><td>NA                                      </td><td>NA                                      </td><td>Pedro                                   </td><td>ÁLVAREZ                                 </td><td>CIFUENTES                               </td><td>NA                                      </td><td>NA                                      </td><td>NA                                      </td><td>NA                                      </td><td>NA                                      </td><td>NA                                      </td><td>rn                                      </td></tr>\n",
       "\t<tr><td>NA                                      </td><td>NA                                      </td><td>NA                                      </td><td>NA                                      </td><td>Shirley Thelma                          </td><td>BROMBERG                                </td><td>SILVERSTEIN                             </td><td>NA                                      </td><td>NA                                      </td><td>NA                                      </td><td>NA                                      </td><td>NA                                      </td><td>NA                                      </td><td>rn                                      </td></tr>\n",
       "\t<tr><td>NA                                      </td><td>NA                                      </td><td>NA                                      </td><td>NA                                      </td><td>Ricardo                                 </td><td>SERVÍN                                  </td><td>PICHARDO                                </td><td>NA                                      </td><td>NA                                      </td><td>NA                                      </td><td>NA                                      </td><td>NA                                      </td><td>NA                                      </td><td>rn                                      </td></tr>\n",
       "\t<tr><td>NA                                      </td><td>NA                                      </td><td>NA                                      </td><td>NA                                      </td><td>Myriam Lizette                          </td><td>ESTRADA                                 </td><td>PÉREZ                                   </td><td>NA                                      </td><td>NA                                      </td><td>NA                                      </td><td>NA                                      </td><td>NA                                      </td><td>NA                                      </td><td>rn                                      </td></tr>\n",
       "\t<tr><td>NA                                      </td><td>NA                                      </td><td>NA                                      </td><td>NA                                      </td><td>CLAUDIA                                 </td><td>ASTUDILLO                               </td><td>SÁNCHEZ                                 </td><td>NA                                      </td><td>NA                                      </td><td>NA                                      </td><td>NA                                      </td><td>NA                                      </td><td>NA                                      </td><td>rn                                      </td></tr>\n",
       "\t<tr><td>NA                                      </td><td>NA                                      </td><td>NA                                      </td><td>NA                                      </td><td>Rosa Isamar                             </td><td>WITKER                                  </td><td>OLIVARES                                </td><td>NA                                      </td><td>NA                                      </td><td>NA                                      </td><td>NA                                      </td><td>NA                                      </td><td>NA                                      </td><td>rn                                      </td></tr>\n",
       "\t<tr><td>NA                                      </td><td>NA                                      </td><td>NA                                      </td><td>NA                                      </td><td>Norma Hortensia                         </td><td>HERNÁNDEZ                               </td><td>GARCÍA                                  </td><td>NA                                      </td><td>NA                                      </td><td>NA                                      </td><td>NA                                      </td><td>NA                                      </td><td>NA                                      </td><td>rn                                      </td></tr>\n",
       "\t<tr><td>NA                                      </td><td>NA                                      </td><td>NA                                      </td><td>NA                                      </td><td>Flor                                    </td><td>HERNÁNDEZ                               </td><td>ARELLANO                                </td><td>NA                                      </td><td>NA                                      </td><td>NA                                      </td><td>NA                                      </td><td>NA                                      </td><td>NA                                      </td><td>rn                                      </td></tr>\n",
       "\t<tr><td>NA                                      </td><td>NA                                      </td><td>NA                                      </td><td>NA                                      </td><td>Luisel V.                               </td><td>RODRÍGUEZ                               </td><td>C.                                      </td><td>NA                                      </td><td>NA                                      </td><td>NA                                      </td><td>NA                                      </td><td>NA                                      </td><td>NA                                      </td><td>rn                                      </td></tr>\n",
       "\t<tr><td>NA                                      </td><td>NA                                      </td><td>NA                                      </td><td>NA                                      </td><td>Emilio Moises                           </td><td>RODRÍGUEZ                               </td><td>URIBE                                   </td><td>NA                                      </td><td>NA                                      </td><td>NA                                      </td><td>NA                                      </td><td>NA                                      </td><td>NA                                      </td><td>rn                                      </td></tr>\n",
       "\t<tr><td>NA                                      </td><td>NA                                      </td><td>NA                                      </td><td>NA                                      </td><td>Gabriela                                </td><td>INFANTE                                 </td><td>COSÍO                                   </td><td>NA                                      </td><td>NA                                      </td><td>NA                                      </td><td>NA                                      </td><td>NA                                      </td><td>NA                                      </td><td>rn                                      </td></tr>\n",
       "\t<tr><td>NA                                      </td><td>NA                                      </td><td>NA                                      </td><td>NA                                      </td><td>Gildardo                                </td><td>CID                                     </td><td>TORRES                                  </td><td>NA                                      </td><td>NA                                      </td><td>NA                                      </td><td>NA                                      </td><td>NA                                      </td><td>NA                                      </td><td>rn                                      </td></tr>\n",
       "\t<tr><td>NA                                      </td><td>NA                                      </td><td>NA                                      </td><td>NA                                      </td><td>Jean Roger                              </td><td>FRITCHE                                 </td><td>TAMISET                                 </td><td>NA                                      </td><td>NA                                      </td><td>NA                                      </td><td>NA                                      </td><td>NA                                      </td><td>NA                                      </td><td>rn                                      </td></tr>\n",
       "</tbody>\n",
       "</table>\n"
      ],
      "text/latex": [
       "\\begin{tabular}{r|llllllllllllll}\n",
       " cvu & orcid & curp & dni & nombres & primer\\_apellido & segundo\\_apellido & afiliacion & rn & pais\\_de\\_nacimiento & pais\\_asociado & genero & fecha\\_de\\_nacimiento & origen\\\\\n",
       "\\hline\n",
       "\t 100038               & NA                   & ROCL700825HDFDHS06   & NA                   & JOSE LUIS            & RODRIGUEZ            & CHAVEZ               & NA                   & NA                   & NA                   & NA                   & NA                   & NA                   & rn                  \\\\\n",
       "\t 100078               & NA                   & MAEC770515MJCRSL01   & NA                   & CLAUDIA              & MARQUEZ              & ESTRADA              & NA                   & NA                   & NA                   & NA                   & NA                   & NA                   & rn                  \\\\\n",
       "\t 100156               & NA                   & LOOG770324MDFPRL07   & NA                   & GLORIA GABRIELA      & LOPEZ                & ORNELAS              & NA                   & NA                   & NA                   & NA                   & NA                   & NA                   & rn                  \\\\\n",
       "\t 100158               & NA                   & GAVL760916MDFRLZ07   & NA                   & LUZ MARIA            & GRANADOS             & VILLARREAL           & NA                   & NA                   & NA                   & NA                   & NA                   & NA                   & rn                  \\\\\n",
       "\t 100261               & NA                   & TUJL751217HJCRRZ03   & NA                   & LAZARO GABRIEL       & TRUJILLO             & JUAREZ               & NA                   & NA                   & NA                   & NA                   & NA                   & NA                   & rn                  \\\\\n",
       "\t 100276               & NA                   & SAPE740916MDFNRD06   & NA                   & EDITH                & SANCHEZ              & PAREDES              & NA                   & NA                   & NA                   & NA                   & NA                   & NA                   & rn                  \\\\\n",
       "\t 100287               & NA                   & CACM761106HJCLHR01   & NA                   & MARIZA               & CALDERON             & CHAVEZ               & NA                   & NA                   & NA                   & NA                   & NA                   & NA                   & rn                  \\\\\n",
       "\t 100455               & NA                   & VAMM721103HJCLGR04   & NA                   & MARTIN               & VALLE                & MAGALLANES           & NA                   & NA                   & NA                   & NA                   & NA                   & NA                   & rn                  \\\\\n",
       "\t 100479               & NA                   & HEAD761106HQTRRN02   & NA                   & DANIEL               & HERNANDEZ            & ARRIAGA              & NA                   & NA                   & NA                   & NA                   & NA                   & NA                   & rn                  \\\\\n",
       "\t 100095               & NA                   & HERA740424MDFRQL00   & NA                   & ALEJANDRA            & HERNANDEZ            & ROQUE                & NA                   & NA                   & NA                   & NA                   & NA                   & NA                   & rn                  \\\\\n",
       "\t 100101               & NA                   & HERA760920HPLRMN02   & NA                   & ANGEL HECTOR         & HERNANDEZ            & ROMERO               & NA                   & NA                   & NA                   & NA                   & NA                   & NA                   & rn                  \\\\\n",
       "\t 100110               & NA                   & CULL740627MJCRRR00   & NA                   & LAURA ELENA          & CRUZ                 & LARA                 & NA                   & NA                   & NA                   & NA                   & NA                   & NA                   & rn                  \\\\\n",
       "\t 100150               & NA                   & GANV641012HDFRVR09   & NA                   & VERONICA SOLEDAD     & GARZA                & NAVEJAS              & NA                   & NA                   & NA                   & NA                   & NA                   & NA                   & rn                  \\\\\n",
       "\t 100259               & NA                   & MEUA730907MJCDRS06   & NA                   & MARIA DE LA ASUNCION & MEDELLIN             & URQUIAGA             & NA                   & NA                   & NA                   & NA                   & NA                   & NA                   & rn                  \\\\\n",
       "\t 100260               & NA                   & GUEF760829HDFDLL02   & NA                   & FILIBERTO            & GUADALUPE            & ELIGIO               & NA                   & NA                   & NA                   & NA                   & NA                   & NA                   & rn                  \\\\\n",
       "\t 100265               & NA                   & MOHD681122HJCLMN00   & NA                   & DANIEL ALEJANDRO     & MOLINA               & HAMPSHIRE            & NA                   & NA                   & NA                   & NA                   & NA                   & NA                   & rn                  \\\\\n",
       "\t 100295               & NA                   & GACN760427MDFLNR04   & NA                   & NORMA ANGELICA       & GALICIA              & CANALES              & NA                   & NA                   & NA                   & NA                   & NA                   & NA                   & rn                  \\\\\n",
       "\t 100298               & NA                   & OECD760712HTLRLN17   & NA                   & DANIEL DAGOBERTO     & ORTEGA               & CUELLAR              & NA                   & NA                   & NA                   & NA                   & NA                   & NA                   & rn                  \\\\\n",
       "\t 100395               & NA                   & IAML720813HDFBNS09   & NA                   & JOSE LUIS            & IBARRA               & MONTOYA              & NA                   & NA                   & NA                   & NA                   & NA                   & NA                   & rn                  \\\\\n",
       "\t 100432               & NA                   & ROAP781225MJCDRL09   & NA                   & PALOMA               & RODRIGUEZ            & ARIZPE               & NA                   & NA                   & NA                   & NA                   & NA                   & NA                   & rn                  \\\\\n",
       "\t 100441               & NA                   & HEMR760816MVZRRC02   & NA                   & MARIA DEL ROCIO      & HERRERA              & MARTINEZ             & NA                   & NA                   & NA                   & NA                   & NA                   & NA                   & rn                  \\\\\n",
       "\t 100453               & NA                   & GOVA591010MJCNND09   & NA                   & AIDA                 & GONZALEZ             & VENEGAS              & NA                   & NA                   & NA                   & NA                   & NA                   & NA                   & rn                  \\\\\n",
       "\t 100028               & NA                   & OISA760527MMCRRG04   & NA                   & AGUSTINA             & ORTIZ                & SORIANO              & NA                   & NA                   & NA                   & NA                   & NA                   & NA                   & rn                  \\\\\n",
       "\t 100058               & NA                   & TEQG650108MDFRNB06   & NA                   & GABRIELA             & TERCERO              & QUINTANILLA          & NA                   & NA                   & NA                   & NA                   & NA                   & NA                   & rn                  \\\\\n",
       "\t 100171               & NA                   & PEGJ730418HJCXNR03   & NA                   & JORGE IGNACIO        & PEÑA                 & GONZALEZ             & NA                   & NA                   & NA                   & NA                   & NA                   & NA                   & rn                  \\\\\n",
       "\t 100172               & NA                   & POPE671013HJCRCD09   & NA                   & EDUARDO              & PORTILLO             & PIOCO                & NA                   & NA                   & NA                   & NA                   & NA                   & NA                   & rn                  \\\\\n",
       "\t 100250               & NA                   & PAGM730821MHGZRN00   & NA                   & MINERVA              & PAZ                  & GARCIA               & NA                   & NA                   & NA                   & NA                   & NA                   & NA                   & rn                  \\\\\n",
       "\t 100272               & NA                   & NARO770927HTLVDM02   & NA                   & OMAR                 & NAVA                 & RODRIGUEZ            & NA                   & NA                   & NA                   & NA                   & NA                   & NA                   & rn                  \\\\\n",
       "\t 100383               & NA                   & AOAR631112HPLLLN09   & NA                   & RENATO               & ALMORIN              & ALBINO               & NA                   & NA                   & NA                   & NA                   & NA                   & NA                   & rn                  \\\\\n",
       "\t 100503               & NA                   & LODS581118HMNPZG05   & NA                   & SIGIFREDO            & LOPEZ                & DIAZ                 & NA                   & NA                   & NA                   & NA                   & NA                   & NA                   & rn                  \\\\\n",
       "\t ⋮ & ⋮ & ⋮ & ⋮ & ⋮ & ⋮ & ⋮ & ⋮ & ⋮ & ⋮ & ⋮ & ⋮ & ⋮ & ⋮\\\\\n",
       "\t 397355                                   & NA                                       & SIRI770605HDFRYS18                       & NA                                       & Israel                                   & SIERRA                                   & REYES                                    & Instituto Politécnico Nacional (UPIICSA) & NA                                       & NA                                       & NA                                       & NA                                       & NA                                       & rn                                      \\\\\n",
       "\t 295286                                   & NA                                       & NA                                       & NA                                       & Laura Patricia                           & MEDELLÍN                                 & ROMERO                                   & Instituto Politécnico Nacional (UPIICSA) & NA                                       & NA                                       & NA                                       & NA                                       & NA                                       & rn                                      \\\\\n",
       "\t 366366                                   & NA                                       & NA                                       & NA                                       & Susana Ignacia                           & SANTANA                                  & ALMORA                                   & Instituto Politécnico Nacional (UPIICSA) & NA                                       & NA                                       & NA                                       & NA                                       & NA                                       & rn                                      \\\\\n",
       "\t NA                                       & NA                                       & MAMR870223HDFRRY06                       & NA                                       & Raymundo Javier                          & MÁRQUEZ                                  & MÁRQUEZ                                  & Instituto Politécnico Nacional (UPIICSA) & NA                                       & NA                                       & NA                                       & NA                                       & NA                                       & rn                                      \\\\\n",
       "\t 597368                                   & NA                                       & IIFL900809HDFNRS09                       & NA                                       & Luis Angel                               & INIESTRA                                 & FRIAS                                    & Instituto Politécnico Nacional (UPIICSA) & NA                                       & NA                                       & NA                                       & NA                                       & NA                                       & rn                                      \\\\\n",
       "\t 412147                                   & NA                                       & REGR870410HHGYRB04                       & NA                                       & José Roberto                             & REYES                                    & GARCÍA                                   & Instituto Politécnico Nacional (UPIICSA) & NA                                       & NA                                       & NA                                       & NA                                       & NA                                       & rn                                      \\\\\n",
       "\t NA                                       & NA                                       & MEEE820721HDFRSD14                       & NA                                       & Edgar Carlos                             & MERCADO                                  & ESQUIVEL                                 & Instituto Politécnico Nacional (UPIICSA) & NA                                       & NA                                       & NA                                       & NA                                       & NA                                       & rn                                      \\\\\n",
       "\t 295653                                   & NA                                       & NA                                       & NA                                       & Laura Isabel                             & GONZÁLEZ                                 & PANTOJA                                  & Instituto Politécnico Nacional (UPIICSA) & NA                                       & NA                                       & NA                                       & NA                                       & NA                                       & rn                                      \\\\\n",
       "\t 397263                                   & NA                                       & OIHG850725MDFRRD05                       & NA                                       & Guadalupe                                & ORTIZ                                    & HUERTA                                   & Instituto Politécnico Nacional (UPIICSA) & NA                                       & NA                                       & NA                                       & NA                                       & NA                                       & rn                                      \\\\\n",
       "\t 487932                                   & NA                                       & NAFN870806HDFVGR01                       & NA                                       & Norman Ricardo                           & NAVARRETE                                & FIGUEROA                                 & Instituto Politécnico Nacional (UPIICSA) & NA                                       & NA                                       & NA                                       & NA                                       & NA                                       & rn                                      \\\\\n",
       "\t 488851                                   & NA                                       & DOCJ840206HDFMRN06                       & NA                                       & Jonathan                                 & DOMÍNGUEZ                                & CORTES                                   & Instituto Politécnico Nacional (UPIICSA) & NA                                       & NA                                       & NA                                       & NA                                       & NA                                       & rn                                      \\\\\n",
       "\t 488860                                   & NA                                       & MIGR870622HDFRMB07                       & NA                                       & Roberto                                  & MIRANDA                                  & GÓMEZ                                    & Instituto Politécnico Nacional (UPIICSA) & NA                                       & NA                                       & NA                                       & NA                                       & NA                                       & rn                                      \\\\\n",
       "\t NA                                       & NA                                       & NA                                       & NA                                       & Ernesto                                  & BRIONES                                  & ÁVILA                                    & NA                                       & NA                                       & NA                                       & NA                                       & NA                                       & NA                                       & rn                                      \\\\\n",
       "\t NA                                       & NA                                       & NA                                       & NA                                       & Atilano                                  & CONTRERAS                                & RAMOS                                    & NA                                       & NA                                       & NA                                       & NA                                       & NA                                       & NA                                       & rn                                      \\\\\n",
       "\t NA                                       & NA                                       & NA                                       & NA                                       & Arturo Isaías                            & ALLENDE                                  & FRAUSTO                                  & NA                                       & NA                                       & NA                                       & NA                                       & NA                                       & NA                                       & rn                                      \\\\\n",
       "\t NA                                       & NA                                       & NA                                       & NA                                       & Allan                                    & VICTOR                                   & RIBEIRO                                  & NA                                       & NA                                       & NA                                       & NA                                       & NA                                       & NA                                       & rn                                      \\\\\n",
       "\t NA                                       & NA                                       & NA                                       & NA                                       & Guillermo Alejandro                      & ALVARADO                                 & ESPINOSA                                 & NA                                       & NA                                       & NA                                       & NA                                       & NA                                       & NA                                       & rn                                      \\\\\n",
       "\t NA                                       & NA                                       & NA                                       & NA                                       & Pedro                                    & ÁLVAREZ                                  & CIFUENTES                                & NA                                       & NA                                       & NA                                       & NA                                       & NA                                       & NA                                       & rn                                      \\\\\n",
       "\t NA                                       & NA                                       & NA                                       & NA                                       & Shirley Thelma                           & BROMBERG                                 & SILVERSTEIN                              & NA                                       & NA                                       & NA                                       & NA                                       & NA                                       & NA                                       & rn                                      \\\\\n",
       "\t NA                                       & NA                                       & NA                                       & NA                                       & Ricardo                                  & SERVÍN                                   & PICHARDO                                 & NA                                       & NA                                       & NA                                       & NA                                       & NA                                       & NA                                       & rn                                      \\\\\n",
       "\t NA                                       & NA                                       & NA                                       & NA                                       & Myriam Lizette                           & ESTRADA                                  & PÉREZ                                    & NA                                       & NA                                       & NA                                       & NA                                       & NA                                       & NA                                       & rn                                      \\\\\n",
       "\t NA                                       & NA                                       & NA                                       & NA                                       & CLAUDIA                                  & ASTUDILLO                                & SÁNCHEZ                                  & NA                                       & NA                                       & NA                                       & NA                                       & NA                                       & NA                                       & rn                                      \\\\\n",
       "\t NA                                       & NA                                       & NA                                       & NA                                       & Rosa Isamar                              & WITKER                                   & OLIVARES                                 & NA                                       & NA                                       & NA                                       & NA                                       & NA                                       & NA                                       & rn                                      \\\\\n",
       "\t NA                                       & NA                                       & NA                                       & NA                                       & Norma Hortensia                          & HERNÁNDEZ                                & GARCÍA                                   & NA                                       & NA                                       & NA                                       & NA                                       & NA                                       & NA                                       & rn                                      \\\\\n",
       "\t NA                                       & NA                                       & NA                                       & NA                                       & Flor                                     & HERNÁNDEZ                                & ARELLANO                                 & NA                                       & NA                                       & NA                                       & NA                                       & NA                                       & NA                                       & rn                                      \\\\\n",
       "\t NA                                       & NA                                       & NA                                       & NA                                       & Luisel V.                                & RODRÍGUEZ                                & C.                                       & NA                                       & NA                                       & NA                                       & NA                                       & NA                                       & NA                                       & rn                                      \\\\\n",
       "\t NA                                       & NA                                       & NA                                       & NA                                       & Emilio Moises                            & RODRÍGUEZ                                & URIBE                                    & NA                                       & NA                                       & NA                                       & NA                                       & NA                                       & NA                                       & rn                                      \\\\\n",
       "\t NA                                       & NA                                       & NA                                       & NA                                       & Gabriela                                 & INFANTE                                  & COSÍO                                    & NA                                       & NA                                       & NA                                       & NA                                       & NA                                       & NA                                       & rn                                      \\\\\n",
       "\t NA                                       & NA                                       & NA                                       & NA                                       & Gildardo                                 & CID                                      & TORRES                                   & NA                                       & NA                                       & NA                                       & NA                                       & NA                                       & NA                                       & rn                                      \\\\\n",
       "\t NA                                       & NA                                       & NA                                       & NA                                       & Jean Roger                               & FRITCHE                                  & TAMISET                                  & NA                                       & NA                                       & NA                                       & NA                                       & NA                                       & NA                                       & rn                                      \\\\\n",
       "\\end{tabular}\n"
      ],
      "text/markdown": [
       "\n",
       "cvu | orcid | curp | dni | nombres | primer_apellido | segundo_apellido | afiliacion | rn | pais_de_nacimiento | pais_asociado | genero | fecha_de_nacimiento | origen | \n",
       "|---|---|---|---|---|---|---|---|---|---|---|---|---|---|---|---|---|---|---|---|---|---|---|---|---|---|---|---|---|---|---|---|---|---|---|---|---|---|---|---|---|---|---|---|---|---|---|---|---|---|---|---|---|---|---|---|---|---|---|---|---|\n",
       "| 100038               | NA                   | ROCL700825HDFDHS06   | NA                   | JOSE LUIS            | RODRIGUEZ            | CHAVEZ               | NA                   | NA                   | NA                   | NA                   | NA                   | NA                   | rn                   | \n",
       "| 100078               | NA                   | MAEC770515MJCRSL01   | NA                   | CLAUDIA              | MARQUEZ              | ESTRADA              | NA                   | NA                   | NA                   | NA                   | NA                   | NA                   | rn                   | \n",
       "| 100156               | NA                   | LOOG770324MDFPRL07   | NA                   | GLORIA GABRIELA      | LOPEZ                | ORNELAS              | NA                   | NA                   | NA                   | NA                   | NA                   | NA                   | rn                   | \n",
       "| 100158               | NA                   | GAVL760916MDFRLZ07   | NA                   | LUZ MARIA            | GRANADOS             | VILLARREAL           | NA                   | NA                   | NA                   | NA                   | NA                   | NA                   | rn                   | \n",
       "| 100261               | NA                   | TUJL751217HJCRRZ03   | NA                   | LAZARO GABRIEL       | TRUJILLO             | JUAREZ               | NA                   | NA                   | NA                   | NA                   | NA                   | NA                   | rn                   | \n",
       "| 100276               | NA                   | SAPE740916MDFNRD06   | NA                   | EDITH                | SANCHEZ              | PAREDES              | NA                   | NA                   | NA                   | NA                   | NA                   | NA                   | rn                   | \n",
       "| 100287               | NA                   | CACM761106HJCLHR01   | NA                   | MARIZA               | CALDERON             | CHAVEZ               | NA                   | NA                   | NA                   | NA                   | NA                   | NA                   | rn                   | \n",
       "| 100455               | NA                   | VAMM721103HJCLGR04   | NA                   | MARTIN               | VALLE                | MAGALLANES           | NA                   | NA                   | NA                   | NA                   | NA                   | NA                   | rn                   | \n",
       "| 100479               | NA                   | HEAD761106HQTRRN02   | NA                   | DANIEL               | HERNANDEZ            | ARRIAGA              | NA                   | NA                   | NA                   | NA                   | NA                   | NA                   | rn                   | \n",
       "| 100095               | NA                   | HERA740424MDFRQL00   | NA                   | ALEJANDRA            | HERNANDEZ            | ROQUE                | NA                   | NA                   | NA                   | NA                   | NA                   | NA                   | rn                   | \n",
       "| 100101               | NA                   | HERA760920HPLRMN02   | NA                   | ANGEL HECTOR         | HERNANDEZ            | ROMERO               | NA                   | NA                   | NA                   | NA                   | NA                   | NA                   | rn                   | \n",
       "| 100110               | NA                   | CULL740627MJCRRR00   | NA                   | LAURA ELENA          | CRUZ                 | LARA                 | NA                   | NA                   | NA                   | NA                   | NA                   | NA                   | rn                   | \n",
       "| 100150               | NA                   | GANV641012HDFRVR09   | NA                   | VERONICA SOLEDAD     | GARZA                | NAVEJAS              | NA                   | NA                   | NA                   | NA                   | NA                   | NA                   | rn                   | \n",
       "| 100259               | NA                   | MEUA730907MJCDRS06   | NA                   | MARIA DE LA ASUNCION | MEDELLIN             | URQUIAGA             | NA                   | NA                   | NA                   | NA                   | NA                   | NA                   | rn                   | \n",
       "| 100260               | NA                   | GUEF760829HDFDLL02   | NA                   | FILIBERTO            | GUADALUPE            | ELIGIO               | NA                   | NA                   | NA                   | NA                   | NA                   | NA                   | rn                   | \n",
       "| 100265               | NA                   | MOHD681122HJCLMN00   | NA                   | DANIEL ALEJANDRO     | MOLINA               | HAMPSHIRE            | NA                   | NA                   | NA                   | NA                   | NA                   | NA                   | rn                   | \n",
       "| 100295               | NA                   | GACN760427MDFLNR04   | NA                   | NORMA ANGELICA       | GALICIA              | CANALES              | NA                   | NA                   | NA                   | NA                   | NA                   | NA                   | rn                   | \n",
       "| 100298               | NA                   | OECD760712HTLRLN17   | NA                   | DANIEL DAGOBERTO     | ORTEGA               | CUELLAR              | NA                   | NA                   | NA                   | NA                   | NA                   | NA                   | rn                   | \n",
       "| 100395               | NA                   | IAML720813HDFBNS09   | NA                   | JOSE LUIS            | IBARRA               | MONTOYA              | NA                   | NA                   | NA                   | NA                   | NA                   | NA                   | rn                   | \n",
       "| 100432               | NA                   | ROAP781225MJCDRL09   | NA                   | PALOMA               | RODRIGUEZ            | ARIZPE               | NA                   | NA                   | NA                   | NA                   | NA                   | NA                   | rn                   | \n",
       "| 100441               | NA                   | HEMR760816MVZRRC02   | NA                   | MARIA DEL ROCIO      | HERRERA              | MARTINEZ             | NA                   | NA                   | NA                   | NA                   | NA                   | NA                   | rn                   | \n",
       "| 100453               | NA                   | GOVA591010MJCNND09   | NA                   | AIDA                 | GONZALEZ             | VENEGAS              | NA                   | NA                   | NA                   | NA                   | NA                   | NA                   | rn                   | \n",
       "| 100028               | NA                   | OISA760527MMCRRG04   | NA                   | AGUSTINA             | ORTIZ                | SORIANO              | NA                   | NA                   | NA                   | NA                   | NA                   | NA                   | rn                   | \n",
       "| 100058               | NA                   | TEQG650108MDFRNB06   | NA                   | GABRIELA             | TERCERO              | QUINTANILLA          | NA                   | NA                   | NA                   | NA                   | NA                   | NA                   | rn                   | \n",
       "| 100171               | NA                   | PEGJ730418HJCXNR03   | NA                   | JORGE IGNACIO        | PEÑA                 | GONZALEZ             | NA                   | NA                   | NA                   | NA                   | NA                   | NA                   | rn                   | \n",
       "| 100172               | NA                   | POPE671013HJCRCD09   | NA                   | EDUARDO              | PORTILLO             | PIOCO                | NA                   | NA                   | NA                   | NA                   | NA                   | NA                   | rn                   | \n",
       "| 100250               | NA                   | PAGM730821MHGZRN00   | NA                   | MINERVA              | PAZ                  | GARCIA               | NA                   | NA                   | NA                   | NA                   | NA                   | NA                   | rn                   | \n",
       "| 100272               | NA                   | NARO770927HTLVDM02   | NA                   | OMAR                 | NAVA                 | RODRIGUEZ            | NA                   | NA                   | NA                   | NA                   | NA                   | NA                   | rn                   | \n",
       "| 100383               | NA                   | AOAR631112HPLLLN09   | NA                   | RENATO               | ALMORIN              | ALBINO               | NA                   | NA                   | NA                   | NA                   | NA                   | NA                   | rn                   | \n",
       "| 100503               | NA                   | LODS581118HMNPZG05   | NA                   | SIGIFREDO            | LOPEZ                | DIAZ                 | NA                   | NA                   | NA                   | NA                   | NA                   | NA                   | rn                   | \n",
       "| ⋮ | ⋮ | ⋮ | ⋮ | ⋮ | ⋮ | ⋮ | ⋮ | ⋮ | ⋮ | ⋮ | ⋮ | ⋮ | ⋮ | \n",
       "| 397355                                   | NA                                       | SIRI770605HDFRYS18                       | NA                                       | Israel                                   | SIERRA                                   | REYES                                    | Instituto Politécnico Nacional (UPIICSA) | NA                                       | NA                                       | NA                                       | NA                                       | NA                                       | rn                                       | \n",
       "| 295286                                   | NA                                       | NA                                       | NA                                       | Laura Patricia                           | MEDELLÍN                                 | ROMERO                                   | Instituto Politécnico Nacional (UPIICSA) | NA                                       | NA                                       | NA                                       | NA                                       | NA                                       | rn                                       | \n",
       "| 366366                                   | NA                                       | NA                                       | NA                                       | Susana Ignacia                           | SANTANA                                  | ALMORA                                   | Instituto Politécnico Nacional (UPIICSA) | NA                                       | NA                                       | NA                                       | NA                                       | NA                                       | rn                                       | \n",
       "| NA                                       | NA                                       | MAMR870223HDFRRY06                       | NA                                       | Raymundo Javier                          | MÁRQUEZ                                  | MÁRQUEZ                                  | Instituto Politécnico Nacional (UPIICSA) | NA                                       | NA                                       | NA                                       | NA                                       | NA                                       | rn                                       | \n",
       "| 597368                                   | NA                                       | IIFL900809HDFNRS09                       | NA                                       | Luis Angel                               | INIESTRA                                 | FRIAS                                    | Instituto Politécnico Nacional (UPIICSA) | NA                                       | NA                                       | NA                                       | NA                                       | NA                                       | rn                                       | \n",
       "| 412147                                   | NA                                       | REGR870410HHGYRB04                       | NA                                       | José Roberto                             | REYES                                    | GARCÍA                                   | Instituto Politécnico Nacional (UPIICSA) | NA                                       | NA                                       | NA                                       | NA                                       | NA                                       | rn                                       | \n",
       "| NA                                       | NA                                       | MEEE820721HDFRSD14                       | NA                                       | Edgar Carlos                             | MERCADO                                  | ESQUIVEL                                 | Instituto Politécnico Nacional (UPIICSA) | NA                                       | NA                                       | NA                                       | NA                                       | NA                                       | rn                                       | \n",
       "| 295653                                   | NA                                       | NA                                       | NA                                       | Laura Isabel                             | GONZÁLEZ                                 | PANTOJA                                  | Instituto Politécnico Nacional (UPIICSA) | NA                                       | NA                                       | NA                                       | NA                                       | NA                                       | rn                                       | \n",
       "| 397263                                   | NA                                       | OIHG850725MDFRRD05                       | NA                                       | Guadalupe                                | ORTIZ                                    | HUERTA                                   | Instituto Politécnico Nacional (UPIICSA) | NA                                       | NA                                       | NA                                       | NA                                       | NA                                       | rn                                       | \n",
       "| 487932                                   | NA                                       | NAFN870806HDFVGR01                       | NA                                       | Norman Ricardo                           | NAVARRETE                                | FIGUEROA                                 | Instituto Politécnico Nacional (UPIICSA) | NA                                       | NA                                       | NA                                       | NA                                       | NA                                       | rn                                       | \n",
       "| 488851                                   | NA                                       | DOCJ840206HDFMRN06                       | NA                                       | Jonathan                                 | DOMÍNGUEZ                                | CORTES                                   | Instituto Politécnico Nacional (UPIICSA) | NA                                       | NA                                       | NA                                       | NA                                       | NA                                       | rn                                       | \n",
       "| 488860                                   | NA                                       | MIGR870622HDFRMB07                       | NA                                       | Roberto                                  | MIRANDA                                  | GÓMEZ                                    | Instituto Politécnico Nacional (UPIICSA) | NA                                       | NA                                       | NA                                       | NA                                       | NA                                       | rn                                       | \n",
       "| NA                                       | NA                                       | NA                                       | NA                                       | Ernesto                                  | BRIONES                                  | ÁVILA                                    | NA                                       | NA                                       | NA                                       | NA                                       | NA                                       | NA                                       | rn                                       | \n",
       "| NA                                       | NA                                       | NA                                       | NA                                       | Atilano                                  | CONTRERAS                                | RAMOS                                    | NA                                       | NA                                       | NA                                       | NA                                       | NA                                       | NA                                       | rn                                       | \n",
       "| NA                                       | NA                                       | NA                                       | NA                                       | Arturo Isaías                            | ALLENDE                                  | FRAUSTO                                  | NA                                       | NA                                       | NA                                       | NA                                       | NA                                       | NA                                       | rn                                       | \n",
       "| NA                                       | NA                                       | NA                                       | NA                                       | Allan                                    | VICTOR                                   | RIBEIRO                                  | NA                                       | NA                                       | NA                                       | NA                                       | NA                                       | NA                                       | rn                                       | \n",
       "| NA                                       | NA                                       | NA                                       | NA                                       | Guillermo Alejandro                      | ALVARADO                                 | ESPINOSA                                 | NA                                       | NA                                       | NA                                       | NA                                       | NA                                       | NA                                       | rn                                       | \n",
       "| NA                                       | NA                                       | NA                                       | NA                                       | Pedro                                    | ÁLVAREZ                                  | CIFUENTES                                | NA                                       | NA                                       | NA                                       | NA                                       | NA                                       | NA                                       | rn                                       | \n",
       "| NA                                       | NA                                       | NA                                       | NA                                       | Shirley Thelma                           | BROMBERG                                 | SILVERSTEIN                              | NA                                       | NA                                       | NA                                       | NA                                       | NA                                       | NA                                       | rn                                       | \n",
       "| NA                                       | NA                                       | NA                                       | NA                                       | Ricardo                                  | SERVÍN                                   | PICHARDO                                 | NA                                       | NA                                       | NA                                       | NA                                       | NA                                       | NA                                       | rn                                       | \n",
       "| NA                                       | NA                                       | NA                                       | NA                                       | Myriam Lizette                           | ESTRADA                                  | PÉREZ                                    | NA                                       | NA                                       | NA                                       | NA                                       | NA                                       | NA                                       | rn                                       | \n",
       "| NA                                       | NA                                       | NA                                       | NA                                       | CLAUDIA                                  | ASTUDILLO                                | SÁNCHEZ                                  | NA                                       | NA                                       | NA                                       | NA                                       | NA                                       | NA                                       | rn                                       | \n",
       "| NA                                       | NA                                       | NA                                       | NA                                       | Rosa Isamar                              | WITKER                                   | OLIVARES                                 | NA                                       | NA                                       | NA                                       | NA                                       | NA                                       | NA                                       | rn                                       | \n",
       "| NA                                       | NA                                       | NA                                       | NA                                       | Norma Hortensia                          | HERNÁNDEZ                                | GARCÍA                                   | NA                                       | NA                                       | NA                                       | NA                                       | NA                                       | NA                                       | rn                                       | \n",
       "| NA                                       | NA                                       | NA                                       | NA                                       | Flor                                     | HERNÁNDEZ                                | ARELLANO                                 | NA                                       | NA                                       | NA                                       | NA                                       | NA                                       | NA                                       | rn                                       | \n",
       "| NA                                       | NA                                       | NA                                       | NA                                       | Luisel V.                                | RODRÍGUEZ                                | C.                                       | NA                                       | NA                                       | NA                                       | NA                                       | NA                                       | NA                                       | rn                                       | \n",
       "| NA                                       | NA                                       | NA                                       | NA                                       | Emilio Moises                            | RODRÍGUEZ                                | URIBE                                    | NA                                       | NA                                       | NA                                       | NA                                       | NA                                       | NA                                       | rn                                       | \n",
       "| NA                                       | NA                                       | NA                                       | NA                                       | Gabriela                                 | INFANTE                                  | COSÍO                                    | NA                                       | NA                                       | NA                                       | NA                                       | NA                                       | NA                                       | rn                                       | \n",
       "| NA                                       | NA                                       | NA                                       | NA                                       | Gildardo                                 | CID                                      | TORRES                                   | NA                                       | NA                                       | NA                                       | NA                                       | NA                                       | NA                                       | rn                                       | \n",
       "| NA                                       | NA                                       | NA                                       | NA                                       | Jean Roger                               | FRITCHE                                  | TAMISET                                  | NA                                       | NA                                       | NA                                       | NA                                       | NA                                       | NA                                       | rn                                       | \n",
       "\n",
       "\n"
      ],
      "text/plain": [
       "       cvu    orcid curp               dni nombres              primer_apellido\n",
       "1      100038 NA    ROCL700825HDFDHS06 NA  JOSE LUIS            RODRIGUEZ      \n",
       "2      100078 NA    MAEC770515MJCRSL01 NA  CLAUDIA              MARQUEZ        \n",
       "3      100156 NA    LOOG770324MDFPRL07 NA  GLORIA GABRIELA      LOPEZ          \n",
       "4      100158 NA    GAVL760916MDFRLZ07 NA  LUZ MARIA            GRANADOS       \n",
       "5      100261 NA    TUJL751217HJCRRZ03 NA  LAZARO GABRIEL       TRUJILLO       \n",
       "6      100276 NA    SAPE740916MDFNRD06 NA  EDITH                SANCHEZ        \n",
       "7      100287 NA    CACM761106HJCLHR01 NA  MARIZA               CALDERON       \n",
       "8      100455 NA    VAMM721103HJCLGR04 NA  MARTIN               VALLE          \n",
       "9      100479 NA    HEAD761106HQTRRN02 NA  DANIEL               HERNANDEZ      \n",
       "10     100095 NA    HERA740424MDFRQL00 NA  ALEJANDRA            HERNANDEZ      \n",
       "11     100101 NA    HERA760920HPLRMN02 NA  ANGEL HECTOR         HERNANDEZ      \n",
       "12     100110 NA    CULL740627MJCRRR00 NA  LAURA ELENA          CRUZ           \n",
       "13     100150 NA    GANV641012HDFRVR09 NA  VERONICA SOLEDAD     GARZA          \n",
       "14     100259 NA    MEUA730907MJCDRS06 NA  MARIA DE LA ASUNCION MEDELLIN       \n",
       "15     100260 NA    GUEF760829HDFDLL02 NA  FILIBERTO            GUADALUPE      \n",
       "16     100265 NA    MOHD681122HJCLMN00 NA  DANIEL ALEJANDRO     MOLINA         \n",
       "17     100295 NA    GACN760427MDFLNR04 NA  NORMA ANGELICA       GALICIA        \n",
       "18     100298 NA    OECD760712HTLRLN17 NA  DANIEL DAGOBERTO     ORTEGA         \n",
       "19     100395 NA    IAML720813HDFBNS09 NA  JOSE LUIS            IBARRA         \n",
       "20     100432 NA    ROAP781225MJCDRL09 NA  PALOMA               RODRIGUEZ      \n",
       "21     100441 NA    HEMR760816MVZRRC02 NA  MARIA DEL ROCIO      HERRERA        \n",
       "22     100453 NA    GOVA591010MJCNND09 NA  AIDA                 GONZALEZ       \n",
       "23     100028 NA    OISA760527MMCRRG04 NA  AGUSTINA             ORTIZ          \n",
       "24     100058 NA    TEQG650108MDFRNB06 NA  GABRIELA             TERCERO        \n",
       "25     100171 NA    PEGJ730418HJCXNR03 NA  JORGE IGNACIO        PEÑA           \n",
       "26     100172 NA    POPE671013HJCRCD09 NA  EDUARDO              PORTILLO       \n",
       "27     100250 NA    PAGM730821MHGZRN00 NA  MINERVA              PAZ            \n",
       "28     100272 NA    NARO770927HTLVDM02 NA  OMAR                 NAVA           \n",
       "29     100383 NA    AOAR631112HPLLLN09 NA  RENATO               ALMORIN        \n",
       "30     100503 NA    LODS581118HMNPZG05 NA  SIGIFREDO            LOPEZ          \n",
       "⋮      ⋮      ⋮     ⋮                  ⋮   ⋮                    ⋮              \n",
       "391806 397355 NA    SIRI770605HDFRYS18 NA  Israel               SIERRA         \n",
       "391807 295286 NA    NA                 NA  Laura Patricia       MEDELLÍN       \n",
       "391808 366366 NA    NA                 NA  Susana Ignacia       SANTANA        \n",
       "391809 NA     NA    MAMR870223HDFRRY06 NA  Raymundo Javier      MÁRQUEZ        \n",
       "391810 597368 NA    IIFL900809HDFNRS09 NA  Luis Angel           INIESTRA       \n",
       "391811 412147 NA    REGR870410HHGYRB04 NA  José Roberto         REYES          \n",
       "391812 NA     NA    MEEE820721HDFRSD14 NA  Edgar Carlos         MERCADO        \n",
       "391813 295653 NA    NA                 NA  Laura Isabel         GONZÁLEZ       \n",
       "391814 397263 NA    OIHG850725MDFRRD05 NA  Guadalupe            ORTIZ          \n",
       "391815 487932 NA    NAFN870806HDFVGR01 NA  Norman Ricardo       NAVARRETE      \n",
       "391816 488851 NA    DOCJ840206HDFMRN06 NA  Jonathan             DOMÍNGUEZ      \n",
       "391817 488860 NA    MIGR870622HDFRMB07 NA  Roberto              MIRANDA        \n",
       "391818 NA     NA    NA                 NA  Ernesto              BRIONES        \n",
       "391819 NA     NA    NA                 NA  Atilano              CONTRERAS      \n",
       "391820 NA     NA    NA                 NA  Arturo Isaías        ALLENDE        \n",
       "391821 NA     NA    NA                 NA  Allan                VICTOR         \n",
       "391822 NA     NA    NA                 NA  Guillermo Alejandro  ALVARADO       \n",
       "391823 NA     NA    NA                 NA  Pedro                ÁLVAREZ        \n",
       "391824 NA     NA    NA                 NA  Shirley Thelma       BROMBERG       \n",
       "391825 NA     NA    NA                 NA  Ricardo              SERVÍN         \n",
       "391826 NA     NA    NA                 NA  Myriam Lizette       ESTRADA        \n",
       "391827 NA     NA    NA                 NA  CLAUDIA              ASTUDILLO      \n",
       "391828 NA     NA    NA                 NA  Rosa Isamar          WITKER         \n",
       "391829 NA     NA    NA                 NA  Norma Hortensia      HERNÁNDEZ      \n",
       "391830 NA     NA    NA                 NA  Flor                 HERNÁNDEZ      \n",
       "391831 NA     NA    NA                 NA  Luisel V.            RODRÍGUEZ      \n",
       "391832 NA     NA    NA                 NA  Emilio Moises        RODRÍGUEZ      \n",
       "391833 NA     NA    NA                 NA  Gabriela             INFANTE        \n",
       "391834 NA     NA    NA                 NA  Gildardo             CID            \n",
       "391835 NA     NA    NA                 NA  Jean Roger           FRITCHE        \n",
       "       segundo_apellido afiliacion                               rn\n",
       "1      CHAVEZ           NA                                       NA\n",
       "2      ESTRADA          NA                                       NA\n",
       "3      ORNELAS          NA                                       NA\n",
       "4      VILLARREAL       NA                                       NA\n",
       "5      JUAREZ           NA                                       NA\n",
       "6      PAREDES          NA                                       NA\n",
       "7      CHAVEZ           NA                                       NA\n",
       "8      MAGALLANES       NA                                       NA\n",
       "9      ARRIAGA          NA                                       NA\n",
       "10     ROQUE            NA                                       NA\n",
       "11     ROMERO           NA                                       NA\n",
       "12     LARA             NA                                       NA\n",
       "13     NAVEJAS          NA                                       NA\n",
       "14     URQUIAGA         NA                                       NA\n",
       "15     ELIGIO           NA                                       NA\n",
       "16     HAMPSHIRE        NA                                       NA\n",
       "17     CANALES          NA                                       NA\n",
       "18     CUELLAR          NA                                       NA\n",
       "19     MONTOYA          NA                                       NA\n",
       "20     ARIZPE           NA                                       NA\n",
       "21     MARTINEZ         NA                                       NA\n",
       "22     VENEGAS          NA                                       NA\n",
       "23     SORIANO          NA                                       NA\n",
       "24     QUINTANILLA      NA                                       NA\n",
       "25     GONZALEZ         NA                                       NA\n",
       "26     PIOCO            NA                                       NA\n",
       "27     GARCIA           NA                                       NA\n",
       "28     RODRIGUEZ        NA                                       NA\n",
       "29     ALBINO           NA                                       NA\n",
       "30     DIAZ             NA                                       NA\n",
       "⋮      ⋮                ⋮                                        ⋮ \n",
       "391806 REYES            Instituto Politécnico Nacional (UPIICSA) NA\n",
       "391807 ROMERO           Instituto Politécnico Nacional (UPIICSA) NA\n",
       "391808 ALMORA           Instituto Politécnico Nacional (UPIICSA) NA\n",
       "391809 MÁRQUEZ          Instituto Politécnico Nacional (UPIICSA) NA\n",
       "391810 FRIAS            Instituto Politécnico Nacional (UPIICSA) NA\n",
       "391811 GARCÍA           Instituto Politécnico Nacional (UPIICSA) NA\n",
       "391812 ESQUIVEL         Instituto Politécnico Nacional (UPIICSA) NA\n",
       "391813 PANTOJA          Instituto Politécnico Nacional (UPIICSA) NA\n",
       "391814 HUERTA           Instituto Politécnico Nacional (UPIICSA) NA\n",
       "391815 FIGUEROA         Instituto Politécnico Nacional (UPIICSA) NA\n",
       "391816 CORTES           Instituto Politécnico Nacional (UPIICSA) NA\n",
       "391817 GÓMEZ            Instituto Politécnico Nacional (UPIICSA) NA\n",
       "391818 ÁVILA            NA                                       NA\n",
       "391819 RAMOS            NA                                       NA\n",
       "391820 FRAUSTO          NA                                       NA\n",
       "391821 RIBEIRO          NA                                       NA\n",
       "391822 ESPINOSA         NA                                       NA\n",
       "391823 CIFUENTES        NA                                       NA\n",
       "391824 SILVERSTEIN      NA                                       NA\n",
       "391825 PICHARDO         NA                                       NA\n",
       "391826 PÉREZ            NA                                       NA\n",
       "391827 SÁNCHEZ          NA                                       NA\n",
       "391828 OLIVARES         NA                                       NA\n",
       "391829 GARCÍA           NA                                       NA\n",
       "391830 ARELLANO         NA                                       NA\n",
       "391831 C.               NA                                       NA\n",
       "391832 URIBE            NA                                       NA\n",
       "391833 COSÍO            NA                                       NA\n",
       "391834 TORRES           NA                                       NA\n",
       "391835 TAMISET          NA                                       NA\n",
       "       pais_de_nacimiento pais_asociado genero fecha_de_nacimiento origen\n",
       "1      NA                 NA            NA     NA                  rn    \n",
       "2      NA                 NA            NA     NA                  rn    \n",
       "3      NA                 NA            NA     NA                  rn    \n",
       "4      NA                 NA            NA     NA                  rn    \n",
       "5      NA                 NA            NA     NA                  rn    \n",
       "6      NA                 NA            NA     NA                  rn    \n",
       "7      NA                 NA            NA     NA                  rn    \n",
       "8      NA                 NA            NA     NA                  rn    \n",
       "9      NA                 NA            NA     NA                  rn    \n",
       "10     NA                 NA            NA     NA                  rn    \n",
       "11     NA                 NA            NA     NA                  rn    \n",
       "12     NA                 NA            NA     NA                  rn    \n",
       "13     NA                 NA            NA     NA                  rn    \n",
       "14     NA                 NA            NA     NA                  rn    \n",
       "15     NA                 NA            NA     NA                  rn    \n",
       "16     NA                 NA            NA     NA                  rn    \n",
       "17     NA                 NA            NA     NA                  rn    \n",
       "18     NA                 NA            NA     NA                  rn    \n",
       "19     NA                 NA            NA     NA                  rn    \n",
       "20     NA                 NA            NA     NA                  rn    \n",
       "21     NA                 NA            NA     NA                  rn    \n",
       "22     NA                 NA            NA     NA                  rn    \n",
       "23     NA                 NA            NA     NA                  rn    \n",
       "24     NA                 NA            NA     NA                  rn    \n",
       "25     NA                 NA            NA     NA                  rn    \n",
       "26     NA                 NA            NA     NA                  rn    \n",
       "27     NA                 NA            NA     NA                  rn    \n",
       "28     NA                 NA            NA     NA                  rn    \n",
       "29     NA                 NA            NA     NA                  rn    \n",
       "30     NA                 NA            NA     NA                  rn    \n",
       "⋮      ⋮                  ⋮             ⋮      ⋮                   ⋮     \n",
       "391806 NA                 NA            NA     NA                  rn    \n",
       "391807 NA                 NA            NA     NA                  rn    \n",
       "391808 NA                 NA            NA     NA                  rn    \n",
       "391809 NA                 NA            NA     NA                  rn    \n",
       "391810 NA                 NA            NA     NA                  rn    \n",
       "391811 NA                 NA            NA     NA                  rn    \n",
       "391812 NA                 NA            NA     NA                  rn    \n",
       "391813 NA                 NA            NA     NA                  rn    \n",
       "391814 NA                 NA            NA     NA                  rn    \n",
       "391815 NA                 NA            NA     NA                  rn    \n",
       "391816 NA                 NA            NA     NA                  rn    \n",
       "391817 NA                 NA            NA     NA                  rn    \n",
       "391818 NA                 NA            NA     NA                  rn    \n",
       "391819 NA                 NA            NA     NA                  rn    \n",
       "391820 NA                 NA            NA     NA                  rn    \n",
       "391821 NA                 NA            NA     NA                  rn    \n",
       "391822 NA                 NA            NA     NA                  rn    \n",
       "391823 NA                 NA            NA     NA                  rn    \n",
       "391824 NA                 NA            NA     NA                  rn    \n",
       "391825 NA                 NA            NA     NA                  rn    \n",
       "391826 NA                 NA            NA     NA                  rn    \n",
       "391827 NA                 NA            NA     NA                  rn    \n",
       "391828 NA                 NA            NA     NA                  rn    \n",
       "391829 NA                 NA            NA     NA                  rn    \n",
       "391830 NA                 NA            NA     NA                  rn    \n",
       "391831 NA                 NA            NA     NA                  rn    \n",
       "391832 NA                 NA            NA     NA                  rn    \n",
       "391833 NA                 NA            NA     NA                  rn    \n",
       "391834 NA                 NA            NA     NA                  rn    \n",
       "391835 NA                 NA            NA     NA                  rn    "
      ]
     },
     "metadata": {},
     "output_type": "display_data"
    }
   ],
   "source": [
    "filter(rn, !(is.na(nombres) | is.na(primer_apellido) | is.na(segundo_apellido)))"
   ]
  },
  {
   "cell_type": "code",
   "execution_count": 21,
   "metadata": {},
   "outputs": [
    {
     "data": {
      "text/html": [
       "<ol class=list-inline>\n",
       "\t<li>1048575</li>\n",
       "\t<li>10</li>\n",
       "</ol>\n"
      ],
      "text/latex": [
       "\\begin{enumerate*}\n",
       "\\item 1048575\n",
       "\\item 10\n",
       "\\end{enumerate*}\n"
      ],
      "text/markdown": [
       "1. 1048575\n",
       "2. 10\n",
       "\n",
       "\n"
      ],
      "text/plain": [
       "[1] 1048575      10"
      ]
     },
     "metadata": {},
     "output_type": "display_data"
    },
    {
     "data": {
      "text/html": [
       "<ol class=list-inline>\n",
       "\t<li>179549</li>\n",
       "\t<li>10</li>\n",
       "</ol>\n"
      ],
      "text/latex": [
       "\\begin{enumerate*}\n",
       "\\item 179549\n",
       "\\item 10\n",
       "\\end{enumerate*}\n"
      ],
      "text/markdown": [
       "1. 179549\n",
       "2. 10\n",
       "\n",
       "\n"
      ],
      "text/plain": [
       "[1] 179549     10"
      ]
     },
     "metadata": {},
     "output_type": "display_data"
    },
    {
     "data": {
      "text/html": [
       "<ol class=list-inline>\n",
       "\t<li>1228124</li>\n",
       "\t<li>20</li>\n",
       "</ol>\n"
      ],
      "text/latex": [
       "\\begin{enumerate*}\n",
       "\\item 1228124\n",
       "\\item 20\n",
       "\\end{enumerate*}\n"
      ],
      "text/markdown": [
       "1. 1228124\n",
       "2. 20\n",
       "\n",
       "\n"
      ],
      "text/plain": [
       "[1] 1228124      20"
      ]
     },
     "metadata": {},
     "output_type": "display_data"
    },
    {
     "data": {
      "text/html": [
       "<ol class=list-inline>\n",
       "\t<li>1228124</li>\n",
       "\t<li>14</li>\n",
       "</ol>\n"
      ],
      "text/latex": [
       "\\begin{enumerate*}\n",
       "\\item 1228124\n",
       "\\item 14\n",
       "\\end{enumerate*}\n"
      ],
      "text/markdown": [
       "1. 1228124\n",
       "2. 14\n",
       "\n",
       "\n"
      ],
      "text/plain": [
       "[1] 1228124      14"
      ]
     },
     "metadata": {},
     "output_type": "display_data"
    }
   ],
   "source": [
    "dim(rn_hoja1)\n",
    "dim(rn_hoja2)\n",
    "\n",
    "dim(rn_hoja1) + dim(rn_hoja2)\n",
    "\n",
    "dim(rn)"
   ]
  },
  {
   "cell_type": "code",
   "execution_count": 22,
   "metadata": {},
   "outputs": [],
   "source": [
    "write_csv(rn, \"datos/rn.csv\")"
   ]
  }
 ],
 "metadata": {
  "kernelspec": {
   "display_name": "R",
   "language": "R",
   "name": "ir"
  },
  "language_info": {
   "codemirror_mode": "r",
   "file_extension": ".r",
   "mimetype": "text/x-r-source",
   "name": "R",
   "pygments_lexer": "r",
   "version": "3.4.4"
  }
 },
 "nbformat": 4,
 "nbformat_minor": 2
}
