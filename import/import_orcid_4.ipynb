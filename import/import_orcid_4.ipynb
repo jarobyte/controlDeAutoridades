{
 "cells": [
  {
   "cell_type": "code",
   "execution_count": 1,
   "metadata": {},
   "outputs": [
    {
     "name": "stderr",
     "output_type": "stream",
     "text": [
      "Loading tidyverse: ggplot2\n",
      "Loading tidyverse: tibble\n",
      "Loading tidyverse: tidyr\n",
      "Loading tidyverse: readr\n",
      "Loading tidyverse: purrr\n",
      "Loading tidyverse: dplyr\n",
      "Conflicts with tidy packages ---------------------------------------------------\n",
      "filter(): dplyr, stats\n",
      "lag():    dplyr, stats\n"
     ]
    }
   ],
   "source": [
    "library(\"tidyverse\")"
   ]
  },
  {
   "cell_type": "code",
   "execution_count": 2,
   "metadata": {},
   "outputs": [
    {
     "data": {
      "text/html": [
       "<ol class=list-inline>\n",
       "\t<li>'catalogo_RN_utf8/RN_catalogo_personas_Hoja1.csv'</li>\n",
       "\t<li>'catalogo_RN_utf8/RN_catalogo_personas_Hoja2.csv'</li>\n",
       "\t<li>'cvu/AREA_CONOCIMIENTO/CAT_AREA_CONOCIMIENTO.csv'</li>\n",
       "\t<li>'cvu/AREA_CONOCIMIENTO/CAT_CAMPO.csv'</li>\n",
       "\t<li>'cvu/AREA_CONOCIMIENTO/CAT_DISCIPLINA.csv'</li>\n",
       "\t<li>'cvu/AREA_CONOCIMIENTO/CAT_SUBDISCIPLINA.csv'</li>\n",
       "\t<li>'cvu/INSTITUCION/CAT_INSTITUCION.csv'</li>\n",
       "\t<li>'cvu/INSTITUCION/CAT_LOCALIDAD.csv'</li>\n",
       "\t<li>'cvu/INSTITUCION/CAT_MUNICIPIO.csv'</li>\n",
       "\t<li>'cvu/INSTITUCION/CAT_PAIS.csv'</li>\n",
       "\t<li>'cvu/INSTITUCION/CAT_TIPO_INSTITUCION.csv'</li>\n",
       "\t<li>'cvu/INSTITUCION/CAT_TIPO_INST_NIVEL_DOS.csv'</li>\n",
       "\t<li>'cvu/INSTITUCION/CAT_TIPO_INST_NIVEL_TRES.csv'</li>\n",
       "\t<li>'cvu/INSTITUCION/CAT_TIPO_INST_NIVEL_UNO.csv'</li>\n",
       "\t<li>'cvu/PERSONA_FISICA/CAT_ESTADO_CIVIL.csv'</li>\n",
       "\t<li>'cvu/PERSONA_FISICA/CAT_ESTADO.csv'</li>\n",
       "\t<li>'cvu/PERSONA_FISICA/CAT_GENERO.csv'</li>\n",
       "\t<li>'cvu/PERSONA_FISICA/CAT_IDIOMA.csv'</li>\n",
       "\t<li>'cvu/PERSONA_FISICA/CAT_NACIONALIDAD.csv'</li>\n",
       "\t<li>'cvu/PERSONA_FISICA/CAT_NIVEL_ACADEMICO.csv'</li>\n",
       "\t<li>'cvu/PERSONA_FISICA/CAT_PAIS.csv'</li>\n",
       "\t<li>'cvu/PERSONA_FISICA/PERSONA_FISICA.csv'</li>\n",
       "\t<li>'DAPE.csv'</li>\n",
       "\t<li>'Juan Ramírez/Mapeo de fuentesV6.csv'</li>\n",
       "\t<li>'juan ramírez/orcid/Parte 1/Autores_Orcid_proceso 1.csv'</li>\n",
       "\t<li>'juan ramírez/orcid/Parte 2/Autores_Orcid_proceso_2_v6.csv'</li>\n",
       "\t<li>'juan ramírez/orcid/Parte 3/Autores_Orcid_proceso 3V8.csv'</li>\n",
       "\t<li>'juan ramírez/orcid/Parte4/autores_Orcid_proceso_4_v6.csv'</li>\n",
       "</ol>\n"
      ],
      "text/latex": [
       "\\begin{enumerate*}\n",
       "\\item 'catalogo\\_RN\\_utf8/RN\\_catalogo\\_personas\\_Hoja1.csv'\n",
       "\\item 'catalogo\\_RN\\_utf8/RN\\_catalogo\\_personas\\_Hoja2.csv'\n",
       "\\item 'cvu/AREA\\_CONOCIMIENTO/CAT\\_AREA\\_CONOCIMIENTO.csv'\n",
       "\\item 'cvu/AREA\\_CONOCIMIENTO/CAT\\_CAMPO.csv'\n",
       "\\item 'cvu/AREA\\_CONOCIMIENTO/CAT\\_DISCIPLINA.csv'\n",
       "\\item 'cvu/AREA\\_CONOCIMIENTO/CAT\\_SUBDISCIPLINA.csv'\n",
       "\\item 'cvu/INSTITUCION/CAT\\_INSTITUCION.csv'\n",
       "\\item 'cvu/INSTITUCION/CAT\\_LOCALIDAD.csv'\n",
       "\\item 'cvu/INSTITUCION/CAT\\_MUNICIPIO.csv'\n",
       "\\item 'cvu/INSTITUCION/CAT\\_PAIS.csv'\n",
       "\\item 'cvu/INSTITUCION/CAT\\_TIPO\\_INSTITUCION.csv'\n",
       "\\item 'cvu/INSTITUCION/CAT\\_TIPO\\_INST\\_NIVEL\\_DOS.csv'\n",
       "\\item 'cvu/INSTITUCION/CAT\\_TIPO\\_INST\\_NIVEL\\_TRES.csv'\n",
       "\\item 'cvu/INSTITUCION/CAT\\_TIPO\\_INST\\_NIVEL\\_UNO.csv'\n",
       "\\item 'cvu/PERSONA\\_FISICA/CAT\\_ESTADO\\_CIVIL.csv'\n",
       "\\item 'cvu/PERSONA\\_FISICA/CAT\\_ESTADO.csv'\n",
       "\\item 'cvu/PERSONA\\_FISICA/CAT\\_GENERO.csv'\n",
       "\\item 'cvu/PERSONA\\_FISICA/CAT\\_IDIOMA.csv'\n",
       "\\item 'cvu/PERSONA\\_FISICA/CAT\\_NACIONALIDAD.csv'\n",
       "\\item 'cvu/PERSONA\\_FISICA/CAT\\_NIVEL\\_ACADEMICO.csv'\n",
       "\\item 'cvu/PERSONA\\_FISICA/CAT\\_PAIS.csv'\n",
       "\\item 'cvu/PERSONA\\_FISICA/PERSONA\\_FISICA.csv'\n",
       "\\item 'DAPE.csv'\n",
       "\\item 'Juan Ramírez/Mapeo de fuentesV6.csv'\n",
       "\\item 'juan ramírez/orcid/Parte 1/Autores\\_Orcid\\_proceso 1.csv'\n",
       "\\item 'juan ramírez/orcid/Parte 2/Autores\\_Orcid\\_proceso\\_2\\_v6.csv'\n",
       "\\item 'juan ramírez/orcid/Parte 3/Autores\\_Orcid\\_proceso 3V8.csv'\n",
       "\\item 'juan ramírez/orcid/Parte4/autores\\_Orcid\\_proceso\\_4\\_v6.csv'\n",
       "\\end{enumerate*}\n"
      ],
      "text/markdown": [
       "1. 'catalogo_RN_utf8/RN_catalogo_personas_Hoja1.csv'\n",
       "2. 'catalogo_RN_utf8/RN_catalogo_personas_Hoja2.csv'\n",
       "3. 'cvu/AREA_CONOCIMIENTO/CAT_AREA_CONOCIMIENTO.csv'\n",
       "4. 'cvu/AREA_CONOCIMIENTO/CAT_CAMPO.csv'\n",
       "5. 'cvu/AREA_CONOCIMIENTO/CAT_DISCIPLINA.csv'\n",
       "6. 'cvu/AREA_CONOCIMIENTO/CAT_SUBDISCIPLINA.csv'\n",
       "7. 'cvu/INSTITUCION/CAT_INSTITUCION.csv'\n",
       "8. 'cvu/INSTITUCION/CAT_LOCALIDAD.csv'\n",
       "9. 'cvu/INSTITUCION/CAT_MUNICIPIO.csv'\n",
       "10. 'cvu/INSTITUCION/CAT_PAIS.csv'\n",
       "11. 'cvu/INSTITUCION/CAT_TIPO_INSTITUCION.csv'\n",
       "12. 'cvu/INSTITUCION/CAT_TIPO_INST_NIVEL_DOS.csv'\n",
       "13. 'cvu/INSTITUCION/CAT_TIPO_INST_NIVEL_TRES.csv'\n",
       "14. 'cvu/INSTITUCION/CAT_TIPO_INST_NIVEL_UNO.csv'\n",
       "15. 'cvu/PERSONA_FISICA/CAT_ESTADO_CIVIL.csv'\n",
       "16. 'cvu/PERSONA_FISICA/CAT_ESTADO.csv'\n",
       "17. 'cvu/PERSONA_FISICA/CAT_GENERO.csv'\n",
       "18. 'cvu/PERSONA_FISICA/CAT_IDIOMA.csv'\n",
       "19. 'cvu/PERSONA_FISICA/CAT_NACIONALIDAD.csv'\n",
       "20. 'cvu/PERSONA_FISICA/CAT_NIVEL_ACADEMICO.csv'\n",
       "21. 'cvu/PERSONA_FISICA/CAT_PAIS.csv'\n",
       "22. 'cvu/PERSONA_FISICA/PERSONA_FISICA.csv'\n",
       "23. 'DAPE.csv'\n",
       "24. 'Juan Ramírez/Mapeo de fuentesV6.csv'\n",
       "25. 'juan ramírez/orcid/Parte 1/Autores_Orcid_proceso 1.csv'\n",
       "26. 'juan ramírez/orcid/Parte 2/Autores_Orcid_proceso_2_v6.csv'\n",
       "27. 'juan ramírez/orcid/Parte 3/Autores_Orcid_proceso 3V8.csv'\n",
       "28. 'juan ramírez/orcid/Parte4/autores_Orcid_proceso_4_v6.csv'\n",
       "\n",
       "\n"
      ],
      "text/plain": [
       " [1] \"catalogo_RN_utf8/RN_catalogo_personas_Hoja1.csv\"          \n",
       " [2] \"catalogo_RN_utf8/RN_catalogo_personas_Hoja2.csv\"          \n",
       " [3] \"cvu/AREA_CONOCIMIENTO/CAT_AREA_CONOCIMIENTO.csv\"          \n",
       " [4] \"cvu/AREA_CONOCIMIENTO/CAT_CAMPO.csv\"                      \n",
       " [5] \"cvu/AREA_CONOCIMIENTO/CAT_DISCIPLINA.csv\"                 \n",
       " [6] \"cvu/AREA_CONOCIMIENTO/CAT_SUBDISCIPLINA.csv\"              \n",
       " [7] \"cvu/INSTITUCION/CAT_INSTITUCION.csv\"                      \n",
       " [8] \"cvu/INSTITUCION/CAT_LOCALIDAD.csv\"                        \n",
       " [9] \"cvu/INSTITUCION/CAT_MUNICIPIO.csv\"                        \n",
       "[10] \"cvu/INSTITUCION/CAT_PAIS.csv\"                             \n",
       "[11] \"cvu/INSTITUCION/CAT_TIPO_INSTITUCION.csv\"                 \n",
       "[12] \"cvu/INSTITUCION/CAT_TIPO_INST_NIVEL_DOS.csv\"              \n",
       "[13] \"cvu/INSTITUCION/CAT_TIPO_INST_NIVEL_TRES.csv\"             \n",
       "[14] \"cvu/INSTITUCION/CAT_TIPO_INST_NIVEL_UNO.csv\"              \n",
       "[15] \"cvu/PERSONA_FISICA/CAT_ESTADO_CIVIL.csv\"                  \n",
       "[16] \"cvu/PERSONA_FISICA/CAT_ESTADO.csv\"                        \n",
       "[17] \"cvu/PERSONA_FISICA/CAT_GENERO.csv\"                        \n",
       "[18] \"cvu/PERSONA_FISICA/CAT_IDIOMA.csv\"                        \n",
       "[19] \"cvu/PERSONA_FISICA/CAT_NACIONALIDAD.csv\"                  \n",
       "[20] \"cvu/PERSONA_FISICA/CAT_NIVEL_ACADEMICO.csv\"               \n",
       "[21] \"cvu/PERSONA_FISICA/CAT_PAIS.csv\"                          \n",
       "[22] \"cvu/PERSONA_FISICA/PERSONA_FISICA.csv\"                    \n",
       "[23] \"DAPE.csv\"                                                 \n",
       "[24] \"Juan Ramírez/Mapeo de fuentesV6.csv\"                      \n",
       "[25] \"juan ramírez/orcid/Parte 1/Autores_Orcid_proceso 1.csv\"   \n",
       "[26] \"juan ramírez/orcid/Parte 2/Autores_Orcid_proceso_2_v6.csv\"\n",
       "[27] \"juan ramírez/orcid/Parte 3/Autores_Orcid_proceso 3V8.csv\" \n",
       "[28] \"juan ramírez/orcid/Parte4/autores_Orcid_proceso_4_v6.csv\" "
      ]
     },
     "metadata": {},
     "output_type": "display_data"
    }
   ],
   "source": [
    "list.files(\"fuente\", recursive = TRUE, pattern = \"csv\")"
   ]
  },
  {
   "cell_type": "code",
   "execution_count": 3,
   "metadata": {},
   "outputs": [
    {
     "data": {
      "text/html": [
       "<table>\n",
       "<thead><tr><th scope=col>encoding</th><th scope=col>confidence</th></tr></thead>\n",
       "<tbody>\n",
       "\t<tr><td>windows-1252</td><td>0.29        </td></tr>\n",
       "\t<tr><td>UTF-8       </td><td>0.25        </td></tr>\n",
       "\t<tr><td>windows-1250</td><td>0.21        </td></tr>\n",
       "</tbody>\n",
       "</table>\n"
      ],
      "text/latex": [
       "\\begin{tabular}{r|ll}\n",
       " encoding & confidence\\\\\n",
       "\\hline\n",
       "\t windows-1252 & 0.29        \\\\\n",
       "\t UTF-8        & 0.25        \\\\\n",
       "\t windows-1250 & 0.21        \\\\\n",
       "\\end{tabular}\n"
      ],
      "text/markdown": [
       "\n",
       "encoding | confidence | \n",
       "|---|---|---|\n",
       "| windows-1252 | 0.29         | \n",
       "| UTF-8        | 0.25         | \n",
       "| windows-1250 | 0.21         | \n",
       "\n",
       "\n"
      ],
      "text/plain": [
       "  encoding     confidence\n",
       "1 windows-1252 0.29      \n",
       "2 UTF-8        0.25      \n",
       "3 windows-1250 0.21      "
      ]
     },
     "metadata": {},
     "output_type": "display_data"
    }
   ],
   "source": [
    "guess_encoding(\"fuente/juan ramírez/orcid/Parte4/autores_Orcid_proceso_4_v6.csv\")"
   ]
  },
  {
   "cell_type": "code",
   "execution_count": 4,
   "metadata": {},
   "outputs": [
    {
     "name": "stderr",
     "output_type": "stream",
     "text": [
      "Warning message:\n",
      "“Missing column names filled in: 'X16' [16], 'X17' [17], 'X18' [18], 'X19' [19], 'X20' [20], 'X21' [21], 'X22' [22], 'X23' [23], 'X24' [24], 'X25' [25], 'X26' [26], 'X27' [27], 'X28' [28], 'X29' [29], 'X30' [30], 'X31' [31], 'X32' [32], 'X33' [33], 'X34' [34], 'X35' [35], 'X36' [36], 'X37' [37], 'X38' [38], 'X39' [39], 'X40' [40], 'X41' [41], 'X42' [42], 'X43' [43], 'X44' [44], 'X45' [45], 'X46' [46]”Parsed with column specification:\n",
      "cols(\n",
      "  .default = col_character()\n",
      ")\n",
      "See spec(...) for full column specifications.\n"
     ]
    }
   ],
   "source": [
    "orcid_4  <- read_csv(\"fuente/juan ramírez/orcid/Parte4/autores_Orcid_proceso_4_v6.csv\", \n",
    "                     locale = locale(encoding = \"windows-1252\"))"
   ]
  },
  {
   "cell_type": "code",
   "execution_count": 5,
   "metadata": {},
   "outputs": [
    {
     "data": {
      "text/html": [
       "46"
      ],
      "text/latex": [
       "46"
      ],
      "text/markdown": [
       "46"
      ],
      "text/plain": [
       "[1] 46"
      ]
     },
     "metadata": {},
     "output_type": "display_data"
    }
   ],
   "source": [
    "ncol(orcid_4)"
   ]
  },
  {
   "cell_type": "code",
   "execution_count": 6,
   "metadata": {},
   "outputs": [
    {
     "data": {
      "text/html": [
       "<table>\n",
       "<thead><tr><th scope=col>X16</th><th scope=col>X17</th><th scope=col>X18</th><th scope=col>X19</th><th scope=col>X20</th><th scope=col>X21</th><th scope=col>X22</th><th scope=col>X23</th><th scope=col>X24</th><th scope=col>X25</th><th scope=col>⋯</th><th scope=col>X37</th><th scope=col>X38</th><th scope=col>X39</th><th scope=col>X40</th><th scope=col>X41</th><th scope=col>X42</th><th scope=col>X43</th><th scope=col>X44</th><th scope=col>X45</th><th scope=col>X46</th></tr></thead>\n",
       "<tbody>\n",
       "\t<tr><td>NA</td><td>NA</td><td>NA</td><td>NA</td><td>NA</td><td>NA</td><td>NA</td><td>NA</td><td>NA</td><td>NA</td><td>⋯ </td><td>NA</td><td>NA</td><td>NA</td><td>NA</td><td>NA</td><td>NA</td><td>NA</td><td>NA</td><td>NA</td><td>NA</td></tr>\n",
       "\t<tr><td>NA</td><td>NA</td><td>NA</td><td>NA</td><td>NA</td><td>NA</td><td>NA</td><td>NA</td><td>NA</td><td>NA</td><td>⋯ </td><td>NA</td><td>NA</td><td>NA</td><td>NA</td><td>NA</td><td>NA</td><td>NA</td><td>NA</td><td>NA</td><td>NA</td></tr>\n",
       "\t<tr><td>NA</td><td>NA</td><td>NA</td><td>NA</td><td>NA</td><td>NA</td><td>NA</td><td>NA</td><td>NA</td><td>NA</td><td>⋯ </td><td>NA</td><td>NA</td><td>NA</td><td>NA</td><td>NA</td><td>NA</td><td>NA</td><td>NA</td><td>NA</td><td>NA</td></tr>\n",
       "\t<tr><td>NA</td><td>NA</td><td>NA</td><td>NA</td><td>NA</td><td>NA</td><td>NA</td><td>NA</td><td>NA</td><td>NA</td><td>⋯ </td><td>NA</td><td>NA</td><td>NA</td><td>NA</td><td>NA</td><td>NA</td><td>NA</td><td>NA</td><td>NA</td><td>NA</td></tr>\n",
       "\t<tr><td>NA</td><td>NA</td><td>NA</td><td>NA</td><td>NA</td><td>NA</td><td>NA</td><td>NA</td><td>NA</td><td>NA</td><td>⋯ </td><td>NA</td><td>NA</td><td>NA</td><td>NA</td><td>NA</td><td>NA</td><td>NA</td><td>NA</td><td>NA</td><td>NA</td></tr>\n",
       "\t<tr><td>NA</td><td>NA</td><td>NA</td><td>NA</td><td>NA</td><td>NA</td><td>NA</td><td>NA</td><td>NA</td><td>NA</td><td>⋯ </td><td>NA</td><td>NA</td><td>NA</td><td>NA</td><td>NA</td><td>NA</td><td>NA</td><td>NA</td><td>NA</td><td>NA</td></tr>\n",
       "</tbody>\n",
       "</table>\n"
      ],
      "text/latex": [
       "\\begin{tabular}{r|lllllllllllllllllllllllllllllll}\n",
       " X16 & X17 & X18 & X19 & X20 & X21 & X22 & X23 & X24 & X25 & ⋯ & X37 & X38 & X39 & X40 & X41 & X42 & X43 & X44 & X45 & X46\\\\\n",
       "\\hline\n",
       "\t NA & NA & NA & NA & NA & NA & NA & NA & NA & NA & ⋯  & NA & NA & NA & NA & NA & NA & NA & NA & NA & NA\\\\\n",
       "\t NA & NA & NA & NA & NA & NA & NA & NA & NA & NA & ⋯  & NA & NA & NA & NA & NA & NA & NA & NA & NA & NA\\\\\n",
       "\t NA & NA & NA & NA & NA & NA & NA & NA & NA & NA & ⋯  & NA & NA & NA & NA & NA & NA & NA & NA & NA & NA\\\\\n",
       "\t NA & NA & NA & NA & NA & NA & NA & NA & NA & NA & ⋯  & NA & NA & NA & NA & NA & NA & NA & NA & NA & NA\\\\\n",
       "\t NA & NA & NA & NA & NA & NA & NA & NA & NA & NA & ⋯  & NA & NA & NA & NA & NA & NA & NA & NA & NA & NA\\\\\n",
       "\t NA & NA & NA & NA & NA & NA & NA & NA & NA & NA & ⋯  & NA & NA & NA & NA & NA & NA & NA & NA & NA & NA\\\\\n",
       "\\end{tabular}\n"
      ],
      "text/markdown": [
       "\n",
       "X16 | X17 | X18 | X19 | X20 | X21 | X22 | X23 | X24 | X25 | ⋯ | X37 | X38 | X39 | X40 | X41 | X42 | X43 | X44 | X45 | X46 | \n",
       "|---|---|---|---|---|---|\n",
       "| NA | NA | NA | NA | NA | NA | NA | NA | NA | NA | ⋯  | NA | NA | NA | NA | NA | NA | NA | NA | NA | NA | \n",
       "| NA | NA | NA | NA | NA | NA | NA | NA | NA | NA | ⋯  | NA | NA | NA | NA | NA | NA | NA | NA | NA | NA | \n",
       "| NA | NA | NA | NA | NA | NA | NA | NA | NA | NA | ⋯  | NA | NA | NA | NA | NA | NA | NA | NA | NA | NA | \n",
       "| NA | NA | NA | NA | NA | NA | NA | NA | NA | NA | ⋯  | NA | NA | NA | NA | NA | NA | NA | NA | NA | NA | \n",
       "| NA | NA | NA | NA | NA | NA | NA | NA | NA | NA | ⋯  | NA | NA | NA | NA | NA | NA | NA | NA | NA | NA | \n",
       "| NA | NA | NA | NA | NA | NA | NA | NA | NA | NA | ⋯  | NA | NA | NA | NA | NA | NA | NA | NA | NA | NA | \n",
       "\n",
       "\n"
      ],
      "text/plain": [
       "  X16 X17 X18 X19 X20 X21 X22 X23 X24 X25 ⋯ X37 X38 X39 X40 X41 X42 X43 X44 X45\n",
       "1 NA  NA  NA  NA  NA  NA  NA  NA  NA  NA  ⋯ NA  NA  NA  NA  NA  NA  NA  NA  NA \n",
       "2 NA  NA  NA  NA  NA  NA  NA  NA  NA  NA  ⋯ NA  NA  NA  NA  NA  NA  NA  NA  NA \n",
       "3 NA  NA  NA  NA  NA  NA  NA  NA  NA  NA  ⋯ NA  NA  NA  NA  NA  NA  NA  NA  NA \n",
       "4 NA  NA  NA  NA  NA  NA  NA  NA  NA  NA  ⋯ NA  NA  NA  NA  NA  NA  NA  NA  NA \n",
       "5 NA  NA  NA  NA  NA  NA  NA  NA  NA  NA  ⋯ NA  NA  NA  NA  NA  NA  NA  NA  NA \n",
       "6 NA  NA  NA  NA  NA  NA  NA  NA  NA  NA  ⋯ NA  NA  NA  NA  NA  NA  NA  NA  NA \n",
       "  X46\n",
       "1 NA \n",
       "2 NA \n",
       "3 NA \n",
       "4 NA \n",
       "5 NA \n",
       "6 NA "
      ]
     },
     "metadata": {},
     "output_type": "display_data"
    }
   ],
   "source": [
    "head(orcid_4[16:46])"
   ]
  },
  {
   "cell_type": "code",
   "execution_count": 7,
   "metadata": {},
   "outputs": [],
   "source": [
    "na <- orcid_4[16:46]"
   ]
  },
  {
   "cell_type": "code",
   "execution_count": 9,
   "metadata": {},
   "outputs": [
    {
     "data": {
      "text/plain": [
       "\n",
       " FALSE \n",
       "943900 "
      ]
     },
     "metadata": {},
     "output_type": "display_data"
    }
   ],
   "source": [
    "table(complete.cases(na))"
   ]
  },
  {
   "cell_type": "code",
   "execution_count": 10,
   "metadata": {},
   "outputs": [],
   "source": [
    "orcid_4_a <- select(orcid_4, -contains(\"X\"))"
   ]
  },
  {
   "cell_type": "code",
   "execution_count": 11,
   "metadata": {},
   "outputs": [
    {
     "data": {
      "text/html": [
       "<table>\n",
       "<thead><tr><th scope=col>IDENTIFICADOR</th><th scope=col>NOMBRE</th><th scope=col>APELLIDOS</th><th scope=col>CREDIT_NAME(ALIAS1)</th><th scope=col>OTHER_NAME(ALIAS2)</th><th scope=col>CONTACTO_1</th><th scope=col>CONTACTO_2</th><th scope=col>EMAILS</th><th scope=col>PAIS</th><th scope=col>DEPARTAMENTO</th><th scope=col>ROL</th><th scope=col>INSTITUCION</th><th scope=col>CIUDAD_INSTITUCION</th><th scope=col>ESTADO_INSTITUCION</th><th scope=col>PAIS_INSTITUCION</th></tr></thead>\n",
       "<tbody>\n",
       "\t<tr><td>0000-0003-0116-0893                         </td><td>Stephen                                     </td><td>Mannion                                     </td><td>NA                                          </td><td>NA                                          </td><td>NA                                          </td><td>NA                                          </td><td>NA                                          </td><td>NA                                          </td><td>NA                                          </td><td>NA                                          </td><td>NA                                          </td><td>NA                                          </td><td>NA                                          </td><td>NA                                          </td></tr>\n",
       "\t<tr><td>0000-0003-0116-0922                         </td><td>Yuichiro                                    </td><td>Miki                                        </td><td>NA                                          </td><td>NA                                          </td><td>NA                                          </td><td>NA                                          </td><td>NA                                          </td><td>NA                                          </td><td>NA                                          </td><td>NA                                          </td><td>NA                                          </td><td>NA                                          </td><td>NA                                          </td><td>NA                                          </td></tr>\n",
       "\t<tr><td>0000-0003-0116-0981                         </td><td>Rahma                                       </td><td>Ben Salem                                   </td><td>NA                                          </td><td>NA                                          </td><td>NA                                          </td><td>NA                                          </td><td>NA                                          </td><td>NA                                          </td><td>NA                                          </td><td>NA                                          </td><td>NA                                          </td><td>NA                                          </td><td>NA                                          </td><td>NA                                          </td></tr>\n",
       "\t<tr><td>0000-0003-0116-1116                         </td><td>Zexiao                                      </td><td>Li                                          </td><td>NA                                          </td><td>NA                                          </td><td>NA                                          </td><td>NA                                          </td><td>NA                                          </td><td>NA                                          </td><td>NA                                          </td><td>NA                                          </td><td>NA                                          </td><td>NA                                          </td><td>NA                                          </td><td>NA                                          </td></tr>\n",
       "\t<tr><td>0000-0003-0116-1167                         </td><td>Jean                                        </td><td>Guillard                                    </td><td>NA                                          </td><td>NA                                          </td><td>NA                                          </td><td>NA                                          </td><td>NA                                          </td><td>NA                                          </td><td>NA                                          </td><td>NA                                          </td><td>NA                                          </td><td>NA                                          </td><td>NA                                          </td><td>NA                                          </td></tr>\n",
       "\t<tr><td>0000-0003-0116-1191                         </td><td>Naiwen                                      </td><td>Jiang                                       </td><td>NA                                          </td><td>NA                                          </td><td>NA                                          </td><td>NA                                          </td><td>NA                                          </td><td>CN                                          </td><td>Civil engineering and environment college   </td><td>Bachelor                                    </td><td>University of Science and Technology Beijing</td><td>Beijing                                     </td><td>Beijing                                     </td><td>CN                                          </td></tr>\n",
       "</tbody>\n",
       "</table>\n"
      ],
      "text/latex": [
       "\\begin{tabular}{r|lllllllllllllll}\n",
       " IDENTIFICADOR & NOMBRE & APELLIDOS & CREDIT\\_NAME(ALIAS1) & OTHER\\_NAME(ALIAS2) & CONTACTO\\_1 & CONTACTO\\_2 & EMAILS & PAIS & DEPARTAMENTO & ROL & INSTITUCION & CIUDAD\\_INSTITUCION & ESTADO\\_INSTITUCION & PAIS\\_INSTITUCION\\\\\n",
       "\\hline\n",
       "\t 0000-0003-0116-0893                          & Stephen                                      & Mannion                                      & NA                                           & NA                                           & NA                                           & NA                                           & NA                                           & NA                                           & NA                                           & NA                                           & NA                                           & NA                                           & NA                                           & NA                                          \\\\\n",
       "\t 0000-0003-0116-0922                          & Yuichiro                                     & Miki                                         & NA                                           & NA                                           & NA                                           & NA                                           & NA                                           & NA                                           & NA                                           & NA                                           & NA                                           & NA                                           & NA                                           & NA                                          \\\\\n",
       "\t 0000-0003-0116-0981                          & Rahma                                        & Ben Salem                                    & NA                                           & NA                                           & NA                                           & NA                                           & NA                                           & NA                                           & NA                                           & NA                                           & NA                                           & NA                                           & NA                                           & NA                                          \\\\\n",
       "\t 0000-0003-0116-1116                          & Zexiao                                       & Li                                           & NA                                           & NA                                           & NA                                           & NA                                           & NA                                           & NA                                           & NA                                           & NA                                           & NA                                           & NA                                           & NA                                           & NA                                          \\\\\n",
       "\t 0000-0003-0116-1167                          & Jean                                         & Guillard                                     & NA                                           & NA                                           & NA                                           & NA                                           & NA                                           & NA                                           & NA                                           & NA                                           & NA                                           & NA                                           & NA                                           & NA                                          \\\\\n",
       "\t 0000-0003-0116-1191                          & Naiwen                                       & Jiang                                        & NA                                           & NA                                           & NA                                           & NA                                           & NA                                           & CN                                           & Civil engineering and environment college    & Bachelor                                     & University of Science and Technology Beijing & Beijing                                      & Beijing                                      & CN                                          \\\\\n",
       "\\end{tabular}\n"
      ],
      "text/markdown": [
       "\n",
       "IDENTIFICADOR | NOMBRE | APELLIDOS | CREDIT_NAME(ALIAS1) | OTHER_NAME(ALIAS2) | CONTACTO_1 | CONTACTO_2 | EMAILS | PAIS | DEPARTAMENTO | ROL | INSTITUCION | CIUDAD_INSTITUCION | ESTADO_INSTITUCION | PAIS_INSTITUCION | \n",
       "|---|---|---|---|---|---|\n",
       "| 0000-0003-0116-0893                          | Stephen                                      | Mannion                                      | NA                                           | NA                                           | NA                                           | NA                                           | NA                                           | NA                                           | NA                                           | NA                                           | NA                                           | NA                                           | NA                                           | NA                                           | \n",
       "| 0000-0003-0116-0922                          | Yuichiro                                     | Miki                                         | NA                                           | NA                                           | NA                                           | NA                                           | NA                                           | NA                                           | NA                                           | NA                                           | NA                                           | NA                                           | NA                                           | NA                                           | \n",
       "| 0000-0003-0116-0981                          | Rahma                                        | Ben Salem                                    | NA                                           | NA                                           | NA                                           | NA                                           | NA                                           | NA                                           | NA                                           | NA                                           | NA                                           | NA                                           | NA                                           | NA                                           | \n",
       "| 0000-0003-0116-1116                          | Zexiao                                       | Li                                           | NA                                           | NA                                           | NA                                           | NA                                           | NA                                           | NA                                           | NA                                           | NA                                           | NA                                           | NA                                           | NA                                           | NA                                           | \n",
       "| 0000-0003-0116-1167                          | Jean                                         | Guillard                                     | NA                                           | NA                                           | NA                                           | NA                                           | NA                                           | NA                                           | NA                                           | NA                                           | NA                                           | NA                                           | NA                                           | NA                                           | \n",
       "| 0000-0003-0116-1191                          | Naiwen                                       | Jiang                                        | NA                                           | NA                                           | NA                                           | NA                                           | NA                                           | CN                                           | Civil engineering and environment college    | Bachelor                                     | University of Science and Technology Beijing | Beijing                                      | Beijing                                      | CN                                           | \n",
       "\n",
       "\n"
      ],
      "text/plain": [
       "  IDENTIFICADOR       NOMBRE   APELLIDOS CREDIT_NAME(ALIAS1) OTHER_NAME(ALIAS2)\n",
       "1 0000-0003-0116-0893 Stephen  Mannion   NA                  NA                \n",
       "2 0000-0003-0116-0922 Yuichiro Miki      NA                  NA                \n",
       "3 0000-0003-0116-0981 Rahma    Ben Salem NA                  NA                \n",
       "4 0000-0003-0116-1116 Zexiao   Li        NA                  NA                \n",
       "5 0000-0003-0116-1167 Jean     Guillard  NA                  NA                \n",
       "6 0000-0003-0116-1191 Naiwen   Jiang     NA                  NA                \n",
       "  CONTACTO_1 CONTACTO_2 EMAILS PAIS DEPARTAMENTO                             \n",
       "1 NA         NA         NA     NA   NA                                       \n",
       "2 NA         NA         NA     NA   NA                                       \n",
       "3 NA         NA         NA     NA   NA                                       \n",
       "4 NA         NA         NA     NA   NA                                       \n",
       "5 NA         NA         NA     NA   NA                                       \n",
       "6 NA         NA         NA     CN   Civil engineering and environment college\n",
       "  ROL      INSTITUCION                                  CIUDAD_INSTITUCION\n",
       "1 NA       NA                                           NA                \n",
       "2 NA       NA                                           NA                \n",
       "3 NA       NA                                           NA                \n",
       "4 NA       NA                                           NA                \n",
       "5 NA       NA                                           NA                \n",
       "6 Bachelor University of Science and Technology Beijing Beijing           \n",
       "  ESTADO_INSTITUCION PAIS_INSTITUCION\n",
       "1 NA                 NA              \n",
       "2 NA                 NA              \n",
       "3 NA                 NA              \n",
       "4 NA                 NA              \n",
       "5 NA                 NA              \n",
       "6 Beijing            CN              "
      ]
     },
     "metadata": {},
     "output_type": "display_data"
    }
   ],
   "source": [
    "head(orcid_4_a)"
   ]
  },
  {
   "cell_type": "code",
   "execution_count": 12,
   "metadata": {},
   "outputs": [],
   "source": [
    "write_csv(orcid_4_a, \"datos/orcid_4.csv\")"
   ]
  }
 ],
 "metadata": {
  "kernelspec": {
   "display_name": "R",
   "language": "R",
   "name": "ir"
  },
  "language_info": {
   "codemirror_mode": "r",
   "file_extension": ".r",
   "mimetype": "text/x-r-source",
   "name": "R",
   "pygments_lexer": "r",
   "version": "3.4.4"
  }
 },
 "nbformat": 4,
 "nbformat_minor": 2
}
