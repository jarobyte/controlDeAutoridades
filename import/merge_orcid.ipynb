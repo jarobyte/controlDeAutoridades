{
 "cells": [
  {
   "cell_type": "code",
   "execution_count": 1,
   "metadata": {},
   "outputs": [
    {
     "name": "stderr",
     "output_type": "stream",
     "text": [
      "Loading tidyverse: ggplot2\n",
      "Loading tidyverse: tibble\n",
      "Loading tidyverse: tidyr\n",
      "Loading tidyverse: readr\n",
      "Loading tidyverse: purrr\n",
      "Loading tidyverse: dplyr\n",
      "Conflicts with tidy packages ---------------------------------------------------\n",
      "filter(): dplyr, stats\n",
      "lag():    dplyr, stats\n"
     ]
    }
   ],
   "source": [
    "library(\"tidyverse\")"
   ]
  },
  {
   "cell_type": "code",
   "execution_count": 2,
   "metadata": {},
   "outputs": [
    {
     "name": "stderr",
     "output_type": "stream",
     "text": [
      "Parsed with column specification:\n",
      "cols(\n",
      "  IDENTIFICADOR = col_character(),\n",
      "  NOMBRE = col_character(),\n",
      "  APELLIDOS = col_character(),\n",
      "  `CREDIT_NAME(ALIAS1)` = col_character(),\n",
      "  `OTHER_NAME(ALIAS2)` = col_character(),\n",
      "  CONTACTO_1 = col_character(),\n",
      "  CONTACTO_2 = col_character(),\n",
      "  EMAILS = col_character(),\n",
      "  PAIS = col_character(),\n",
      "  DEPARTAMENTO = col_character(),\n",
      "  ROL = col_character(),\n",
      "  INSTITUCION = col_character(),\n",
      "  CIUDAD_INSTITUCION = col_character(),\n",
      "  ESTADO_INSTITUCION = col_character(),\n",
      "  PAIS_INSTITUCION = col_character()\n",
      ")\n"
     ]
    }
   ],
   "source": [
    "orcid_1 <- read_csv(\"datos/orcid_1.csv\")"
   ]
  },
  {
   "cell_type": "code",
   "execution_count": 3,
   "metadata": {},
   "outputs": [
    {
     "name": "stderr",
     "output_type": "stream",
     "text": [
      "Parsed with column specification:\n",
      "cols(\n",
      "  IDENTIFICADOR = col_character(),\n",
      "  NOMBRE = col_character(),\n",
      "  APELLIDOS = col_character(),\n",
      "  `CREDIT_NAME(ALIAS1)` = col_character(),\n",
      "  `OTHER_NAME(ALIAS2)` = col_character(),\n",
      "  CONTACTO_1 = col_character(),\n",
      "  CONTACTO_2 = col_character(),\n",
      "  EMAILS = col_character(),\n",
      "  PAIS = col_character(),\n",
      "  DEPARTAMENTO = col_character(),\n",
      "  ROL = col_character(),\n",
      "  INSTITUCION = col_character(),\n",
      "  CIUDAD_INSTITUCION = col_character(),\n",
      "  ESTADO_INSTITUCION = col_character(),\n",
      "  PAIS_INSTITUCION = col_character()\n",
      ")\n"
     ]
    }
   ],
   "source": [
    "orcid_2 <- read_csv(\"datos//orcid_2.csv\")"
   ]
  },
  {
   "cell_type": "code",
   "execution_count": 4,
   "metadata": {},
   "outputs": [
    {
     "name": "stderr",
     "output_type": "stream",
     "text": [
      "Parsed with column specification:\n",
      "cols(\n",
      "  IDENTIFICADOR = col_character(),\n",
      "  NOMBRE = col_character(),\n",
      "  APELLIDOS = col_character(),\n",
      "  `CREDIT_NAME(ALIAS1)` = col_character(),\n",
      "  `OTHER_NAME(ALIAS2)` = col_character(),\n",
      "  CONTACTO_1 = col_character(),\n",
      "  CONTACTO_2 = col_character(),\n",
      "  EMAILS = col_character(),\n",
      "  PAIS = col_character(),\n",
      "  DEPARTAMENTO = col_character(),\n",
      "  ROL = col_character(),\n",
      "  INSTITUCION = col_character(),\n",
      "  CIUDAD_INSTITUCION = col_character(),\n",
      "  ESTADO_INSTITUCION = col_character(),\n",
      "  PAIS_INSTITUCION = col_character()\n",
      ")\n"
     ]
    }
   ],
   "source": [
    "orcid_3 <- read_csv(\"datos/orcid_3.csv\")"
   ]
  },
  {
   "cell_type": "code",
   "execution_count": 5,
   "metadata": {},
   "outputs": [
    {
     "name": "stderr",
     "output_type": "stream",
     "text": [
      "Parsed with column specification:\n",
      "cols(\n",
      "  IDENTIFICADOR = col_character(),\n",
      "  NOMBRE = col_character(),\n",
      "  APELLIDOS = col_character(),\n",
      "  `CREDIT_NAME(ALIAS1)` = col_character(),\n",
      "  `OTHER_NAME(ALIAS2)` = col_character(),\n",
      "  CONTACTO_1 = col_character(),\n",
      "  CONTACTO_2 = col_character(),\n",
      "  EMAILS = col_character(),\n",
      "  PAIS = col_character(),\n",
      "  DEPARTAMENTO = col_character(),\n",
      "  ROL = col_character(),\n",
      "  INSTITUCION = col_character(),\n",
      "  CIUDAD_INSTITUCION = col_character(),\n",
      "  ESTADO_INSTITUCION = col_character(),\n",
      "  PAIS_INSTITUCION = col_character()\n",
      ")\n"
     ]
    }
   ],
   "source": [
    "orcid_4 <- read_csv(\"datos/orcid_4.csv\")"
   ]
  },
  {
   "cell_type": "code",
   "execution_count": 12,
   "metadata": {},
   "outputs": [
    {
     "data": {
      "text/html": [
       "15"
      ],
      "text/latex": [
       "15"
      ],
      "text/markdown": [
       "15"
      ],
      "text/plain": [
       "[1] 15"
      ]
     },
     "metadata": {},
     "output_type": "display_data"
    },
    {
     "data": {
      "text/html": [
       "932086"
      ],
      "text/latex": [
       "932086"
      ],
      "text/markdown": [
       "932086"
      ],
      "text/plain": [
       "[1] 932086"
      ]
     },
     "metadata": {},
     "output_type": "display_data"
    }
   ],
   "source": [
    "ncol(orcid_1)\n",
    "nrow(orcid_1)"
   ]
  },
  {
   "cell_type": "code",
   "execution_count": 13,
   "metadata": {},
   "outputs": [
    {
     "data": {
      "text/html": [
       "15"
      ],
      "text/latex": [
       "15"
      ],
      "text/markdown": [
       "15"
      ],
      "text/plain": [
       "[1] 15"
      ]
     },
     "metadata": {},
     "output_type": "display_data"
    },
    {
     "data": {
      "text/html": [
       "934735"
      ],
      "text/latex": [
       "934735"
      ],
      "text/markdown": [
       "934735"
      ],
      "text/plain": [
       "[1] 934735"
      ]
     },
     "metadata": {},
     "output_type": "display_data"
    }
   ],
   "source": [
    "ncol(orcid_2)\n",
    "nrow(orcid_2)"
   ]
  },
  {
   "cell_type": "code",
   "execution_count": 14,
   "metadata": {},
   "outputs": [
    {
     "data": {
      "text/html": [
       "15"
      ],
      "text/latex": [
       "15"
      ],
      "text/markdown": [
       "15"
      ],
      "text/plain": [
       "[1] 15"
      ]
     },
     "metadata": {},
     "output_type": "display_data"
    },
    {
     "data": {
      "text/html": [
       "921771"
      ],
      "text/latex": [
       "921771"
      ],
      "text/markdown": [
       "921771"
      ],
      "text/plain": [
       "[1] 921771"
      ]
     },
     "metadata": {},
     "output_type": "display_data"
    }
   ],
   "source": [
    "ncol(orcid_3)\n",
    "nrow(orcid_3)"
   ]
  },
  {
   "cell_type": "code",
   "execution_count": 16,
   "metadata": {},
   "outputs": [
    {
     "data": {
      "text/html": [
       "15"
      ],
      "text/latex": [
       "15"
      ],
      "text/markdown": [
       "15"
      ],
      "text/plain": [
       "[1] 15"
      ]
     },
     "metadata": {},
     "output_type": "display_data"
    },
    {
     "data": {
      "text/html": [
       "943900"
      ],
      "text/latex": [
       "943900"
      ],
      "text/markdown": [
       "943900"
      ],
      "text/plain": [
       "[1] 943900"
      ]
     },
     "metadata": {},
     "output_type": "display_data"
    }
   ],
   "source": [
    "ncol(orcid_4)\n",
    "nrow(orcid_4)"
   ]
  },
  {
   "cell_type": "code",
   "execution_count": 17,
   "metadata": {},
   "outputs": [
    {
     "data": {
      "text/html": [
       "3732492"
      ],
      "text/latex": [
       "3732492"
      ],
      "text/markdown": [
       "3732492"
      ],
      "text/plain": [
       "[1] 3732492"
      ]
     },
     "metadata": {},
     "output_type": "display_data"
    }
   ],
   "source": [
    "nrow(orcid_1) + nrow(orcid_2) + nrow(orcid_3) + nrow(orcid_4)"
   ]
  },
  {
   "cell_type": "code",
   "execution_count": 18,
   "metadata": {},
   "outputs": [
    {
     "name": "stderr",
     "output_type": "stream",
     "text": [
      "Joining, by = c(\"IDENTIFICADOR\", \"NOMBRE\", \"APELLIDOS\", \"CREDIT_NAME(ALIAS1)\", \"OTHER_NAME(ALIAS2)\", \"CONTACTO_1\", \"CONTACTO_2\", \"EMAILS\", \"PAIS\", \"DEPARTAMENTO\", \"ROL\", \"INSTITUCION\", \"CIUDAD_INSTITUCION\", \"ESTADO_INSTITUCION\", \"PAIS_INSTITUCION\")\n",
      "Joining, by = c(\"IDENTIFICADOR\", \"NOMBRE\", \"APELLIDOS\", \"CREDIT_NAME(ALIAS1)\", \"OTHER_NAME(ALIAS2)\", \"CONTACTO_1\", \"CONTACTO_2\", \"EMAILS\", \"PAIS\", \"DEPARTAMENTO\", \"ROL\", \"INSTITUCION\", \"CIUDAD_INSTITUCION\", \"ESTADO_INSTITUCION\", \"PAIS_INSTITUCION\")\n",
      "Joining, by = c(\"IDENTIFICADOR\", \"NOMBRE\", \"APELLIDOS\", \"CREDIT_NAME(ALIAS1)\", \"OTHER_NAME(ALIAS2)\", \"CONTACTO_1\", \"CONTACTO_2\", \"EMAILS\", \"PAIS\", \"DEPARTAMENTO\", \"ROL\", \"INSTITUCION\", \"CIUDAD_INSTITUCION\", \"ESTADO_INSTITUCION\", \"PAIS_INSTITUCION\")\n"
     ]
    }
   ],
   "source": [
    "orcid <- full_join(orcid_1, orcid_2) %>% full_join(orcid_3)  %>% full_join(orcid_4)"
   ]
  },
  {
   "cell_type": "code",
   "execution_count": 19,
   "metadata": {},
   "outputs": [
    {
     "data": {
      "text/html": [
       "4332816"
      ],
      "text/latex": [
       "4332816"
      ],
      "text/markdown": [
       "4332816"
      ],
      "text/plain": [
       "[1] 4332816"
      ]
     },
     "metadata": {},
     "output_type": "display_data"
    }
   ],
   "source": [
    "nrow(orcid)"
   ]
  }
 ],
 "metadata": {
  "kernelspec": {
   "display_name": "R",
   "language": "R",
   "name": "ir"
  },
  "language_info": {
   "codemirror_mode": "r",
   "file_extension": ".r",
   "mimetype": "text/x-r-source",
   "name": "R",
   "pygments_lexer": "r",
   "version": "3.4.4"
  }
 },
 "nbformat": 4,
 "nbformat_minor": 2
}
