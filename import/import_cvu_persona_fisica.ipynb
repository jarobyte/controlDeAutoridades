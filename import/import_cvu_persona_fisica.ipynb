{
 "cells": [
  {
   "cell_type": "code",
   "execution_count": 1,
   "metadata": {},
   "outputs": [
    {
     "name": "stderr",
     "output_type": "stream",
     "text": [
      "Loading tidyverse: ggplot2\n",
      "Loading tidyverse: tibble\n",
      "Loading tidyverse: tidyr\n",
      "Loading tidyverse: readr\n",
      "Loading tidyverse: purrr\n",
      "Loading tidyverse: dplyr\n",
      "Conflicts with tidy packages ---------------------------------------------------\n",
      "filter(): dplyr, stats\n",
      "lag():    dplyr, stats\n"
     ]
    }
   ],
   "source": [
    "library(\"tidyverse\")\n",
    "library(\"stringr\")"
   ]
  },
  {
   "cell_type": "code",
   "execution_count": 2,
   "metadata": {},
   "outputs": [
    {
     "data": {
      "text/html": [
       "<table>\n",
       "<thead><tr><th scope=col>encoding</th><th scope=col>confidence</th></tr></thead>\n",
       "<tbody>\n",
       "\t<tr><td>ISO-8859-1</td><td>0.23      </td></tr>\n",
       "</tbody>\n",
       "</table>\n"
      ],
      "text/latex": [
       "\\begin{tabular}{r|ll}\n",
       " encoding & confidence\\\\\n",
       "\\hline\n",
       "\t ISO-8859-1 & 0.23      \\\\\n",
       "\\end{tabular}\n"
      ],
      "text/markdown": [
       "\n",
       "encoding | confidence | \n",
       "|---|\n",
       "| ISO-8859-1 | 0.23       | \n",
       "\n",
       "\n"
      ],
      "text/plain": [
       "  encoding   confidence\n",
       "1 ISO-8859-1 0.23      "
      ]
     },
     "metadata": {},
     "output_type": "display_data"
    }
   ],
   "source": [
    "guess_encoding(\"../fuente/cvu/PERSONA_FISICA/PERSONA_FISICA.csv\", n_max = -1)"
   ]
  },
  {
   "cell_type": "code",
   "execution_count": 3,
   "metadata": {},
   "outputs": [
    {
     "name": "stderr",
     "output_type": "stream",
     "text": [
      "Parsed with column specification:\n",
      "cols(\n",
      "  .default = col_integer(),\n",
      "  ID_ESTATUS_MIGRATORIO = col_character(),\n",
      "  NOMBRE = col_character(),\n",
      "  APELLIDO_PATERNO = col_character(),\n",
      "  APELLIDO_MATERNO = col_character(),\n",
      "  FECHA_NACIMIENTO = col_character(),\n",
      "  CURP = col_character(),\n",
      "  NUMERO_CVU = col_character(),\n",
      "  FECHA_ALTA = col_character(),\n",
      "  FECHA_MODIFICACION = col_character()\n",
      ")\n",
      "See spec(...) for full column specifications.\n"
     ]
    },
    {
     "data": {
      "text/html": [
       "<table>\n",
       "<thead><tr><th scope=col>ID_GENERO</th><th scope=col>ID_PAIS_NACIMIENTO</th><th scope=col>nombres</th><th scope=col>primer_apellido</th><th scope=col>segundo_apellido</th><th scope=col>FECHA_NACIMIENTO</th><th scope=col>CURP</th><th scope=col>NUMERO_CVU</th></tr></thead>\n",
       "<tbody>\n",
       "\t<tr><td>1                 </td><td> NA               </td><td>MANUEL ALFREDO    </td><td>HERNANDEZ         </td><td>OCHOA             </td><td>30/09/61          </td><td>AAPF610930HJCLDR01</td><td>NA                </td></tr>\n",
       "\t<tr><td>1                 </td><td>143               </td><td>JESUS             </td><td>MONREAL           </td><td>GARCIA            </td><td>26/08/16          </td><td>MOGJ800924HDFNRS00</td><td>779775            </td></tr>\n",
       "\t<tr><td>1                 </td><td>143               </td><td>IGNACIO           </td><td>MORENO            </td><td>VAZQUEZ           </td><td>31/07/61          </td><td>MOVI610731HDFRZG05</td><td>344041            </td></tr>\n",
       "\t<tr><td>1                 </td><td>143               </td><td>ROBERTO ARTURO    </td><td>COLIN             </td><td>RUIZ              </td><td>20/09/76          </td><td>CORR760920HDFLZB07</td><td>227332            </td></tr>\n",
       "\t<tr><td>1                 </td><td>143               </td><td>GUSTAVO ADAD      </td><td>RIOS              </td><td>ZUÑIGA            </td><td>09/02/88          </td><td>RIZG880209HDFSXS00</td><td>378676            </td></tr>\n",
       "\t<tr><td>2                 </td><td>143               </td><td>ITZEL NANDHY      </td><td>MORENO            </td><td>CARRILLO          </td><td>28/12/85          </td><td>MOCI851228MDFRRT05</td><td>NA                </td></tr>\n",
       "</tbody>\n",
       "</table>\n"
      ],
      "text/latex": [
       "\\begin{tabular}{r|llllllll}\n",
       " ID\\_GENERO & ID\\_PAIS\\_NACIMIENTO & nombres & primer\\_apellido & segundo\\_apellido & FECHA\\_NACIMIENTO & CURP & NUMERO\\_CVU\\\\\n",
       "\\hline\n",
       "\t 1                  &  NA                & MANUEL ALFREDO     & HERNANDEZ          & OCHOA              & 30/09/61           & AAPF610930HJCLDR01 & NA                \\\\\n",
       "\t 1                  & 143                & JESUS              & MONREAL            & GARCIA             & 26/08/16           & MOGJ800924HDFNRS00 & 779775            \\\\\n",
       "\t 1                  & 143                & IGNACIO            & MORENO             & VAZQUEZ            & 31/07/61           & MOVI610731HDFRZG05 & 344041            \\\\\n",
       "\t 1                  & 143                & ROBERTO ARTURO     & COLIN              & RUIZ               & 20/09/76           & CORR760920HDFLZB07 & 227332            \\\\\n",
       "\t 1                  & 143                & GUSTAVO ADAD       & RIOS               & ZUÑIGA             & 09/02/88           & RIZG880209HDFSXS00 & 378676            \\\\\n",
       "\t 2                  & 143                & ITZEL NANDHY       & MORENO             & CARRILLO           & 28/12/85           & MOCI851228MDFRRT05 & NA                \\\\\n",
       "\\end{tabular}\n"
      ],
      "text/markdown": [
       "\n",
       "ID_GENERO | ID_PAIS_NACIMIENTO | nombres | primer_apellido | segundo_apellido | FECHA_NACIMIENTO | CURP | NUMERO_CVU | \n",
       "|---|---|---|---|---|---|\n",
       "| 1                  |  NA                | MANUEL ALFREDO     | HERNANDEZ          | OCHOA              | 30/09/61           | AAPF610930HJCLDR01 | NA                 | \n",
       "| 1                  | 143                | JESUS              | MONREAL            | GARCIA             | 26/08/16           | MOGJ800924HDFNRS00 | 779775             | \n",
       "| 1                  | 143                | IGNACIO            | MORENO             | VAZQUEZ            | 31/07/61           | MOVI610731HDFRZG05 | 344041             | \n",
       "| 1                  | 143                | ROBERTO ARTURO     | COLIN              | RUIZ               | 20/09/76           | CORR760920HDFLZB07 | 227332             | \n",
       "| 1                  | 143                | GUSTAVO ADAD       | RIOS               | ZUÑIGA             | 09/02/88           | RIZG880209HDFSXS00 | 378676             | \n",
       "| 2                  | 143                | ITZEL NANDHY       | MORENO             | CARRILLO           | 28/12/85           | MOCI851228MDFRRT05 | NA                 | \n",
       "\n",
       "\n"
      ],
      "text/plain": [
       "  ID_GENERO ID_PAIS_NACIMIENTO nombres        primer_apellido segundo_apellido\n",
       "1 1          NA                MANUEL ALFREDO HERNANDEZ       OCHOA           \n",
       "2 1         143                JESUS          MONREAL         GARCIA          \n",
       "3 1         143                IGNACIO        MORENO          VAZQUEZ         \n",
       "4 1         143                ROBERTO ARTURO COLIN           RUIZ            \n",
       "5 1         143                GUSTAVO ADAD   RIOS            ZUÑIGA          \n",
       "6 2         143                ITZEL NANDHY   MORENO          CARRILLO        \n",
       "  FECHA_NACIMIENTO CURP               NUMERO_CVU\n",
       "1 30/09/61         AAPF610930HJCLDR01 NA        \n",
       "2 26/08/16         MOGJ800924HDFNRS00 779775    \n",
       "3 31/07/61         MOVI610731HDFRZG05 344041    \n",
       "4 20/09/76         CORR760920HDFLZB07 227332    \n",
       "5 09/02/88         RIZG880209HDFSXS00 378676    \n",
       "6 28/12/85         MOCI851228MDFRRT05 NA        "
      ]
     },
     "metadata": {},
     "output_type": "display_data"
    },
    {
     "data": {
      "text/html": [
       "<ol class=list-inline>\n",
       "\t<li>284177</li>\n",
       "\t<li>8</li>\n",
       "</ol>\n"
      ],
      "text/latex": [
       "\\begin{enumerate*}\n",
       "\\item 284177\n",
       "\\item 8\n",
       "\\end{enumerate*}\n"
      ],
      "text/markdown": [
       "1. 284177\n",
       "2. 8\n",
       "\n",
       "\n"
      ],
      "text/plain": [
       "[1] 284177      8"
      ]
     },
     "metadata": {},
     "output_type": "display_data"
    }
   ],
   "source": [
    "cvu <- read_csv(\"../fuente/cvu/PERSONA_FISICA/PERSONA_FISICA.csv\", locale = locale(encoding = \"ISO-8859-1\"))%>% \n",
    "rename(nombres = NOMBRE, \n",
    "       primer_apellido = APELLIDO_PATERNO,\n",
    "       segundo_apellido = APELLIDO_MATERNO) %>% \n",
    "select(-ID_PERSONA_FISICA, \n",
    "       -ID_ESTATUS_MIGRATORIO, \n",
    "       -ID_ESTADO_CIVIL, \n",
    "       -ID_NACIONALIDAD, \n",
    "       -ID_ENTIDAD_NACIMIENTO, \n",
    "       -IND_DATO_CORRECTO, \n",
    "       -IND_TIPO_BENEFICIO, \n",
    "       -USUARIO_ALTA, \n",
    "       -USUARIO_MODIFICACION, \n",
    "       -FECHA_ALTA, \n",
    "       -FECHA_MODIFICACION, \n",
    "       -IND_ESTATUS)\n",
    "\n",
    "head(cvu)\n",
    "dim(cvu)"
   ]
  },
  {
   "cell_type": "code",
   "execution_count": 4,
   "metadata": {},
   "outputs": [
    {
     "name": "stderr",
     "output_type": "stream",
     "text": [
      "Parsed with column specification:\n",
      "cols(\n",
      "  ID_GENERO = col_integer(),\n",
      "  CVE_GENERO = col_character(),\n",
      "  DESC_GENERO = col_character(),\n",
      "  USUARIO_ALTA = col_integer(),\n",
      "  USUARIO_MODIFICACION = col_character(),\n",
      "  FECHA_ALTA = col_character(),\n",
      "  FECHA_MODIFICACION = col_character(),\n",
      "  IND_ESTATUS = col_integer()\n",
      ")\n"
     ]
    },
    {
     "data": {
      "text/html": [
       "<table>\n",
       "<thead><tr><th scope=col>ID_GENERO</th><th scope=col>DESC_GENERO</th></tr></thead>\n",
       "<tbody>\n",
       "\t<tr><td>1        </td><td>Masculino</td></tr>\n",
       "\t<tr><td>2        </td><td>Femenino </td></tr>\n",
       "</tbody>\n",
       "</table>\n"
      ],
      "text/latex": [
       "\\begin{tabular}{r|ll}\n",
       " ID\\_GENERO & DESC\\_GENERO\\\\\n",
       "\\hline\n",
       "\t 1         & Masculino\\\\\n",
       "\t 2         & Femenino \\\\\n",
       "\\end{tabular}\n"
      ],
      "text/markdown": [
       "\n",
       "ID_GENERO | DESC_GENERO | \n",
       "|---|---|\n",
       "| 1         | Masculino | \n",
       "| 2         | Femenino  | \n",
       "\n",
       "\n"
      ],
      "text/plain": [
       "  ID_GENERO DESC_GENERO\n",
       "1 1         Masculino  \n",
       "2 2         Femenino   "
      ]
     },
     "metadata": {},
     "output_type": "display_data"
    }
   ],
   "source": [
    "cat_genero <- read_csv(\"../fuente//cvu/PERSONA_FISICA/CAT_GENERO.csv\") %>% \n",
    "select(ID_GENERO, DESC_GENERO)\n",
    "\n",
    "head(cat_genero)"
   ]
  },
  {
   "cell_type": "code",
   "execution_count": 5,
   "metadata": {},
   "outputs": [
    {
     "name": "stderr",
     "output_type": "stream",
     "text": [
      "Joining, by = \"ID_GENERO\"\n"
     ]
    },
    {
     "data": {
      "text/html": [
       "<table>\n",
       "<thead><tr><th scope=col>ID_PAIS_NACIMIENTO</th><th scope=col>nombres</th><th scope=col>primer_apellido</th><th scope=col>segundo_apellido</th><th scope=col>FECHA_NACIMIENTO</th><th scope=col>CURP</th><th scope=col>NUMERO_CVU</th><th scope=col>genero</th></tr></thead>\n",
       "<tbody>\n",
       "\t<tr><td> NA               </td><td>MANUEL ALFREDO    </td><td>HERNANDEZ         </td><td>OCHOA             </td><td>30/09/61          </td><td>AAPF610930HJCLDR01</td><td>NA                </td><td>Masculino         </td></tr>\n",
       "\t<tr><td>143               </td><td>JESUS             </td><td>MONREAL           </td><td>GARCIA            </td><td>26/08/16          </td><td>MOGJ800924HDFNRS00</td><td>779775            </td><td>Masculino         </td></tr>\n",
       "\t<tr><td>143               </td><td>IGNACIO           </td><td>MORENO            </td><td>VAZQUEZ           </td><td>31/07/61          </td><td>MOVI610731HDFRZG05</td><td>344041            </td><td>Masculino         </td></tr>\n",
       "\t<tr><td>143               </td><td>ROBERTO ARTURO    </td><td>COLIN             </td><td>RUIZ              </td><td>20/09/76          </td><td>CORR760920HDFLZB07</td><td>227332            </td><td>Masculino         </td></tr>\n",
       "\t<tr><td>143               </td><td>GUSTAVO ADAD      </td><td>RIOS              </td><td>ZUÑIGA            </td><td>09/02/88          </td><td>RIZG880209HDFSXS00</td><td>378676            </td><td>Masculino         </td></tr>\n",
       "\t<tr><td>143               </td><td>ITZEL NANDHY      </td><td>MORENO            </td><td>CARRILLO          </td><td>28/12/85          </td><td>MOCI851228MDFRRT05</td><td>NA                </td><td>Femenino          </td></tr>\n",
       "</tbody>\n",
       "</table>\n"
      ],
      "text/latex": [
       "\\begin{tabular}{r|llllllll}\n",
       " ID\\_PAIS\\_NACIMIENTO & nombres & primer\\_apellido & segundo\\_apellido & FECHA\\_NACIMIENTO & CURP & NUMERO\\_CVU & genero\\\\\n",
       "\\hline\n",
       "\t  NA                & MANUEL ALFREDO     & HERNANDEZ          & OCHOA              & 30/09/61           & AAPF610930HJCLDR01 & NA                 & Masculino         \\\\\n",
       "\t 143                & JESUS              & MONREAL            & GARCIA             & 26/08/16           & MOGJ800924HDFNRS00 & 779775             & Masculino         \\\\\n",
       "\t 143                & IGNACIO            & MORENO             & VAZQUEZ            & 31/07/61           & MOVI610731HDFRZG05 & 344041             & Masculino         \\\\\n",
       "\t 143                & ROBERTO ARTURO     & COLIN              & RUIZ               & 20/09/76           & CORR760920HDFLZB07 & 227332             & Masculino         \\\\\n",
       "\t 143                & GUSTAVO ADAD       & RIOS               & ZUÑIGA             & 09/02/88           & RIZG880209HDFSXS00 & 378676             & Masculino         \\\\\n",
       "\t 143                & ITZEL NANDHY       & MORENO             & CARRILLO           & 28/12/85           & MOCI851228MDFRRT05 & NA                 & Femenino          \\\\\n",
       "\\end{tabular}\n"
      ],
      "text/markdown": [
       "\n",
       "ID_PAIS_NACIMIENTO | nombres | primer_apellido | segundo_apellido | FECHA_NACIMIENTO | CURP | NUMERO_CVU | genero | \n",
       "|---|---|---|---|---|---|\n",
       "|  NA                | MANUEL ALFREDO     | HERNANDEZ          | OCHOA              | 30/09/61           | AAPF610930HJCLDR01 | NA                 | Masculino          | \n",
       "| 143                | JESUS              | MONREAL            | GARCIA             | 26/08/16           | MOGJ800924HDFNRS00 | 779775             | Masculino          | \n",
       "| 143                | IGNACIO            | MORENO             | VAZQUEZ            | 31/07/61           | MOVI610731HDFRZG05 | 344041             | Masculino          | \n",
       "| 143                | ROBERTO ARTURO     | COLIN              | RUIZ               | 20/09/76           | CORR760920HDFLZB07 | 227332             | Masculino          | \n",
       "| 143                | GUSTAVO ADAD       | RIOS               | ZUÑIGA             | 09/02/88           | RIZG880209HDFSXS00 | 378676             | Masculino          | \n",
       "| 143                | ITZEL NANDHY       | MORENO             | CARRILLO           | 28/12/85           | MOCI851228MDFRRT05 | NA                 | Femenino           | \n",
       "\n",
       "\n"
      ],
      "text/plain": [
       "  ID_PAIS_NACIMIENTO nombres        primer_apellido segundo_apellido\n",
       "1  NA                MANUEL ALFREDO HERNANDEZ       OCHOA           \n",
       "2 143                JESUS          MONREAL         GARCIA          \n",
       "3 143                IGNACIO        MORENO          VAZQUEZ         \n",
       "4 143                ROBERTO ARTURO COLIN           RUIZ            \n",
       "5 143                GUSTAVO ADAD   RIOS            ZUÑIGA          \n",
       "6 143                ITZEL NANDHY   MORENO          CARRILLO        \n",
       "  FECHA_NACIMIENTO CURP               NUMERO_CVU genero   \n",
       "1 30/09/61         AAPF610930HJCLDR01 NA         Masculino\n",
       "2 26/08/16         MOGJ800924HDFNRS00 779775     Masculino\n",
       "3 31/07/61         MOVI610731HDFRZG05 344041     Masculino\n",
       "4 20/09/76         CORR760920HDFLZB07 227332     Masculino\n",
       "5 09/02/88         RIZG880209HDFSXS00 378676     Masculino\n",
       "6 28/12/85         MOCI851228MDFRRT05 NA         Femenino "
      ]
     },
     "metadata": {},
     "output_type": "display_data"
    },
    {
     "data": {
      "text/html": [
       "<ol class=list-inline>\n",
       "\t<li>284177</li>\n",
       "\t<li>8</li>\n",
       "</ol>\n"
      ],
      "text/latex": [
       "\\begin{enumerate*}\n",
       "\\item 284177\n",
       "\\item 8\n",
       "\\end{enumerate*}\n"
      ],
      "text/markdown": [
       "1. 284177\n",
       "2. 8\n",
       "\n",
       "\n"
      ],
      "text/plain": [
       "[1] 284177      8"
      ]
     },
     "metadata": {},
     "output_type": "display_data"
    }
   ],
   "source": [
    "cvu_con_genero <- left_join(cvu, cat_genero) %>% \n",
    "select(-ID_GENERO) %>% \n",
    "rename(genero = DESC_GENERO)\n",
    "\n",
    "head(cvu_con_genero)\n",
    "dim(cvu_con_genero)"
   ]
  },
  {
   "cell_type": "code",
   "execution_count": 6,
   "metadata": {},
   "outputs": [
    {
     "name": "stderr",
     "output_type": "stream",
     "text": [
      "Parsed with column specification:\n",
      "cols(\n",
      "  ID_PAIS = col_integer(),\n",
      "  CVE_PAIS = col_character(),\n",
      "  DESC_PAIS = col_character(),\n",
      "  USUARIO_ALTA = col_integer(),\n",
      "  USUARIO_MODIFICACION = col_character(),\n",
      "  FECHA_ALTA = col_character(),\n",
      "  FECHA_MODIFICACION = col_character(),\n",
      "  IND_ESTATUS = col_integer()\n",
      ")\n"
     ]
    },
    {
     "data": {
      "text/html": [
       "<table>\n",
       "<thead><tr><th scope=col>ID_PAIS</th><th scope=col>CVE_PAIS</th></tr></thead>\n",
       "<tbody>\n",
       "\t<tr><td>119</td><td>KOR</td></tr>\n",
       "\t<tr><td>120</td><td>KWT</td></tr>\n",
       "\t<tr><td>121</td><td>KGZ</td></tr>\n",
       "\t<tr><td>122</td><td>LAO</td></tr>\n",
       "\t<tr><td>123</td><td>LVA</td></tr>\n",
       "\t<tr><td>124</td><td>LBN</td></tr>\n",
       "</tbody>\n",
       "</table>\n"
      ],
      "text/latex": [
       "\\begin{tabular}{r|ll}\n",
       " ID\\_PAIS & CVE\\_PAIS\\\\\n",
       "\\hline\n",
       "\t 119 & KOR\\\\\n",
       "\t 120 & KWT\\\\\n",
       "\t 121 & KGZ\\\\\n",
       "\t 122 & LAO\\\\\n",
       "\t 123 & LVA\\\\\n",
       "\t 124 & LBN\\\\\n",
       "\\end{tabular}\n"
      ],
      "text/markdown": [
       "\n",
       "ID_PAIS | CVE_PAIS | \n",
       "|---|---|---|---|---|---|\n",
       "| 119 | KOR | \n",
       "| 120 | KWT | \n",
       "| 121 | KGZ | \n",
       "| 122 | LAO | \n",
       "| 123 | LVA | \n",
       "| 124 | LBN | \n",
       "\n",
       "\n"
      ],
      "text/plain": [
       "  ID_PAIS CVE_PAIS\n",
       "1 119     KOR     \n",
       "2 120     KWT     \n",
       "3 121     KGZ     \n",
       "4 122     LAO     \n",
       "5 123     LVA     \n",
       "6 124     LBN     "
      ]
     },
     "metadata": {},
     "output_type": "display_data"
    }
   ],
   "source": [
    "cat_pais <- read_csv(\"../fuente/cvu/PERSONA_FISICA/CAT_PAIS.csv\") %>% \n",
    "select(ID_PAIS, CVE_PAIS)\n",
    "\n",
    "head(cat_pais)"
   ]
  },
  {
   "cell_type": "code",
   "execution_count": 7,
   "metadata": {},
   "outputs": [
    {
     "data": {
      "text/html": [
       "<table>\n",
       "<thead><tr><th scope=col>nombres</th><th scope=col>primer_apellido</th><th scope=col>segundo_apellido</th><th scope=col>curp</th><th scope=col>cvu</th><th scope=col>genero</th><th scope=col>pais_de_nacimiento</th><th scope=col>dni</th><th scope=col>afiliacion</th><th scope=col>orcid</th><th scope=col>rn</th><th scope=col>pais_asociado</th><th scope=col>origen</th><th scope=col>fecha_de_nacimiento</th></tr></thead>\n",
       "<tbody>\n",
       "\t<tr><td>MANUEL ALFREDO    </td><td>HERNANDEZ         </td><td>OCHOA             </td><td>AAPF610930HJCLDR01</td><td>NA                </td><td>Masculino         </td><td>NA                </td><td>NA                </td><td>NA                </td><td>NA                </td><td>NA                </td><td>NA                </td><td>cvu               </td><td>30/09/1961        </td></tr>\n",
       "\t<tr><td>JESUS             </td><td>MONREAL           </td><td>GARCIA            </td><td>MOGJ800924HDFNRS00</td><td>779775            </td><td>Masculino         </td><td>MEX               </td><td>NA                </td><td>NA                </td><td>NA                </td><td>NA                </td><td>NA                </td><td>cvu               </td><td>26/08/1916        </td></tr>\n",
       "\t<tr><td>IGNACIO           </td><td>MORENO            </td><td>VAZQUEZ           </td><td>MOVI610731HDFRZG05</td><td>344041            </td><td>Masculino         </td><td>MEX               </td><td>NA                </td><td>NA                </td><td>NA                </td><td>NA                </td><td>NA                </td><td>cvu               </td><td>31/07/1961        </td></tr>\n",
       "\t<tr><td>ROBERTO ARTURO    </td><td>COLIN             </td><td>RUIZ              </td><td>CORR760920HDFLZB07</td><td>227332            </td><td>Masculino         </td><td>MEX               </td><td>NA                </td><td>NA                </td><td>NA                </td><td>NA                </td><td>NA                </td><td>cvu               </td><td>20/09/1976        </td></tr>\n",
       "\t<tr><td>GUSTAVO ADAD      </td><td>RIOS              </td><td>ZUÑIGA            </td><td>RIZG880209HDFSXS00</td><td>378676            </td><td>Masculino         </td><td>MEX               </td><td>NA                </td><td>NA                </td><td>NA                </td><td>NA                </td><td>NA                </td><td>cvu               </td><td>09/02/1988        </td></tr>\n",
       "\t<tr><td>ITZEL NANDHY      </td><td>MORENO            </td><td>CARRILLO          </td><td>MOCI851228MDFRRT05</td><td>NA                </td><td>Femenino          </td><td>MEX               </td><td>NA                </td><td>NA                </td><td>NA                </td><td>NA                </td><td>NA                </td><td>cvu               </td><td>28/12/1985        </td></tr>\n",
       "</tbody>\n",
       "</table>\n"
      ],
      "text/latex": [
       "\\begin{tabular}{r|llllllllllllll}\n",
       " nombres & primer\\_apellido & segundo\\_apellido & curp & cvu & genero & pais\\_de\\_nacimiento & dni & afiliacion & orcid & rn & pais\\_asociado & origen & fecha\\_de\\_nacimiento\\\\\n",
       "\\hline\n",
       "\t MANUEL ALFREDO     & HERNANDEZ          & OCHOA              & AAPF610930HJCLDR01 & NA                 & Masculino          & NA                 & NA                 & NA                 & NA                 & NA                 & NA                 & cvu                & 30/09/1961        \\\\\n",
       "\t JESUS              & MONREAL            & GARCIA             & MOGJ800924HDFNRS00 & 779775             & Masculino          & MEX                & NA                 & NA                 & NA                 & NA                 & NA                 & cvu                & 26/08/1916        \\\\\n",
       "\t IGNACIO            & MORENO             & VAZQUEZ            & MOVI610731HDFRZG05 & 344041             & Masculino          & MEX                & NA                 & NA                 & NA                 & NA                 & NA                 & cvu                & 31/07/1961        \\\\\n",
       "\t ROBERTO ARTURO     & COLIN              & RUIZ               & CORR760920HDFLZB07 & 227332             & Masculino          & MEX                & NA                 & NA                 & NA                 & NA                 & NA                 & cvu                & 20/09/1976        \\\\\n",
       "\t GUSTAVO ADAD       & RIOS               & ZUÑIGA             & RIZG880209HDFSXS00 & 378676             & Masculino          & MEX                & NA                 & NA                 & NA                 & NA                 & NA                 & cvu                & 09/02/1988        \\\\\n",
       "\t ITZEL NANDHY       & MORENO             & CARRILLO           & MOCI851228MDFRRT05 & NA                 & Femenino           & MEX                & NA                 & NA                 & NA                 & NA                 & NA                 & cvu                & 28/12/1985        \\\\\n",
       "\\end{tabular}\n"
      ],
      "text/markdown": [
       "\n",
       "nombres | primer_apellido | segundo_apellido | curp | cvu | genero | pais_de_nacimiento | dni | afiliacion | orcid | rn | pais_asociado | origen | fecha_de_nacimiento | \n",
       "|---|---|---|---|---|---|\n",
       "| MANUEL ALFREDO     | HERNANDEZ          | OCHOA              | AAPF610930HJCLDR01 | NA                 | Masculino          | NA                 | NA                 | NA                 | NA                 | NA                 | NA                 | cvu                | 30/09/1961         | \n",
       "| JESUS              | MONREAL            | GARCIA             | MOGJ800924HDFNRS00 | 779775             | Masculino          | MEX                | NA                 | NA                 | NA                 | NA                 | NA                 | cvu                | 26/08/1916         | \n",
       "| IGNACIO            | MORENO             | VAZQUEZ            | MOVI610731HDFRZG05 | 344041             | Masculino          | MEX                | NA                 | NA                 | NA                 | NA                 | NA                 | cvu                | 31/07/1961         | \n",
       "| ROBERTO ARTURO     | COLIN              | RUIZ               | CORR760920HDFLZB07 | 227332             | Masculino          | MEX                | NA                 | NA                 | NA                 | NA                 | NA                 | cvu                | 20/09/1976         | \n",
       "| GUSTAVO ADAD       | RIOS               | ZUÑIGA             | RIZG880209HDFSXS00 | 378676             | Masculino          | MEX                | NA                 | NA                 | NA                 | NA                 | NA                 | cvu                | 09/02/1988         | \n",
       "| ITZEL NANDHY       | MORENO             | CARRILLO           | MOCI851228MDFRRT05 | NA                 | Femenino           | MEX                | NA                 | NA                 | NA                 | NA                 | NA                 | cvu                | 28/12/1985         | \n",
       "\n",
       "\n"
      ],
      "text/plain": [
       "  nombres        primer_apellido segundo_apellido curp               cvu   \n",
       "1 MANUEL ALFREDO HERNANDEZ       OCHOA            AAPF610930HJCLDR01 NA    \n",
       "2 JESUS          MONREAL         GARCIA           MOGJ800924HDFNRS00 779775\n",
       "3 IGNACIO        MORENO          VAZQUEZ          MOVI610731HDFRZG05 344041\n",
       "4 ROBERTO ARTURO COLIN           RUIZ             CORR760920HDFLZB07 227332\n",
       "5 GUSTAVO ADAD   RIOS            ZUÑIGA           RIZG880209HDFSXS00 378676\n",
       "6 ITZEL NANDHY   MORENO          CARRILLO         MOCI851228MDFRRT05 NA    \n",
       "  genero    pais_de_nacimiento dni afiliacion orcid rn pais_asociado origen\n",
       "1 Masculino NA                 NA  NA         NA    NA NA            cvu   \n",
       "2 Masculino MEX                NA  NA         NA    NA NA            cvu   \n",
       "3 Masculino MEX                NA  NA         NA    NA NA            cvu   \n",
       "4 Masculino MEX                NA  NA         NA    NA NA            cvu   \n",
       "5 Masculino MEX                NA  NA         NA    NA NA            cvu   \n",
       "6 Femenino  MEX                NA  NA         NA    NA NA            cvu   \n",
       "  fecha_de_nacimiento\n",
       "1 30/09/1961         \n",
       "2 26/08/1916         \n",
       "3 31/07/1961         \n",
       "4 20/09/1976         \n",
       "5 09/02/1988         \n",
       "6 28/12/1985         "
      ]
     },
     "metadata": {},
     "output_type": "display_data"
    },
    {
     "data": {
      "text/html": [
       "<ol class=list-inline>\n",
       "\t<li>284177</li>\n",
       "\t<li>14</li>\n",
       "</ol>\n"
      ],
      "text/latex": [
       "\\begin{enumerate*}\n",
       "\\item 284177\n",
       "\\item 14\n",
       "\\end{enumerate*}\n"
      ],
      "text/markdown": [
       "1. 284177\n",
       "2. 14\n",
       "\n",
       "\n"
      ],
      "text/plain": [
       "[1] 284177     14"
      ]
     },
     "metadata": {},
     "output_type": "display_data"
    }
   ],
   "source": [
    "cvu_con_pais <- left_join(cvu_con_genero, cat_pais, by = c(\"ID_PAIS_NACIMIENTO\" = \"ID_PAIS\")) %>% \n",
    "select(-ID_PAIS_NACIMIENTO) %>% \n",
    "rename(pais_de_nacimiento = CVE_PAIS, \n",
    "      curp = CURP,\n",
    "      cvu = NUMERO_CVU) %>% \n",
    "mutate(dni = NA,\n",
    "      afiliacion = NA,\n",
    "      orcid = NA,\n",
    "      rn = NA,\n",
    "      pais_asociado = NA,\n",
    "      origen = \"cvu\") %>% \n",
    "mutate(fecha_de_nacimiento = str_replace(FECHA_NACIMIENTO,\n",
    "                                         pattern = \"/(\\\\d\\\\d)$\",\n",
    "                                         replacement = \"/19\\\\1\")) %>% \n",
    "select(-FECHA_NACIMIENTO)\n",
    "\n",
    "head(cvu_con_pais)\n",
    "dim(cvu_con_pais)"
   ]
  },
  {
   "cell_type": "code",
   "execution_count": 9,
   "metadata": {},
   "outputs": [],
   "source": [
    "write_csv(cvu_con_pais, \"../datos/cvu.csv\")"
   ]
  }
 ],
 "metadata": {
  "kernelspec": {
   "display_name": "R",
   "language": "R",
   "name": "ir"
  },
  "language_info": {
   "codemirror_mode": "r",
   "file_extension": ".r",
   "mimetype": "text/x-r-source",
   "name": "R",
   "pygments_lexer": "r",
   "version": "3.4.4"
  }
 },
 "nbformat": 4,
 "nbformat_minor": 2
}
