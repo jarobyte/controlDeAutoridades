{
 "cells": [
  {
   "cell_type": "code",
   "execution_count": 1,
   "metadata": {},
   "outputs": [
    {
     "name": "stderr",
     "output_type": "stream",
     "text": [
      "Loading tidyverse: ggplot2\n",
      "Loading tidyverse: tibble\n",
      "Loading tidyverse: tidyr\n",
      "Loading tidyverse: readr\n",
      "Loading tidyverse: purrr\n",
      "Loading tidyverse: dplyr\n",
      "Conflicts with tidy packages ---------------------------------------------------\n",
      "filter(): dplyr, stats\n",
      "lag():    dplyr, stats\n"
     ]
    }
   ],
   "source": [
    "library(\"tidyverse\")"
   ]
  },
  {
   "cell_type": "code",
   "execution_count": 2,
   "metadata": {},
   "outputs": [
    {
     "name": "stderr",
     "output_type": "stream",
     "text": [
      "Parsed with column specification:\n",
      "cols(\n",
      "  curp = col_character(),\n",
      "  primer_apellido = col_character(),\n",
      "  segundo_apellido = col_character(),\n",
      "  nombres = col_character(),\n",
      "  fecha_de_nacimiento = col_character(),\n",
      "  pais_asociado = col_character(),\n",
      "  genero = col_character(),\n",
      "  cvu = col_character(),\n",
      "  orcid = col_character(),\n",
      "  rn = col_character(),\n",
      "  dni = col_character(),\n",
      "  pais_de_nacimiento = col_character(),\n",
      "  afiliacion = col_character(),\n",
      "  origen = col_character()\n",
      ")\n"
     ]
    },
    {
     "data": {
      "text/html": [
       "<table>\n",
       "<thead><tr><th scope=col>curp</th><th scope=col>primer_apellido</th><th scope=col>segundo_apellido</th><th scope=col>nombres</th><th scope=col>fecha_de_nacimiento</th><th scope=col>pais_asociado</th><th scope=col>genero</th><th scope=col>cvu</th><th scope=col>orcid</th><th scope=col>rn</th><th scope=col>dni</th><th scope=col>pais_de_nacimiento</th><th scope=col>afiliacion</th><th scope=col>origen</th></tr></thead>\n",
       "<tbody>\n",
       "\t<tr><td>MOAG401212HJCRLD07</td><td>MORENO            </td><td>DE ALBA           </td><td>JOSE GUADALUPE    </td><td>12/12/1940        </td><td>MEX               </td><td>Masculino         </td><td>NA                </td><td>NA                </td><td>NA                </td><td>NA                </td><td>NA                </td><td>NA                </td><td>dape              </td></tr>\n",
       "\t<tr><td>PABJ310212HNESXS07</td><td>PASCUAL           </td><td>BUXO              </td><td>JOSE              </td><td>12/02/1931        </td><td>MEX               </td><td>Masculino         </td><td>NA                </td><td>NA                </td><td>NA                </td><td>NA                </td><td>NA                </td><td>NA                </td><td>dape              </td></tr>\n",
       "\t<tr><td>VEJS450715HNERSR03</td><td>VERMA             </td><td>JAISWAL           </td><td>SURENDRA PAL      </td><td>15/07/1945        </td><td>MEX               </td><td>Masculino         </td><td>NA                </td><td>NA                </td><td>NA                </td><td>NA                </td><td>NA                </td><td>NA                </td><td>dape              </td></tr>\n",
       "\t<tr><td>AOSJ430120HASLNR09</td><td>ALONSO            </td><td>SANCHEZ           </td><td>JORGE             </td><td>20/01/1943        </td><td>MEX               </td><td>Masculino         </td><td>NA                </td><td>NA                </td><td>NA                </td><td>NA                </td><td>NA                </td><td>NA                </td><td>dape              </td></tr>\n",
       "\t<tr><td>AAGE511110MDFZRL06</td><td>AZAOLA            </td><td>GARRIDO           </td><td>ELENA             </td><td>10/11/1951        </td><td>MEX               </td><td>Femenino          </td><td>NA                </td><td>NA                </td><td>NA                </td><td>NA                </td><td>NA                </td><td>NA                </td><td>dape              </td></tr>\n",
       "\t<tr><td>RARF380202HDFMMD03</td><td>RAMON             </td><td>Y ROMERO          </td><td>FIDEL ALBERTO     </td><td>02/02/1938        </td><td>MEX               </td><td>Masculino         </td><td>NA                </td><td>NA                </td><td>NA                </td><td>NA                </td><td>NA                </td><td>NA                </td><td>dape              </td></tr>\n",
       "</tbody>\n",
       "</table>\n"
      ],
      "text/latex": [
       "\\begin{tabular}{r|llllllllllllll}\n",
       " curp & primer\\_apellido & segundo\\_apellido & nombres & fecha\\_de\\_nacimiento & pais\\_asociado & genero & cvu & orcid & rn & dni & pais\\_de\\_nacimiento & afiliacion & origen\\\\\n",
       "\\hline\n",
       "\t MOAG401212HJCRLD07 & MORENO             & DE ALBA            & JOSE GUADALUPE     & 12/12/1940         & MEX                & Masculino          & NA                 & NA                 & NA                 & NA                 & NA                 & NA                 & dape              \\\\\n",
       "\t PABJ310212HNESXS07 & PASCUAL            & BUXO               & JOSE               & 12/02/1931         & MEX                & Masculino          & NA                 & NA                 & NA                 & NA                 & NA                 & NA                 & dape              \\\\\n",
       "\t VEJS450715HNERSR03 & VERMA              & JAISWAL            & SURENDRA PAL       & 15/07/1945         & MEX                & Masculino          & NA                 & NA                 & NA                 & NA                 & NA                 & NA                 & dape              \\\\\n",
       "\t AOSJ430120HASLNR09 & ALONSO             & SANCHEZ            & JORGE              & 20/01/1943         & MEX                & Masculino          & NA                 & NA                 & NA                 & NA                 & NA                 & NA                 & dape              \\\\\n",
       "\t AAGE511110MDFZRL06 & AZAOLA             & GARRIDO            & ELENA              & 10/11/1951         & MEX                & Femenino           & NA                 & NA                 & NA                 & NA                 & NA                 & NA                 & dape              \\\\\n",
       "\t RARF380202HDFMMD03 & RAMON              & Y ROMERO           & FIDEL ALBERTO      & 02/02/1938         & MEX                & Masculino          & NA                 & NA                 & NA                 & NA                 & NA                 & NA                 & dape              \\\\\n",
       "\\end{tabular}\n"
      ],
      "text/markdown": [
       "\n",
       "curp | primer_apellido | segundo_apellido | nombres | fecha_de_nacimiento | pais_asociado | genero | cvu | orcid | rn | dni | pais_de_nacimiento | afiliacion | origen | \n",
       "|---|---|---|---|---|---|\n",
       "| MOAG401212HJCRLD07 | MORENO             | DE ALBA            | JOSE GUADALUPE     | 12/12/1940         | MEX                | Masculino          | NA                 | NA                 | NA                 | NA                 | NA                 | NA                 | dape               | \n",
       "| PABJ310212HNESXS07 | PASCUAL            | BUXO               | JOSE               | 12/02/1931         | MEX                | Masculino          | NA                 | NA                 | NA                 | NA                 | NA                 | NA                 | dape               | \n",
       "| VEJS450715HNERSR03 | VERMA              | JAISWAL            | SURENDRA PAL       | 15/07/1945         | MEX                | Masculino          | NA                 | NA                 | NA                 | NA                 | NA                 | NA                 | dape               | \n",
       "| AOSJ430120HASLNR09 | ALONSO             | SANCHEZ            | JORGE              | 20/01/1943         | MEX                | Masculino          | NA                 | NA                 | NA                 | NA                 | NA                 | NA                 | dape               | \n",
       "| AAGE511110MDFZRL06 | AZAOLA             | GARRIDO            | ELENA              | 10/11/1951         | MEX                | Femenino           | NA                 | NA                 | NA                 | NA                 | NA                 | NA                 | dape               | \n",
       "| RARF380202HDFMMD03 | RAMON              | Y ROMERO           | FIDEL ALBERTO      | 02/02/1938         | MEX                | Masculino          | NA                 | NA                 | NA                 | NA                 | NA                 | NA                 | dape               | \n",
       "\n",
       "\n"
      ],
      "text/plain": [
       "  curp               primer_apellido segundo_apellido nombres       \n",
       "1 MOAG401212HJCRLD07 MORENO          DE ALBA          JOSE GUADALUPE\n",
       "2 PABJ310212HNESXS07 PASCUAL         BUXO             JOSE          \n",
       "3 VEJS450715HNERSR03 VERMA           JAISWAL          SURENDRA PAL  \n",
       "4 AOSJ430120HASLNR09 ALONSO          SANCHEZ          JORGE         \n",
       "5 AAGE511110MDFZRL06 AZAOLA          GARRIDO          ELENA         \n",
       "6 RARF380202HDFMMD03 RAMON           Y ROMERO         FIDEL ALBERTO \n",
       "  fecha_de_nacimiento pais_asociado genero    cvu orcid rn dni\n",
       "1 12/12/1940          MEX           Masculino NA  NA    NA NA \n",
       "2 12/02/1931          MEX           Masculino NA  NA    NA NA \n",
       "3 15/07/1945          MEX           Masculino NA  NA    NA NA \n",
       "4 20/01/1943          MEX           Masculino NA  NA    NA NA \n",
       "5 10/11/1951          MEX           Femenino  NA  NA    NA NA \n",
       "6 02/02/1938          MEX           Masculino NA  NA    NA NA \n",
       "  pais_de_nacimiento afiliacion origen\n",
       "1 NA                 NA         dape  \n",
       "2 NA                 NA         dape  \n",
       "3 NA                 NA         dape  \n",
       "4 NA                 NA         dape  \n",
       "5 NA                 NA         dape  \n",
       "6 NA                 NA         dape  "
      ]
     },
     "metadata": {},
     "output_type": "display_data"
    },
    {
     "data": {
      "text/html": [
       "<ol class=list-inline>\n",
       "\t<li>188254</li>\n",
       "\t<li>14</li>\n",
       "</ol>\n"
      ],
      "text/latex": [
       "\\begin{enumerate*}\n",
       "\\item 188254\n",
       "\\item 14\n",
       "\\end{enumerate*}\n"
      ],
      "text/markdown": [
       "1. 188254\n",
       "2. 14\n",
       "\n",
       "\n"
      ],
      "text/plain": [
       "[1] 188254     14"
      ]
     },
     "metadata": {},
     "output_type": "display_data"
    }
   ],
   "source": [
    "dape <- read_csv(\"datos/dape.csv\")\n",
    "\n",
    "head(dape)\n",
    "dim(dape)"
   ]
  },
  {
   "cell_type": "code",
   "execution_count": 3,
   "metadata": {},
   "outputs": [
    {
     "name": "stderr",
     "output_type": "stream",
     "text": [
      "Parsed with column specification:\n",
      "cols(\n",
      "  nombres = col_character(),\n",
      "  primer_apellido = col_character(),\n",
      "  segundo_apellido = col_character(),\n",
      "  curp = col_character(),\n",
      "  cvu = col_character(),\n",
      "  genero = col_character(),\n",
      "  pais_de_nacimiento = col_character(),\n",
      "  dni = col_character(),\n",
      "  afiliacion = col_character(),\n",
      "  orcid = col_character(),\n",
      "  rn = col_character(),\n",
      "  pais_asociado = col_character(),\n",
      "  origen = col_character(),\n",
      "  fecha_de_nacimiento = col_character()\n",
      ")\n"
     ]
    },
    {
     "data": {
      "text/html": [
       "<table>\n",
       "<thead><tr><th scope=col>nombres</th><th scope=col>primer_apellido</th><th scope=col>segundo_apellido</th><th scope=col>curp</th><th scope=col>cvu</th><th scope=col>genero</th><th scope=col>pais_de_nacimiento</th><th scope=col>dni</th><th scope=col>afiliacion</th><th scope=col>orcid</th><th scope=col>rn</th><th scope=col>pais_asociado</th><th scope=col>origen</th><th scope=col>fecha_de_nacimiento</th></tr></thead>\n",
       "<tbody>\n",
       "\t<tr><td>MANUEL ALFREDO    </td><td>HERNANDEZ         </td><td>OCHOA             </td><td>AAPF610930HJCLDR01</td><td>NA                </td><td>Masculino         </td><td>NA                </td><td>NA                </td><td>NA                </td><td>NA                </td><td>NA                </td><td>NA                </td><td>cvu               </td><td>30/09/1961        </td></tr>\n",
       "\t<tr><td>JESUS             </td><td>MONREAL           </td><td>GARCIA            </td><td>MOGJ800924HDFNRS00</td><td>779775            </td><td>Masculino         </td><td>MEX               </td><td>NA                </td><td>NA                </td><td>NA                </td><td>NA                </td><td>NA                </td><td>cvu               </td><td>26/08/1916        </td></tr>\n",
       "\t<tr><td>IGNACIO           </td><td>MORENO            </td><td>VAZQUEZ           </td><td>MOVI610731HDFRZG05</td><td>344041            </td><td>Masculino         </td><td>MEX               </td><td>NA                </td><td>NA                </td><td>NA                </td><td>NA                </td><td>NA                </td><td>cvu               </td><td>31/07/1961        </td></tr>\n",
       "\t<tr><td>ROBERTO ARTURO    </td><td>COLIN             </td><td>RUIZ              </td><td>CORR760920HDFLZB07</td><td>227332            </td><td>Masculino         </td><td>MEX               </td><td>NA                </td><td>NA                </td><td>NA                </td><td>NA                </td><td>NA                </td><td>cvu               </td><td>20/09/1976        </td></tr>\n",
       "\t<tr><td>GUSTAVO ADAD      </td><td>RIOS              </td><td>ZUÑIGA            </td><td>RIZG880209HDFSXS00</td><td>378676            </td><td>Masculino         </td><td>MEX               </td><td>NA                </td><td>NA                </td><td>NA                </td><td>NA                </td><td>NA                </td><td>cvu               </td><td>09/02/1988        </td></tr>\n",
       "\t<tr><td>ITZEL NANDHY      </td><td>MORENO            </td><td>CARRILLO          </td><td>MOCI851228MDFRRT05</td><td>NA                </td><td>Femenino          </td><td>MEX               </td><td>NA                </td><td>NA                </td><td>NA                </td><td>NA                </td><td>NA                </td><td>cvu               </td><td>28/12/1985        </td></tr>\n",
       "</tbody>\n",
       "</table>\n"
      ],
      "text/latex": [
       "\\begin{tabular}{r|llllllllllllll}\n",
       " nombres & primer\\_apellido & segundo\\_apellido & curp & cvu & genero & pais\\_de\\_nacimiento & dni & afiliacion & orcid & rn & pais\\_asociado & origen & fecha\\_de\\_nacimiento\\\\\n",
       "\\hline\n",
       "\t MANUEL ALFREDO     & HERNANDEZ          & OCHOA              & AAPF610930HJCLDR01 & NA                 & Masculino          & NA                 & NA                 & NA                 & NA                 & NA                 & NA                 & cvu                & 30/09/1961        \\\\\n",
       "\t JESUS              & MONREAL            & GARCIA             & MOGJ800924HDFNRS00 & 779775             & Masculino          & MEX                & NA                 & NA                 & NA                 & NA                 & NA                 & cvu                & 26/08/1916        \\\\\n",
       "\t IGNACIO            & MORENO             & VAZQUEZ            & MOVI610731HDFRZG05 & 344041             & Masculino          & MEX                & NA                 & NA                 & NA                 & NA                 & NA                 & cvu                & 31/07/1961        \\\\\n",
       "\t ROBERTO ARTURO     & COLIN              & RUIZ               & CORR760920HDFLZB07 & 227332             & Masculino          & MEX                & NA                 & NA                 & NA                 & NA                 & NA                 & cvu                & 20/09/1976        \\\\\n",
       "\t GUSTAVO ADAD       & RIOS               & ZUÑIGA             & RIZG880209HDFSXS00 & 378676             & Masculino          & MEX                & NA                 & NA                 & NA                 & NA                 & NA                 & cvu                & 09/02/1988        \\\\\n",
       "\t ITZEL NANDHY       & MORENO             & CARRILLO           & MOCI851228MDFRRT05 & NA                 & Femenino           & MEX                & NA                 & NA                 & NA                 & NA                 & NA                 & cvu                & 28/12/1985        \\\\\n",
       "\\end{tabular}\n"
      ],
      "text/markdown": [
       "\n",
       "nombres | primer_apellido | segundo_apellido | curp | cvu | genero | pais_de_nacimiento | dni | afiliacion | orcid | rn | pais_asociado | origen | fecha_de_nacimiento | \n",
       "|---|---|---|---|---|---|\n",
       "| MANUEL ALFREDO     | HERNANDEZ          | OCHOA              | AAPF610930HJCLDR01 | NA                 | Masculino          | NA                 | NA                 | NA                 | NA                 | NA                 | NA                 | cvu                | 30/09/1961         | \n",
       "| JESUS              | MONREAL            | GARCIA             | MOGJ800924HDFNRS00 | 779775             | Masculino          | MEX                | NA                 | NA                 | NA                 | NA                 | NA                 | cvu                | 26/08/1916         | \n",
       "| IGNACIO            | MORENO             | VAZQUEZ            | MOVI610731HDFRZG05 | 344041             | Masculino          | MEX                | NA                 | NA                 | NA                 | NA                 | NA                 | cvu                | 31/07/1961         | \n",
       "| ROBERTO ARTURO     | COLIN              | RUIZ               | CORR760920HDFLZB07 | 227332             | Masculino          | MEX                | NA                 | NA                 | NA                 | NA                 | NA                 | cvu                | 20/09/1976         | \n",
       "| GUSTAVO ADAD       | RIOS               | ZUÑIGA             | RIZG880209HDFSXS00 | 378676             | Masculino          | MEX                | NA                 | NA                 | NA                 | NA                 | NA                 | cvu                | 09/02/1988         | \n",
       "| ITZEL NANDHY       | MORENO             | CARRILLO           | MOCI851228MDFRRT05 | NA                 | Femenino           | MEX                | NA                 | NA                 | NA                 | NA                 | NA                 | cvu                | 28/12/1985         | \n",
       "\n",
       "\n"
      ],
      "text/plain": [
       "  nombres        primer_apellido segundo_apellido curp               cvu   \n",
       "1 MANUEL ALFREDO HERNANDEZ       OCHOA            AAPF610930HJCLDR01 NA    \n",
       "2 JESUS          MONREAL         GARCIA           MOGJ800924HDFNRS00 779775\n",
       "3 IGNACIO        MORENO          VAZQUEZ          MOVI610731HDFRZG05 344041\n",
       "4 ROBERTO ARTURO COLIN           RUIZ             CORR760920HDFLZB07 227332\n",
       "5 GUSTAVO ADAD   RIOS            ZUÑIGA           RIZG880209HDFSXS00 378676\n",
       "6 ITZEL NANDHY   MORENO          CARRILLO         MOCI851228MDFRRT05 NA    \n",
       "  genero    pais_de_nacimiento dni afiliacion orcid rn pais_asociado origen\n",
       "1 Masculino NA                 NA  NA         NA    NA NA            cvu   \n",
       "2 Masculino MEX                NA  NA         NA    NA NA            cvu   \n",
       "3 Masculino MEX                NA  NA         NA    NA NA            cvu   \n",
       "4 Masculino MEX                NA  NA         NA    NA NA            cvu   \n",
       "5 Masculino MEX                NA  NA         NA    NA NA            cvu   \n",
       "6 Femenino  MEX                NA  NA         NA    NA NA            cvu   \n",
       "  fecha_de_nacimiento\n",
       "1 30/09/1961         \n",
       "2 26/08/1916         \n",
       "3 31/07/1961         \n",
       "4 20/09/1976         \n",
       "5 09/02/1988         \n",
       "6 28/12/1985         "
      ]
     },
     "metadata": {},
     "output_type": "display_data"
    },
    {
     "data": {
      "text/html": [
       "<ol class=list-inline>\n",
       "\t<li>284177</li>\n",
       "\t<li>14</li>\n",
       "</ol>\n"
      ],
      "text/latex": [
       "\\begin{enumerate*}\n",
       "\\item 284177\n",
       "\\item 14\n",
       "\\end{enumerate*}\n"
      ],
      "text/markdown": [
       "1. 284177\n",
       "2. 14\n",
       "\n",
       "\n"
      ],
      "text/plain": [
       "[1] 284177     14"
      ]
     },
     "metadata": {},
     "output_type": "display_data"
    }
   ],
   "source": [
    "cvu <- read_csv(\"datos/cvu.csv\")\n",
    "\n",
    "head(cvu)\n",
    "dim(cvu)"
   ]
  },
  {
   "cell_type": "code",
   "execution_count": 4,
   "metadata": {},
   "outputs": [
    {
     "name": "stderr",
     "output_type": "stream",
     "text": [
      "Parsed with column specification:\n",
      "cols(\n",
      "  cvu = col_character(),\n",
      "  orcid = col_character(),\n",
      "  curp = col_character(),\n",
      "  dni = col_character(),\n",
      "  nombres = col_character(),\n",
      "  primer_apellido = col_character(),\n",
      "  segundo_apellido = col_character(),\n",
      "  afiliacion = col_character(),\n",
      "  rn = col_character(),\n",
      "  pais_de_nacimiento = col_character(),\n",
      "  pais_asociado = col_character(),\n",
      "  genero = col_character(),\n",
      "  fecha_de_nacimiento = col_character(),\n",
      "  origen = col_character()\n",
      ")\n"
     ]
    },
    {
     "data": {
      "text/html": [
       "<table>\n",
       "<thead><tr><th scope=col>cvu</th><th scope=col>orcid</th><th scope=col>curp</th><th scope=col>dni</th><th scope=col>nombres</th><th scope=col>primer_apellido</th><th scope=col>segundo_apellido</th><th scope=col>afiliacion</th><th scope=col>rn</th><th scope=col>pais_de_nacimiento</th><th scope=col>pais_asociado</th><th scope=col>genero</th><th scope=col>fecha_de_nacimiento</th><th scope=col>origen</th></tr></thead>\n",
       "<tbody>\n",
       "\t<tr><td>0000-0001-5000-0584</td><td>0000-0001-5000-0584</td><td>NA                 </td><td>NA                 </td><td>Benedek            </td><td>KURDI              </td><td>NA                 </td><td>NA                 </td><td>NA                 </td><td>NA                 </td><td>NA                 </td><td>NA                 </td><td>NA                 </td><td>rn                 </td></tr>\n",
       "\t<tr><td>0000-0001-5000-0592</td><td>0000-0001-5000-0592</td><td>NA                 </td><td>NA                 </td><td>fan                </td><td>NA                 </td><td>NA                 </td><td>NA                 </td><td>NA                 </td><td>NA                 </td><td>NA                 </td><td>NA                 </td><td>NA                 </td><td>rn                 </td></tr>\n",
       "\t<tr><td>0000-0001-5000-0664</td><td>0000-0001-5000-0664</td><td>NA                 </td><td>NA                 </td><td>Serap              </td><td>DURUKAN KÖSE       </td><td>NA                 </td><td>NA                 </td><td>NA                 </td><td>NA                 </td><td>NA                 </td><td>NA                 </td><td>NA                 </td><td>rn                 </td></tr>\n",
       "\t<tr><td>0000-0001-5000-0699</td><td>0000-0001-5000-0699</td><td>NA                 </td><td>NA                 </td><td>qinghua            </td><td>WAN                </td><td>NA                 </td><td>NA                 </td><td>NA                 </td><td>NA                 </td><td>NA                 </td><td>NA                 </td><td>NA                 </td><td>rn                 </td></tr>\n",
       "\t<tr><td>0000-0001-5000-0832</td><td>0000-0001-5000-0832</td><td>NA                 </td><td>NA                 </td><td>Anabela            </td><td>COSTA              </td><td>NA                 </td><td>NA                 </td><td>NA                 </td><td>NA                 </td><td>NA                 </td><td>NA                 </td><td>NA                 </td><td>rn                 </td></tr>\n",
       "\t<tr><td>0000-0001-5000-1202</td><td>0000-0001-5000-1202</td><td>NA                 </td><td>NA                 </td><td>dawei              </td><td>NA                 </td><td>NA                 </td><td>NA                 </td><td>NA                 </td><td>NA                 </td><td>NA                 </td><td>NA                 </td><td>NA                 </td><td>rn                 </td></tr>\n",
       "</tbody>\n",
       "</table>\n"
      ],
      "text/latex": [
       "\\begin{tabular}{r|llllllllllllll}\n",
       " cvu & orcid & curp & dni & nombres & primer\\_apellido & segundo\\_apellido & afiliacion & rn & pais\\_de\\_nacimiento & pais\\_asociado & genero & fecha\\_de\\_nacimiento & origen\\\\\n",
       "\\hline\n",
       "\t 0000-0001-5000-0584 & 0000-0001-5000-0584 & NA                  & NA                  & Benedek             & KURDI               & NA                  & NA                  & NA                  & NA                  & NA                  & NA                  & NA                  & rn                 \\\\\n",
       "\t 0000-0001-5000-0592 & 0000-0001-5000-0592 & NA                  & NA                  & fan                 & NA                  & NA                  & NA                  & NA                  & NA                  & NA                  & NA                  & NA                  & rn                 \\\\\n",
       "\t 0000-0001-5000-0664 & 0000-0001-5000-0664 & NA                  & NA                  & Serap               & DURUKAN KÖSE        & NA                  & NA                  & NA                  & NA                  & NA                  & NA                  & NA                  & rn                 \\\\\n",
       "\t 0000-0001-5000-0699 & 0000-0001-5000-0699 & NA                  & NA                  & qinghua             & WAN                 & NA                  & NA                  & NA                  & NA                  & NA                  & NA                  & NA                  & rn                 \\\\\n",
       "\t 0000-0001-5000-0832 & 0000-0001-5000-0832 & NA                  & NA                  & Anabela             & COSTA               & NA                  & NA                  & NA                  & NA                  & NA                  & NA                  & NA                  & rn                 \\\\\n",
       "\t 0000-0001-5000-1202 & 0000-0001-5000-1202 & NA                  & NA                  & dawei               & NA                  & NA                  & NA                  & NA                  & NA                  & NA                  & NA                  & NA                  & rn                 \\\\\n",
       "\\end{tabular}\n"
      ],
      "text/markdown": [
       "\n",
       "cvu | orcid | curp | dni | nombres | primer_apellido | segundo_apellido | afiliacion | rn | pais_de_nacimiento | pais_asociado | genero | fecha_de_nacimiento | origen | \n",
       "|---|---|---|---|---|---|\n",
       "| 0000-0001-5000-0584 | 0000-0001-5000-0584 | NA                  | NA                  | Benedek             | KURDI               | NA                  | NA                  | NA                  | NA                  | NA                  | NA                  | NA                  | rn                  | \n",
       "| 0000-0001-5000-0592 | 0000-0001-5000-0592 | NA                  | NA                  | fan                 | NA                  | NA                  | NA                  | NA                  | NA                  | NA                  | NA                  | NA                  | rn                  | \n",
       "| 0000-0001-5000-0664 | 0000-0001-5000-0664 | NA                  | NA                  | Serap               | DURUKAN KÖSE        | NA                  | NA                  | NA                  | NA                  | NA                  | NA                  | NA                  | rn                  | \n",
       "| 0000-0001-5000-0699 | 0000-0001-5000-0699 | NA                  | NA                  | qinghua             | WAN                 | NA                  | NA                  | NA                  | NA                  | NA                  | NA                  | NA                  | rn                  | \n",
       "| 0000-0001-5000-0832 | 0000-0001-5000-0832 | NA                  | NA                  | Anabela             | COSTA               | NA                  | NA                  | NA                  | NA                  | NA                  | NA                  | NA                  | rn                  | \n",
       "| 0000-0001-5000-1202 | 0000-0001-5000-1202 | NA                  | NA                  | dawei               | NA                  | NA                  | NA                  | NA                  | NA                  | NA                  | NA                  | NA                  | rn                  | \n",
       "\n",
       "\n"
      ],
      "text/plain": [
       "  cvu                 orcid               curp dni nombres primer_apellido\n",
       "1 0000-0001-5000-0584 0000-0001-5000-0584 NA   NA  Benedek KURDI          \n",
       "2 0000-0001-5000-0592 0000-0001-5000-0592 NA   NA  fan     NA             \n",
       "3 0000-0001-5000-0664 0000-0001-5000-0664 NA   NA  Serap   DURUKAN KÖSE   \n",
       "4 0000-0001-5000-0699 0000-0001-5000-0699 NA   NA  qinghua WAN            \n",
       "5 0000-0001-5000-0832 0000-0001-5000-0832 NA   NA  Anabela COSTA          \n",
       "6 0000-0001-5000-1202 0000-0001-5000-1202 NA   NA  dawei   NA             \n",
       "  segundo_apellido afiliacion rn pais_de_nacimiento pais_asociado genero\n",
       "1 NA               NA         NA NA                 NA            NA    \n",
       "2 NA               NA         NA NA                 NA            NA    \n",
       "3 NA               NA         NA NA                 NA            NA    \n",
       "4 NA               NA         NA NA                 NA            NA    \n",
       "5 NA               NA         NA NA                 NA            NA    \n",
       "6 NA               NA         NA NA                 NA            NA    \n",
       "  fecha_de_nacimiento origen\n",
       "1 NA                  rn    \n",
       "2 NA                  rn    \n",
       "3 NA                  rn    \n",
       "4 NA                  rn    \n",
       "5 NA                  rn    \n",
       "6 NA                  rn    "
      ]
     },
     "metadata": {},
     "output_type": "display_data"
    },
    {
     "data": {
      "text/html": [
       "<ol class=list-inline>\n",
       "\t<li>1228124</li>\n",
       "\t<li>14</li>\n",
       "</ol>\n"
      ],
      "text/latex": [
       "\\begin{enumerate*}\n",
       "\\item 1228124\n",
       "\\item 14\n",
       "\\end{enumerate*}\n"
      ],
      "text/markdown": [
       "1. 1228124\n",
       "2. 14\n",
       "\n",
       "\n"
      ],
      "text/plain": [
       "[1] 1228124      14"
      ]
     },
     "metadata": {},
     "output_type": "display_data"
    }
   ],
   "source": [
    "rn  <- read_csv(\"datos/rn.csv\")\n",
    "\n",
    "head(rn)\n",
    "dim(rn)"
   ]
  },
  {
   "cell_type": "code",
   "execution_count": 5,
   "metadata": {},
   "outputs": [
    {
     "name": "stderr",
     "output_type": "stream",
     "text": [
      "Joining, by = c(\"curp\", \"primer_apellido\", \"segundo_apellido\", \"nombres\", \"fecha_de_nacimiento\", \"pais_asociado\", \"genero\", \"cvu\", \"orcid\", \"rn\", \"dni\", \"pais_de_nacimiento\", \"afiliacion\", \"origen\")\n",
      "Joining, by = c(\"curp\", \"primer_apellido\", \"segundo_apellido\", \"nombres\", \"fecha_de_nacimiento\", \"pais_asociado\", \"genero\", \"cvu\", \"orcid\", \"rn\", \"dni\", \"pais_de_nacimiento\", \"afiliacion\", \"origen\")\n"
     ]
    },
    {
     "data": {
      "text/html": [
       "<ol class=list-inline>\n",
       "\t<li>1700555</li>\n",
       "\t<li>14</li>\n",
       "</ol>\n"
      ],
      "text/latex": [
       "\\begin{enumerate*}\n",
       "\\item 1700555\n",
       "\\item 14\n",
       "\\end{enumerate*}\n"
      ],
      "text/markdown": [
       "1. 1700555\n",
       "2. 14\n",
       "\n",
       "\n"
      ],
      "text/plain": [
       "[1] 1700555      14"
      ]
     },
     "metadata": {},
     "output_type": "display_data"
    },
    {
     "data": {
      "text/html": [
       "1700555"
      ],
      "text/latex": [
       "1700555"
      ],
      "text/markdown": [
       "1700555"
      ],
      "text/plain": [
       "[1] 1700555"
      ]
     },
     "metadata": {},
     "output_type": "display_data"
    }
   ],
   "source": [
    "registros <- full_join(dape, cvu) %>% \n",
    "full_join(rn)\n",
    "\n",
    "dim(registros)\n",
    "dim(dape)[1] + dim(cvu)[1] + dim(rn)[1]"
   ]
  },
  {
   "cell_type": "code",
   "execution_count": 6,
   "metadata": {},
   "outputs": [],
   "source": [
    "write_csv(registros, \"datos/registros.csv\")"
   ]
  }
 ],
 "metadata": {
  "kernelspec": {
   "display_name": "R",
   "language": "R",
   "name": "ir"
  },
  "language_info": {
   "codemirror_mode": "r",
   "file_extension": ".r",
   "mimetype": "text/x-r-source",
   "name": "R",
   "pygments_lexer": "r",
   "version": "3.4.4"
  }
 },
 "nbformat": 4,
 "nbformat_minor": 2
}
