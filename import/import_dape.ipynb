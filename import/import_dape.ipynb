{
 "cells": [
  {
   "cell_type": "code",
   "execution_count": 1,
   "metadata": {},
   "outputs": [
    {
     "name": "stderr",
     "output_type": "stream",
     "text": [
      "Loading tidyverse: ggplot2\n",
      "Loading tidyverse: tibble\n",
      "Loading tidyverse: tidyr\n",
      "Loading tidyverse: readr\n",
      "Loading tidyverse: purrr\n",
      "Loading tidyverse: dplyr\n",
      "Conflicts with tidy packages ---------------------------------------------------\n",
      "filter(): dplyr, stats\n",
      "lag():    dplyr, stats\n"
     ]
    }
   ],
   "source": [
    "library(\"tidyverse\")\n",
    "library(\"stringr\")"
   ]
  },
  {
   "cell_type": "markdown",
   "metadata": {},
   "source": [
    "Nota: Parece ser que no funciona con este archivo la función guess_encoding. Después de mucho buscar, creo que la codificación es iso-8859-1."
   ]
  },
  {
   "cell_type": "code",
   "execution_count": 2,
   "metadata": {},
   "outputs": [
    {
     "name": "stderr",
     "output_type": "stream",
     "text": [
      "Parsed with column specification:\n",
      "cols(\n",
      "  APPLID = col_integer(),\n",
      "  CURP = col_character(),\n",
      "  APPAT = col_character(),\n",
      "  APMAT = col_character(),\n",
      "  NOMBRES = col_character(),\n",
      "  SEXO = col_character(),\n",
      "  FECNAC = col_character(),\n",
      "  EDO = col_character(),\n",
      "  PAIS = col_character()\n",
      ")\n"
     ]
    },
    {
     "data": {
      "text/html": [
       "<table>\n",
       "<thead><tr><th scope=col>curp</th><th scope=col>primer_apellido</th><th scope=col>segundo_apellido</th><th scope=col>nombres</th><th scope=col>fecha_de_nacimiento</th><th scope=col>pais_asociado</th><th scope=col>genero</th><th scope=col>cvu</th><th scope=col>orcid</th><th scope=col>rn</th><th scope=col>dni</th><th scope=col>pais_de_nacimiento</th><th scope=col>afiliacion</th><th scope=col>origen</th></tr></thead>\n",
       "<tbody>\n",
       "\t<tr><td>MOAG401212HJCRLD07</td><td>MORENO            </td><td>DE ALBA           </td><td>JOSE GUADALUPE    </td><td>12/12/1940        </td><td>MEX               </td><td>Masculino         </td><td>NA                </td><td>NA                </td><td>NA                </td><td>NA                </td><td>NA                </td><td>NA                </td><td>dape              </td></tr>\n",
       "\t<tr><td>PABJ310212HNESXS07</td><td>PASCUAL           </td><td>BUXO              </td><td>JOSE              </td><td>12/02/1931        </td><td>MEX               </td><td>Masculino         </td><td>NA                </td><td>NA                </td><td>NA                </td><td>NA                </td><td>NA                </td><td>NA                </td><td>dape              </td></tr>\n",
       "\t<tr><td>VEJS450715HNERSR03</td><td>VERMA             </td><td>JAISWAL           </td><td>SURENDRA PAL      </td><td>15/07/1945        </td><td>MEX               </td><td>Masculino         </td><td>NA                </td><td>NA                </td><td>NA                </td><td>NA                </td><td>NA                </td><td>NA                </td><td>dape              </td></tr>\n",
       "\t<tr><td>AOSJ430120HASLNR09</td><td>ALONSO            </td><td>SANCHEZ           </td><td>JORGE             </td><td>20/01/1943        </td><td>MEX               </td><td>Masculino         </td><td>NA                </td><td>NA                </td><td>NA                </td><td>NA                </td><td>NA                </td><td>NA                </td><td>dape              </td></tr>\n",
       "\t<tr><td>AAGE511110MDFZRL06</td><td>AZAOLA            </td><td>GARRIDO           </td><td>ELENA             </td><td>10/11/1951        </td><td>MEX               </td><td>Femenino          </td><td>NA                </td><td>NA                </td><td>NA                </td><td>NA                </td><td>NA                </td><td>NA                </td><td>dape              </td></tr>\n",
       "\t<tr><td>RARF380202HDFMMD03</td><td>RAMON             </td><td>Y ROMERO          </td><td>FIDEL ALBERTO     </td><td>02/02/1938        </td><td>MEX               </td><td>Masculino         </td><td>NA                </td><td>NA                </td><td>NA                </td><td>NA                </td><td>NA                </td><td>NA                </td><td>dape              </td></tr>\n",
       "</tbody>\n",
       "</table>\n"
      ],
      "text/latex": [
       "\\begin{tabular}{r|llllllllllllll}\n",
       " curp & primer\\_apellido & segundo\\_apellido & nombres & fecha\\_de\\_nacimiento & pais\\_asociado & genero & cvu & orcid & rn & dni & pais\\_de\\_nacimiento & afiliacion & origen\\\\\n",
       "\\hline\n",
       "\t MOAG401212HJCRLD07 & MORENO             & DE ALBA            & JOSE GUADALUPE     & 12/12/1940         & MEX                & Masculino          & NA                 & NA                 & NA                 & NA                 & NA                 & NA                 & dape              \\\\\n",
       "\t PABJ310212HNESXS07 & PASCUAL            & BUXO               & JOSE               & 12/02/1931         & MEX                & Masculino          & NA                 & NA                 & NA                 & NA                 & NA                 & NA                 & dape              \\\\\n",
       "\t VEJS450715HNERSR03 & VERMA              & JAISWAL            & SURENDRA PAL       & 15/07/1945         & MEX                & Masculino          & NA                 & NA                 & NA                 & NA                 & NA                 & NA                 & dape              \\\\\n",
       "\t AOSJ430120HASLNR09 & ALONSO             & SANCHEZ            & JORGE              & 20/01/1943         & MEX                & Masculino          & NA                 & NA                 & NA                 & NA                 & NA                 & NA                 & dape              \\\\\n",
       "\t AAGE511110MDFZRL06 & AZAOLA             & GARRIDO            & ELENA              & 10/11/1951         & MEX                & Femenino           & NA                 & NA                 & NA                 & NA                 & NA                 & NA                 & dape              \\\\\n",
       "\t RARF380202HDFMMD03 & RAMON              & Y ROMERO           & FIDEL ALBERTO      & 02/02/1938         & MEX                & Masculino          & NA                 & NA                 & NA                 & NA                 & NA                 & NA                 & dape              \\\\\n",
       "\\end{tabular}\n"
      ],
      "text/markdown": [
       "\n",
       "curp | primer_apellido | segundo_apellido | nombres | fecha_de_nacimiento | pais_asociado | genero | cvu | orcid | rn | dni | pais_de_nacimiento | afiliacion | origen | \n",
       "|---|---|---|---|---|---|\n",
       "| MOAG401212HJCRLD07 | MORENO             | DE ALBA            | JOSE GUADALUPE     | 12/12/1940         | MEX                | Masculino          | NA                 | NA                 | NA                 | NA                 | NA                 | NA                 | dape               | \n",
       "| PABJ310212HNESXS07 | PASCUAL            | BUXO               | JOSE               | 12/02/1931         | MEX                | Masculino          | NA                 | NA                 | NA                 | NA                 | NA                 | NA                 | dape               | \n",
       "| VEJS450715HNERSR03 | VERMA              | JAISWAL            | SURENDRA PAL       | 15/07/1945         | MEX                | Masculino          | NA                 | NA                 | NA                 | NA                 | NA                 | NA                 | dape               | \n",
       "| AOSJ430120HASLNR09 | ALONSO             | SANCHEZ            | JORGE              | 20/01/1943         | MEX                | Masculino          | NA                 | NA                 | NA                 | NA                 | NA                 | NA                 | dape               | \n",
       "| AAGE511110MDFZRL06 | AZAOLA             | GARRIDO            | ELENA              | 10/11/1951         | MEX                | Femenino           | NA                 | NA                 | NA                 | NA                 | NA                 | NA                 | dape               | \n",
       "| RARF380202HDFMMD03 | RAMON              | Y ROMERO           | FIDEL ALBERTO      | 02/02/1938         | MEX                | Masculino          | NA                 | NA                 | NA                 | NA                 | NA                 | NA                 | dape               | \n",
       "\n",
       "\n"
      ],
      "text/plain": [
       "  curp               primer_apellido segundo_apellido nombres       \n",
       "1 MOAG401212HJCRLD07 MORENO          DE ALBA          JOSE GUADALUPE\n",
       "2 PABJ310212HNESXS07 PASCUAL         BUXO             JOSE          \n",
       "3 VEJS450715HNERSR03 VERMA           JAISWAL          SURENDRA PAL  \n",
       "4 AOSJ430120HASLNR09 ALONSO          SANCHEZ          JORGE         \n",
       "5 AAGE511110MDFZRL06 AZAOLA          GARRIDO          ELENA         \n",
       "6 RARF380202HDFMMD03 RAMON           Y ROMERO         FIDEL ALBERTO \n",
       "  fecha_de_nacimiento pais_asociado genero    cvu orcid rn dni\n",
       "1 12/12/1940          MEX           Masculino NA  NA    NA NA \n",
       "2 12/02/1931          MEX           Masculino NA  NA    NA NA \n",
       "3 15/07/1945          MEX           Masculino NA  NA    NA NA \n",
       "4 20/01/1943          MEX           Masculino NA  NA    NA NA \n",
       "5 10/11/1951          MEX           Femenino  NA  NA    NA NA \n",
       "6 02/02/1938          MEX           Masculino NA  NA    NA NA \n",
       "  pais_de_nacimiento afiliacion origen\n",
       "1 NA                 NA         dape  \n",
       "2 NA                 NA         dape  \n",
       "3 NA                 NA         dape  \n",
       "4 NA                 NA         dape  \n",
       "5 NA                 NA         dape  \n",
       "6 NA                 NA         dape  "
      ]
     },
     "metadata": {},
     "output_type": "display_data"
    }
   ],
   "source": [
    "dape  <- read_csv(\"../fuente/dape/DAPE.csv\", locale = locale(encoding = \"iso-8859-1\")) %>% \n",
    "rename(curp = CURP,\n",
    "               primer_apellido = APPAT, \n",
    "               segundo_apellido = APMAT, \n",
    "              nombres = NOMBRES, \n",
    "              sexo = SEXO, \n",
    "              fecha_de_nacimiento = FECNAC, \n",
    "              estado = EDO, \n",
    "              pais_asociado = PAIS) %>% \n",
    "select(-APPLID) %>% \n",
    "mutate(genero = str_replace_all(sexo, pattern = c(\"H$\" = \"Masculino\", \"M$\" = \"Femenino\"))) %>% \n",
    "select(-sexo) %>% \n",
    "mutate(cvu = NA, \n",
    "       orcid = NA, \n",
    "       rn = NA, \n",
    "       dni = NA,\n",
    "       pais_de_nacimiento = NA,\n",
    "       afiliacion = NA,\n",
    "      origen = \"dape\") %>% \n",
    "select(-estado)\n",
    "\n",
    "\n",
    "head(dape)"
   ]
  },
  {
   "cell_type": "code",
   "execution_count": 3,
   "metadata": {},
   "outputs": [
    {
     "data": {
      "text/html": [
       "14"
      ],
      "text/latex": [
       "14"
      ],
      "text/markdown": [
       "14"
      ],
      "text/plain": [
       "[1] 14"
      ]
     },
     "metadata": {},
     "output_type": "display_data"
    }
   ],
   "source": [
    "ncol(dape)"
   ]
  },
  {
   "cell_type": "code",
   "execution_count": 4,
   "metadata": {},
   "outputs": [
    {
     "name": "stderr",
     "output_type": "stream",
     "text": [
      "Parsed with column specification:\n",
      "cols(\n",
      "  ID_GENERO = col_integer(),\n",
      "  CVE_GENERO = col_character(),\n",
      "  DESC_GENERO = col_character(),\n",
      "  USUARIO_ALTA = col_integer(),\n",
      "  USUARIO_MODIFICACION = col_character(),\n",
      "  FECHA_ALTA = col_character(),\n",
      "  FECHA_MODIFICACION = col_character(),\n",
      "  IND_ESTATUS = col_integer()\n",
      ")\n"
     ]
    },
    {
     "data": {
      "text/html": [
       "<table>\n",
       "<thead><tr><th scope=col>ID_GENERO</th><th scope=col>CVE_GENERO</th><th scope=col>DESC_GENERO</th><th scope=col>USUARIO_ALTA</th><th scope=col>USUARIO_MODIFICACION</th><th scope=col>FECHA_ALTA</th><th scope=col>FECHA_MODIFICACION</th><th scope=col>IND_ESTATUS</th></tr></thead>\n",
       "<tbody>\n",
       "\t<tr><td>1                          </td><td>M                          </td><td>Masculino                  </td><td>1                          </td><td>NA                         </td><td>25/05/16 15:33:46.000000000</td><td>NA                         </td><td>1                          </td></tr>\n",
       "\t<tr><td>2                          </td><td>F                          </td><td>Femenino                   </td><td>1                          </td><td>NA                         </td><td>25/05/16 15:33:46.000000000</td><td>NA                         </td><td>1                          </td></tr>\n",
       "</tbody>\n",
       "</table>\n"
      ],
      "text/latex": [
       "\\begin{tabular}{r|llllllll}\n",
       " ID\\_GENERO & CVE\\_GENERO & DESC\\_GENERO & USUARIO\\_ALTA & USUARIO\\_MODIFICACION & FECHA\\_ALTA & FECHA\\_MODIFICACION & IND\\_ESTATUS\\\\\n",
       "\\hline\n",
       "\t 1                           & M                           & Masculino                   & 1                           & NA                          & 25/05/16 15:33:46.000000000 & NA                          & 1                          \\\\\n",
       "\t 2                           & F                           & Femenino                    & 1                           & NA                          & 25/05/16 15:33:46.000000000 & NA                          & 1                          \\\\\n",
       "\\end{tabular}\n"
      ],
      "text/markdown": [
       "\n",
       "ID_GENERO | CVE_GENERO | DESC_GENERO | USUARIO_ALTA | USUARIO_MODIFICACION | FECHA_ALTA | FECHA_MODIFICACION | IND_ESTATUS | \n",
       "|---|---|\n",
       "| 1                           | M                           | Masculino                   | 1                           | NA                          | 25/05/16 15:33:46.000000000 | NA                          | 1                           | \n",
       "| 2                           | F                           | Femenino                    | 1                           | NA                          | 25/05/16 15:33:46.000000000 | NA                          | 1                           | \n",
       "\n",
       "\n"
      ],
      "text/plain": [
       "  ID_GENERO CVE_GENERO DESC_GENERO USUARIO_ALTA USUARIO_MODIFICACION\n",
       "1 1         M          Masculino   1            NA                  \n",
       "2 2         F          Femenino    1            NA                  \n",
       "  FECHA_ALTA                  FECHA_MODIFICACION IND_ESTATUS\n",
       "1 25/05/16 15:33:46.000000000 NA                 1          \n",
       "2 25/05/16 15:33:46.000000000 NA                 1          "
      ]
     },
     "metadata": {},
     "output_type": "display_data"
    }
   ],
   "source": [
    "cat_genero <- read_csv(\"../fuente//cvu/PERSONA_FISICA/CAT_GENERO.csv\")\n",
    "\n",
    "head(cat_genero)"
   ]
  },
  {
   "cell_type": "code",
   "execution_count": 5,
   "metadata": {},
   "outputs": [
    {
     "name": "stderr",
     "output_type": "stream",
     "text": [
      "Parsed with column specification:\n",
      "cols(\n",
      "  ID_PAIS = col_integer(),\n",
      "  CVE_PAIS = col_character(),\n",
      "  DESC_PAIS = col_character(),\n",
      "  USUARIO_ALTA = col_integer(),\n",
      "  USUARIO_MODIFICACION = col_character(),\n",
      "  FECHA_ALTA = col_character(),\n",
      "  FECHA_MODIFICACION = col_character(),\n",
      "  IND_ESTATUS = col_integer()\n",
      ")\n"
     ]
    },
    {
     "data": {
      "text/html": [
       "<table>\n",
       "<thead><tr><th scope=col>ID_PAIS</th><th scope=col>CVE_PAIS</th><th scope=col>DESC_PAIS</th><th scope=col>USUARIO_ALTA</th><th scope=col>USUARIO_MODIFICACION</th><th scope=col>FECHA_ALTA</th><th scope=col>FECHA_MODIFICACION</th><th scope=col>IND_ESTATUS</th></tr></thead>\n",
       "<tbody>\n",
       "\t<tr><td>119                          </td><td>KOR                          </td><td>Korea, Republic of           </td><td>1                            </td><td>NA                           </td><td>25/05/2016 11:45:48.000000 AM</td><td>NA                           </td><td>1                            </td></tr>\n",
       "\t<tr><td>120                          </td><td>KWT                          </td><td>Kuwait                       </td><td>1                            </td><td>NA                           </td><td>25/05/2016 11:45:48.000000 AM</td><td>NA                           </td><td>1                            </td></tr>\n",
       "\t<tr><td>121                          </td><td>KGZ                          </td><td>Kyrgyzstan                   </td><td>1                            </td><td>NA                           </td><td>25/05/2016 11:45:48.000000 AM</td><td>NA                           </td><td>1                            </td></tr>\n",
       "\t<tr><td>122                          </td><td>LAO                          </td><td>Lao PDR                      </td><td>1                            </td><td>NA                           </td><td>25/05/2016 11:45:48.000000 AM</td><td>NA                           </td><td>1                            </td></tr>\n",
       "\t<tr><td>123                          </td><td>LVA                          </td><td>Latvia                       </td><td>1                            </td><td>NA                           </td><td>25/05/2016 11:45:48.000000 AM</td><td>NA                           </td><td>1                            </td></tr>\n",
       "\t<tr><td>124                          </td><td>LBN                          </td><td>Lebanon                      </td><td>1                            </td><td>NA                           </td><td>25/05/2016 11:45:48.000000 AM</td><td>NA                           </td><td>1                            </td></tr>\n",
       "</tbody>\n",
       "</table>\n"
      ],
      "text/latex": [
       "\\begin{tabular}{r|llllllll}\n",
       " ID\\_PAIS & CVE\\_PAIS & DESC\\_PAIS & USUARIO\\_ALTA & USUARIO\\_MODIFICACION & FECHA\\_ALTA & FECHA\\_MODIFICACION & IND\\_ESTATUS\\\\\n",
       "\\hline\n",
       "\t 119                           & KOR                           & Korea, Republic of            & 1                             & NA                            & 25/05/2016 11:45:48.000000 AM & NA                            & 1                            \\\\\n",
       "\t 120                           & KWT                           & Kuwait                        & 1                             & NA                            & 25/05/2016 11:45:48.000000 AM & NA                            & 1                            \\\\\n",
       "\t 121                           & KGZ                           & Kyrgyzstan                    & 1                             & NA                            & 25/05/2016 11:45:48.000000 AM & NA                            & 1                            \\\\\n",
       "\t 122                           & LAO                           & Lao PDR                       & 1                             & NA                            & 25/05/2016 11:45:48.000000 AM & NA                            & 1                            \\\\\n",
       "\t 123                           & LVA                           & Latvia                        & 1                             & NA                            & 25/05/2016 11:45:48.000000 AM & NA                            & 1                            \\\\\n",
       "\t 124                           & LBN                           & Lebanon                       & 1                             & NA                            & 25/05/2016 11:45:48.000000 AM & NA                            & 1                            \\\\\n",
       "\\end{tabular}\n"
      ],
      "text/markdown": [
       "\n",
       "ID_PAIS | CVE_PAIS | DESC_PAIS | USUARIO_ALTA | USUARIO_MODIFICACION | FECHA_ALTA | FECHA_MODIFICACION | IND_ESTATUS | \n",
       "|---|---|---|---|---|---|\n",
       "| 119                           | KOR                           | Korea, Republic of            | 1                             | NA                            | 25/05/2016 11:45:48.000000 AM | NA                            | 1                             | \n",
       "| 120                           | KWT                           | Kuwait                        | 1                             | NA                            | 25/05/2016 11:45:48.000000 AM | NA                            | 1                             | \n",
       "| 121                           | KGZ                           | Kyrgyzstan                    | 1                             | NA                            | 25/05/2016 11:45:48.000000 AM | NA                            | 1                             | \n",
       "| 122                           | LAO                           | Lao PDR                       | 1                             | NA                            | 25/05/2016 11:45:48.000000 AM | NA                            | 1                             | \n",
       "| 123                           | LVA                           | Latvia                        | 1                             | NA                            | 25/05/2016 11:45:48.000000 AM | NA                            | 1                             | \n",
       "| 124                           | LBN                           | Lebanon                       | 1                             | NA                            | 25/05/2016 11:45:48.000000 AM | NA                            | 1                             | \n",
       "\n",
       "\n"
      ],
      "text/plain": [
       "  ID_PAIS CVE_PAIS DESC_PAIS          USUARIO_ALTA USUARIO_MODIFICACION\n",
       "1 119     KOR      Korea, Republic of 1            NA                  \n",
       "2 120     KWT      Kuwait             1            NA                  \n",
       "3 121     KGZ      Kyrgyzstan         1            NA                  \n",
       "4 122     LAO      Lao PDR            1            NA                  \n",
       "5 123     LVA      Latvia             1            NA                  \n",
       "6 124     LBN      Lebanon            1            NA                  \n",
       "  FECHA_ALTA                    FECHA_MODIFICACION IND_ESTATUS\n",
       "1 25/05/2016 11:45:48.000000 AM NA                 1          \n",
       "2 25/05/2016 11:45:48.000000 AM NA                 1          \n",
       "3 25/05/2016 11:45:48.000000 AM NA                 1          \n",
       "4 25/05/2016 11:45:48.000000 AM NA                 1          \n",
       "5 25/05/2016 11:45:48.000000 AM NA                 1          \n",
       "6 25/05/2016 11:45:48.000000 AM NA                 1          "
      ]
     },
     "metadata": {},
     "output_type": "display_data"
    }
   ],
   "source": [
    "cat_pais <- read_csv(\"../fuente/cvu/PERSONA_FISICA/CAT_PAIS.csv\")\n",
    "\n",
    "head(cat_pais)"
   ]
  },
  {
   "cell_type": "code",
   "execution_count": 7,
   "metadata": {},
   "outputs": [],
   "source": [
    "write_csv(dape, \"../datos/dape.csv\")"
   ]
  },
  {
   "cell_type": "code",
   "execution_count": null,
   "metadata": {},
   "outputs": [],
   "source": []
  }
 ],
 "metadata": {
  "kernelspec": {
   "display_name": "R",
   "language": "R",
   "name": "ir"
  },
  "language_info": {
   "codemirror_mode": "r",
   "file_extension": ".r",
   "mimetype": "text/x-r-source",
   "name": "R",
   "pygments_lexer": "r",
   "version": "3.4.4"
  }
 },
 "nbformat": 4,
 "nbformat_minor": 2
}
