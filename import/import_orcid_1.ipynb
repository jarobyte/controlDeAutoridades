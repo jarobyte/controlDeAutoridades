{
 "cells": [
  {
   "cell_type": "code",
   "execution_count": 1,
   "metadata": {},
   "outputs": [
    {
     "name": "stderr",
     "output_type": "stream",
     "text": [
      "Loading tidyverse: ggplot2\n",
      "Loading tidyverse: tibble\n",
      "Loading tidyverse: tidyr\n",
      "Loading tidyverse: readr\n",
      "Loading tidyverse: purrr\n",
      "Loading tidyverse: dplyr\n",
      "Conflicts with tidy packages ---------------------------------------------------\n",
      "filter(): dplyr, stats\n",
      "lag():    dplyr, stats\n"
     ]
    }
   ],
   "source": [
    "library(\"tidyverse\")"
   ]
  },
  {
   "cell_type": "code",
   "execution_count": 2,
   "metadata": {},
   "outputs": [
    {
     "data": {
      "text/html": [
       "<ol class=list-inline>\n",
       "\t<li>'Parte 1/Autores_Orcid_proceso 1.csv'</li>\n",
       "\t<li>'Parte 2/Autores_Orcid_proceso_2_v6.csv'</li>\n",
       "\t<li>'Parte 3/Autores_Orcid_proceso 3V8.csv'</li>\n",
       "\t<li>'Parte4/autores_Orcid_proceso_4_v6.csv'</li>\n",
       "</ol>\n"
      ],
      "text/latex": [
       "\\begin{enumerate*}\n",
       "\\item 'Parte 1/Autores\\_Orcid\\_proceso 1.csv'\n",
       "\\item 'Parte 2/Autores\\_Orcid\\_proceso\\_2\\_v6.csv'\n",
       "\\item 'Parte 3/Autores\\_Orcid\\_proceso 3V8.csv'\n",
       "\\item 'Parte4/autores\\_Orcid\\_proceso\\_4\\_v6.csv'\n",
       "\\end{enumerate*}\n"
      ],
      "text/markdown": [
       "1. 'Parte 1/Autores_Orcid_proceso 1.csv'\n",
       "2. 'Parte 2/Autores_Orcid_proceso_2_v6.csv'\n",
       "3. 'Parte 3/Autores_Orcid_proceso 3V8.csv'\n",
       "4. 'Parte4/autores_Orcid_proceso_4_v6.csv'\n",
       "\n",
       "\n"
      ],
      "text/plain": [
       "[1] \"Parte 1/Autores_Orcid_proceso 1.csv\"   \n",
       "[2] \"Parte 2/Autores_Orcid_proceso_2_v6.csv\"\n",
       "[3] \"Parte 3/Autores_Orcid_proceso 3V8.csv\" \n",
       "[4] \"Parte4/autores_Orcid_proceso_4_v6.csv\" "
      ]
     },
     "metadata": {},
     "output_type": "display_data"
    }
   ],
   "source": [
    "list.files(path = \"fuente/juan ramírez/orcid/\", recursive = TRUE, pattern = \"csv\")"
   ]
  },
  {
   "cell_type": "code",
   "execution_count": 16,
   "metadata": {},
   "outputs": [
    {
     "data": {
      "text/html": [
       "<table>\n",
       "<thead><tr><th scope=col>encoding</th><th scope=col>confidence</th></tr></thead>\n",
       "<tbody>\n",
       "\t<tr><td>ISO-8859-1</td><td>0.35      </td></tr>\n",
       "</tbody>\n",
       "</table>\n"
      ],
      "text/latex": [
       "\\begin{tabular}{r|ll}\n",
       " encoding & confidence\\\\\n",
       "\\hline\n",
       "\t ISO-8859-1 & 0.35      \\\\\n",
       "\\end{tabular}\n"
      ],
      "text/markdown": [
       "\n",
       "encoding | confidence | \n",
       "|---|\n",
       "| ISO-8859-1 | 0.35       | \n",
       "\n",
       "\n"
      ],
      "text/plain": [
       "  encoding   confidence\n",
       "1 ISO-8859-1 0.35      "
      ]
     },
     "metadata": {},
     "output_type": "display_data"
    }
   ],
   "source": [
    "guess_encoding(\"fuente/juan ramírez/orcid//Parte 1/Autores_Orcid_proceso 1.csv\", n_max = -1)"
   ]
  },
  {
   "cell_type": "code",
   "execution_count": 4,
   "metadata": {},
   "outputs": [
    {
     "name": "stderr",
     "output_type": "stream",
     "text": [
      "Warning message:\n",
      "“Missing column names filled in: 'X16' [16], 'X17' [17], 'X18' [18], 'X19' [19], 'X20' [20], 'X21' [21], 'X22' [22], 'X23' [23], 'X24' [24], 'X25' [25], 'X26' [26], 'X27' [27], 'X28' [28], 'X29' [29], 'X30' [30], 'X31' [31], 'X32' [32], 'X33' [33], 'X34' [34], 'X35' [35], 'X36' [36], 'X37' [37], 'X38' [38], 'X39' [39], 'X40' [40], 'X41' [41], 'X42' [42], 'X43' [43], 'X44' [44], 'X45' [45], 'X46' [46], 'X47' [47], 'X48' [48], 'X49' [49], 'X50' [50], 'X51' [51], 'X52' [52], 'X53' [53], 'X54' [54], 'X55' [55], 'X56' [56], 'X57' [57], 'X58' [58], 'X59' [59], 'X60' [60], 'X61' [61], 'X62' [62], 'X63' [63], 'X64' [64], 'X65' [65], 'X66' [66], 'X67' [67], 'X68' [68], 'X69' [69], 'X70' [70], 'X71' [71], 'X72' [72], 'X73' [73], 'X74' [74], 'X75' [75], 'X76' [76], 'X77' [77], 'X78' [78], 'X79' [79], 'X80' [80], 'X81' [81], 'X82' [82], 'X83' [83], 'X84' [84], 'X85' [85], 'X86' [86], 'X87' [87], 'X88' [88]”Parsed with column specification:\n",
      "cols(\n",
      "  .default = col_character()\n",
      ")\n",
      "See spec(...) for full column specifications.\n"
     ]
    }
   ],
   "source": [
    "orcid_1 <- read_csv(\"fuente/juan ramírez/orcid//Parte 1/Autores_Orcid_proceso 1.csv\", locale = locale(encoding = \"ISO-8859-1\"))"
   ]
  },
  {
   "cell_type": "code",
   "execution_count": 5,
   "metadata": {},
   "outputs": [
    {
     "data": {
      "text/html": [
       "88"
      ],
      "text/latex": [
       "88"
      ],
      "text/markdown": [
       "88"
      ],
      "text/plain": [
       "[1] 88"
      ]
     },
     "metadata": {},
     "output_type": "display_data"
    },
    {
     "data": {
      "text/html": [
       "932086"
      ],
      "text/latex": [
       "932086"
      ],
      "text/markdown": [
       "932086"
      ],
      "text/plain": [
       "[1] 932086"
      ]
     },
     "metadata": {},
     "output_type": "display_data"
    }
   ],
   "source": [
    "ncol(orcid_1)\n",
    "nrow(orcid_1)"
   ]
  },
  {
   "cell_type": "code",
   "execution_count": 6,
   "metadata": {},
   "outputs": [
    {
     "data": {
      "text/html": [
       "<table>\n",
       "<thead><tr><th scope=col>IDENTIFICADOR</th><th scope=col>NOMBRE</th><th scope=col>APELLIDOS</th><th scope=col>CREDIT_NAME(ALIAS1)</th><th scope=col>OTHER_NAME(ALIAS2)</th><th scope=col>CONTACTO_1</th><th scope=col>CONTACTO_2</th><th scope=col>EMAILS</th><th scope=col>PAIS</th><th scope=col>DEPARTAMENTO</th><th scope=col>⋯</th><th scope=col>X79</th><th scope=col>X80</th><th scope=col>X81</th><th scope=col>X82</th><th scope=col>X83</th><th scope=col>X84</th><th scope=col>X85</th><th scope=col>X86</th><th scope=col>X87</th><th scope=col>X88</th></tr></thead>\n",
       "<tbody>\n",
       "\t<tr><td>0000-0001-5000-0015                              </td><td>Shittu                                           </td><td>Olufunke                                         </td><td>NA                                               </td><td>NA                                               </td><td>NA                                               </td><td>NA                                               </td><td>NA                                               </td><td>NA                                               </td><td>NA                                               </td><td>⋯                                                </td><td>NA                                               </td><td>NA                                               </td><td>NA                                               </td><td>NA                                               </td><td>NA                                               </td><td>NA                                               </td><td>NA                                               </td><td>NA                                               </td><td>NA                                               </td><td>NA                                               </td></tr>\n",
       "\t<tr><td>0000-0001-5000-0074                              </td><td>Susan                                            </td><td>Luong                                            </td><td>NA                                               </td><td>Suz Luong                                        </td><td>NA                                               </td><td>NA                                               </td><td>NA                                               </td><td>NA                                               </td><td>NA                                               </td><td>⋯                                                </td><td>NA                                               </td><td>NA                                               </td><td>NA                                               </td><td>NA                                               </td><td>NA                                               </td><td>NA                                               </td><td>NA                                               </td><td>NA                                               </td><td>NA                                               </td><td>NA                                               </td></tr>\n",
       "\t<tr><td>0000-0001-5000-0082                              </td><td>Tara                                             </td><td>Stephens                                         </td><td>NA                                               </td><td>NA                                               </td><td>NA                                               </td><td>NA                                               </td><td>NA                                               </td><td>NA                                               </td><td>NA                                               </td><td>⋯                                                </td><td>NA                                               </td><td>NA                                               </td><td>NA                                               </td><td>NA                                               </td><td>NA                                               </td><td>NA                                               </td><td>NA                                               </td><td>NA                                               </td><td>NA                                               </td><td>NA                                               </td></tr>\n",
       "\t<tr><td>0000-0001-5000-0138                              </td><td>Jorge AndrÌ©s                                    </td><td>HernÌÁndez                                       </td><td>NA                                               </td><td>JA HernÌÁndez,Jorge AndrÌ©s HernÌÁndes VÌÁsquez  </td><td>NA                                               </td><td>NA                                               </td><td>NA                                               </td><td>CO                                               </td><td>Facultad de Jurisprudencia                       </td><td>⋯                                                </td><td>NA                                               </td><td>NA                                               </td><td>NA                                               </td><td>NA                                               </td><td>NA                                               </td><td>NA                                               </td><td>NA                                               </td><td>NA                                               </td><td>NA                                               </td><td>NA                                               </td></tr>\n",
       "\t<tr><td>0000-0001-5000-0218                              </td><td>L. Jack                                          </td><td>Rhodes                                           </td><td>NA                                               </td><td>NA                                               </td><td>https://www.linkedin.com/in/jack-rhodes-41b8ba22/</td><td>LinkedIn                                         </td><td>NA                                               </td><td>US                                               </td><td>Psychology, Psychology, Psycholgy, Psychology    </td><td>⋯                                                </td><td>NA                                               </td><td>NA                                               </td><td>NA                                               </td><td>NA                                               </td><td>NA                                               </td><td>NA                                               </td><td>NA                                               </td><td>NA                                               </td><td>NA                                               </td><td>NA                                               </td></tr>\n",
       "\t<tr><td>0000-0001-5000-0277                              </td><td>Clara                                            </td><td>ViÌ±as Teixidor                                  </td><td>NA                                               </td><td>NA                                               </td><td>NA                                               </td><td>NA                                               </td><td>NA                                               </td><td>NA                                               </td><td>NA                                               </td><td>⋯                                                </td><td>NA                                               </td><td>NA                                               </td><td>NA                                               </td><td>NA                                               </td><td>NA                                               </td><td>NA                                               </td><td>NA                                               </td><td>NA                                               </td><td>NA                                               </td><td>NA                                               </td></tr>\n",
       "</tbody>\n",
       "</table>\n"
      ],
      "text/latex": [
       "\\begin{tabular}{r|llllllllllllllllllllllllllllllllllllllllllllllllllllllllllllllllllllllllllllllllllllllll}\n",
       " IDENTIFICADOR & NOMBRE & APELLIDOS & CREDIT\\_NAME(ALIAS1) & OTHER\\_NAME(ALIAS2) & CONTACTO\\_1 & CONTACTO\\_2 & EMAILS & PAIS & DEPARTAMENTO & ⋯ & X79 & X80 & X81 & X82 & X83 & X84 & X85 & X86 & X87 & X88\\\\\n",
       "\\hline\n",
       "\t 0000-0001-5000-0015                               & Shittu                                            & Olufunke                                          & NA                                                & NA                                                & NA                                                & NA                                                & NA                                                & NA                                                & NA                                                & ⋯                                                 & NA                                                & NA                                                & NA                                                & NA                                                & NA                                                & NA                                                & NA                                                & NA                                                & NA                                                & NA                                               \\\\\n",
       "\t 0000-0001-5000-0074                               & Susan                                             & Luong                                             & NA                                                & Suz Luong                                         & NA                                                & NA                                                & NA                                                & NA                                                & NA                                                & ⋯                                                 & NA                                                & NA                                                & NA                                                & NA                                                & NA                                                & NA                                                & NA                                                & NA                                                & NA                                                & NA                                               \\\\\n",
       "\t 0000-0001-5000-0082                               & Tara                                              & Stephens                                          & NA                                                & NA                                                & NA                                                & NA                                                & NA                                                & NA                                                & NA                                                & ⋯                                                 & NA                                                & NA                                                & NA                                                & NA                                                & NA                                                & NA                                                & NA                                                & NA                                                & NA                                                & NA                                               \\\\\n",
       "\t 0000-0001-5000-0138                               & Jorge AndrÌ©s                                     & HernÌÁndez                                        & NA                                                & JA HernÌÁndez,Jorge AndrÌ©s HernÌÁndes VÌÁsquez   & NA                                                & NA                                                & NA                                                & CO                                                & Facultad de Jurisprudencia                        & ⋯                                                 & NA                                                & NA                                                & NA                                                & NA                                                & NA                                                & NA                                                & NA                                                & NA                                                & NA                                                & NA                                               \\\\\n",
       "\t 0000-0001-5000-0218                               & L. Jack                                           & Rhodes                                            & NA                                                & NA                                                & https://www.linkedin.com/in/jack-rhodes-41b8ba22/ & LinkedIn                                          & NA                                                & US                                                & Psychology, Psychology, Psycholgy, Psychology     & ⋯                                                 & NA                                                & NA                                                & NA                                                & NA                                                & NA                                                & NA                                                & NA                                                & NA                                                & NA                                                & NA                                               \\\\\n",
       "\t 0000-0001-5000-0277                               & Clara                                             & ViÌ±as Teixidor                                   & NA                                                & NA                                                & NA                                                & NA                                                & NA                                                & NA                                                & NA                                                & ⋯                                                 & NA                                                & NA                                                & NA                                                & NA                                                & NA                                                & NA                                                & NA                                                & NA                                                & NA                                                & NA                                               \\\\\n",
       "\\end{tabular}\n"
      ],
      "text/markdown": [
       "\n",
       "IDENTIFICADOR | NOMBRE | APELLIDOS | CREDIT_NAME(ALIAS1) | OTHER_NAME(ALIAS2) | CONTACTO_1 | CONTACTO_2 | EMAILS | PAIS | DEPARTAMENTO | ⋯ | X79 | X80 | X81 | X82 | X83 | X84 | X85 | X86 | X87 | X88 | \n",
       "|---|---|---|---|---|---|\n",
       "| 0000-0001-5000-0015                               | Shittu                                            | Olufunke                                          | NA                                                | NA                                                | NA                                                | NA                                                | NA                                                | NA                                                | NA                                                | ⋯                                                 | NA                                                | NA                                                | NA                                                | NA                                                | NA                                                | NA                                                | NA                                                | NA                                                | NA                                                | NA                                                | \n",
       "| 0000-0001-5000-0074                               | Susan                                             | Luong                                             | NA                                                | Suz Luong                                         | NA                                                | NA                                                | NA                                                | NA                                                | NA                                                | ⋯                                                 | NA                                                | NA                                                | NA                                                | NA                                                | NA                                                | NA                                                | NA                                                | NA                                                | NA                                                | NA                                                | \n",
       "| 0000-0001-5000-0082                               | Tara                                              | Stephens                                          | NA                                                | NA                                                | NA                                                | NA                                                | NA                                                | NA                                                | NA                                                | ⋯                                                 | NA                                                | NA                                                | NA                                                | NA                                                | NA                                                | NA                                                | NA                                                | NA                                                | NA                                                | NA                                                | \n",
       "| 0000-0001-5000-0138                               | Jorge AndrÌ©s                                     | HernÌÁndez                                        | NA                                                | JA HernÌÁndez,Jorge AndrÌ©s HernÌÁndes VÌÁsquez   | NA                                                | NA                                                | NA                                                | CO                                                | Facultad de Jurisprudencia                        | ⋯                                                 | NA                                                | NA                                                | NA                                                | NA                                                | NA                                                | NA                                                | NA                                                | NA                                                | NA                                                | NA                                                | \n",
       "| 0000-0001-5000-0218                               | L. Jack                                           | Rhodes                                            | NA                                                | NA                                                | https://www.linkedin.com/in/jack-rhodes-41b8ba22/ | LinkedIn                                          | NA                                                | US                                                | Psychology, Psychology, Psycholgy, Psychology     | ⋯                                                 | NA                                                | NA                                                | NA                                                | NA                                                | NA                                                | NA                                                | NA                                                | NA                                                | NA                                                | NA                                                | \n",
       "| 0000-0001-5000-0277                               | Clara                                             | ViÌ±as Teixidor                                   | NA                                                | NA                                                | NA                                                | NA                                                | NA                                                | NA                                                | NA                                                | ⋯                                                 | NA                                                | NA                                                | NA                                                | NA                                                | NA                                                | NA                                                | NA                                                | NA                                                | NA                                                | NA                                                | \n",
       "\n",
       "\n"
      ],
      "text/plain": [
       "  IDENTIFICADOR       NOMBRE        APELLIDOS       CREDIT_NAME(ALIAS1)\n",
       "1 0000-0001-5000-0015 Shittu        Olufunke        NA                 \n",
       "2 0000-0001-5000-0074 Susan         Luong           NA                 \n",
       "3 0000-0001-5000-0082 Tara          Stephens        NA                 \n",
       "4 0000-0001-5000-0138 Jorge AndrÌ©s HernÌÁndez      NA                 \n",
       "5 0000-0001-5000-0218 L. Jack       Rhodes          NA                 \n",
       "6 0000-0001-5000-0277 Clara         ViÌ±as Teixidor NA                 \n",
       "  OTHER_NAME(ALIAS2)                             \n",
       "1 NA                                             \n",
       "2 Suz Luong                                      \n",
       "3 NA                                             \n",
       "4 JA HernÌÁndez,Jorge AndrÌ©s HernÌÁndes VÌÁsquez\n",
       "5 NA                                             \n",
       "6 NA                                             \n",
       "  CONTACTO_1                                        CONTACTO_2 EMAILS PAIS\n",
       "1 NA                                                NA         NA     NA  \n",
       "2 NA                                                NA         NA     NA  \n",
       "3 NA                                                NA         NA     NA  \n",
       "4 NA                                                NA         NA     CO  \n",
       "5 https://www.linkedin.com/in/jack-rhodes-41b8ba22/ LinkedIn   NA     US  \n",
       "6 NA                                                NA         NA     NA  \n",
       "  DEPARTAMENTO                                  ⋯ X79 X80 X81 X82 X83 X84 X85\n",
       "1 NA                                            ⋯ NA  NA  NA  NA  NA  NA  NA \n",
       "2 NA                                            ⋯ NA  NA  NA  NA  NA  NA  NA \n",
       "3 NA                                            ⋯ NA  NA  NA  NA  NA  NA  NA \n",
       "4 Facultad de Jurisprudencia                    ⋯ NA  NA  NA  NA  NA  NA  NA \n",
       "5 Psychology, Psychology, Psycholgy, Psychology ⋯ NA  NA  NA  NA  NA  NA  NA \n",
       "6 NA                                            ⋯ NA  NA  NA  NA  NA  NA  NA \n",
       "  X86 X87 X88\n",
       "1 NA  NA  NA \n",
       "2 NA  NA  NA \n",
       "3 NA  NA  NA \n",
       "4 NA  NA  NA \n",
       "5 NA  NA  NA \n",
       "6 NA  NA  NA "
      ]
     },
     "metadata": {},
     "output_type": "display_data"
    }
   ],
   "source": [
    "head(orcid_1)"
   ]
  },
  {
   "cell_type": "code",
   "execution_count": 1,
   "metadata": {},
   "outputs": [
    {
     "ename": "ERROR",
     "evalue": "Error in select(orcid_1, -contains(\"X\")): could not find function \"select\"\n",
     "output_type": "error",
     "traceback": [
      "Error in select(orcid_1, -contains(\"X\")): could not find function \"select\"\nTraceback:\n"
     ]
    }
   ],
   "source": [
    "orcid_1_a <- select(orcid_1, -contains(\"X\"))\n",
    "head(orcid_1_a)"
   ]
  },
  {
   "cell_type": "code",
   "execution_count": 15,
   "metadata": {},
   "outputs": [],
   "source": [
    "write_csv(orcid_1_a,\"datos/orcid_1.csv\")"
   ]
  }
 ],
 "metadata": {
  "kernelspec": {
   "display_name": "R",
   "language": "R",
   "name": "ir"
  },
  "language_info": {
   "codemirror_mode": "r",
   "file_extension": ".r",
   "mimetype": "text/x-r-source",
   "name": "R",
   "pygments_lexer": "r",
   "version": "3.4.4"
  }
 },
 "nbformat": 4,
 "nbformat_minor": 2
}
