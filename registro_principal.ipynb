{
 "cells": [
  {
   "cell_type": "code",
   "execution_count": 1,
   "metadata": {},
   "outputs": [],
   "source": [
    "with open(\"personas.txt\", \"r\") as archivo:\n",
    "    cadena = archivo.read()"
   ]
  },
  {
   "cell_type": "code",
   "execution_count": 2,
   "metadata": {},
   "outputs": [],
   "source": [
    "lista = eval(cadena)"
   ]
  },
  {
   "cell_type": "code",
   "execution_count": 3,
   "metadata": {},
   "outputs": [],
   "source": [
    "personas = list(enumerate(lista))"
   ]
  },
  {
   "cell_type": "code",
   "execution_count": 4,
   "metadata": {},
   "outputs": [
    {
     "data": {
      "text/plain": [
       "1219452"
      ]
     },
     "execution_count": 4,
     "metadata": {},
     "output_type": "execute_result"
    }
   ],
   "source": [
    "len(personas)"
   ]
  },
  {
   "cell_type": "code",
   "execution_count": 5,
   "metadata": {},
   "outputs": [
    {
     "data": {
      "text/plain": [
       "[(0, [0, 461921, 1479778]),\n",
       " (1, [1, 1479779, 430533]),\n",
       " (2, [2, 364570, 1479780, 1314523]),\n",
       " (3, [204152, 3, 1479781]),\n",
       " (4, [300476, 4, 1479782]),\n",
       " (5, [1479784, 286859, 5]),\n",
       " (6, [6, 1479788, 1479790, 1290991, 266992]),\n",
       " (7, [266906, 1479789, 7]),\n",
       " (8, [8, 279765, 1479791]),\n",
       " (9, [1479792, 9, 203201])]"
      ]
     },
     "execution_count": 5,
     "metadata": {},
     "output_type": "execute_result"
    }
   ],
   "source": [
    "per = personas[0:10]\n",
    "per"
   ]
  },
  {
   "cell_type": "code",
   "execution_count": 6,
   "metadata": {},
   "outputs": [],
   "source": [
    "import pandas as pd"
   ]
  },
  {
   "cell_type": "code",
   "execution_count": 7,
   "metadata": {},
   "outputs": [
    {
     "name": "stderr",
     "output_type": "stream",
     "text": [
      "/usr/local/lib/python3.5/dist-packages/IPython/core/interactiveshell.py:2728: DtypeWarning: Columns (0,2,4,5,6,7,8,10,11,12) have mixed types. Specify dtype option on import or set low_memory=False.\n",
      "  interactivity=interactivity, compiler=compiler, result=result)\n"
     ]
    }
   ],
   "source": [
    "base = pd.read_csv(\"import/datos/registros.csv\")"
   ]
  },
  {
   "cell_type": "code",
   "execution_count": 8,
   "metadata": {},
   "outputs": [],
   "source": [
    "df = base.values"
   ]
  },
  {
   "cell_type": "code",
   "execution_count": 9,
   "metadata": {},
   "outputs": [
    {
     "data": {
      "text/plain": [
       "array([['MOAG401212HJCRLD07', 'MORENO', 'DE ALBA', 'JOSE GUADALUPE',\n",
       "        '12/12/1940', 'MEX', 'Masculino', nan, nan, nan, nan, nan, nan,\n",
       "        'dape'],\n",
       "       ['MOLL500825HSPRPS09', 'MORAN', 'LOPEZ', 'JOSE LUIS',\n",
       "        '25/08/1950', 'MEX', 'Masculino', nan, nan, nan, nan, nan, nan,\n",
       "        'dape']], dtype=object)"
      ]
     },
     "execution_count": 9,
     "metadata": {},
     "output_type": "execute_result"
    }
   ],
   "source": [
    "df[[0, 10]]"
   ]
  },
  {
   "cell_type": "code",
   "execution_count": 10,
   "metadata": {},
   "outputs": [
    {
     "data": {
      "text/html": [
       "<div>\n",
       "<style scoped>\n",
       "    .dataframe tbody tr th:only-of-type {\n",
       "        vertical-align: middle;\n",
       "    }\n",
       "\n",
       "    .dataframe tbody tr th {\n",
       "        vertical-align: top;\n",
       "    }\n",
       "\n",
       "    .dataframe thead th {\n",
       "        text-align: right;\n",
       "    }\n",
       "</style>\n",
       "<table border=\"1\" class=\"dataframe\">\n",
       "  <thead>\n",
       "    <tr style=\"text-align: right;\">\n",
       "      <th></th>\n",
       "      <th>identificador_CA</th>\n",
       "      <th>nombre_completo</th>\n",
       "      <th>primer_apellido_completo</th>\n",
       "      <th>segundo_apellido_completo</th>\n",
       "      <th>nombre_preferido</th>\n",
       "      <th>primer_apellido_preferido</th>\n",
       "      <th>segundo_apellido_preferido</th>\n",
       "      <th>lugar_de_nacimiento</th>\n",
       "      <th>institucion</th>\n",
       "      <th>afiliacion</th>\n",
       "      <th>genero</th>\n",
       "      <th>fecha_de_nacimiento</th>\n",
       "      <th>estado_de_identificacion</th>\n",
       "    </tr>\n",
       "  </thead>\n",
       "  <tbody>\n",
       "  </tbody>\n",
       "</table>\n",
       "</div>"
      ],
      "text/plain": [
       "Empty DataFrame\n",
       "Columns: [identificador_CA, nombre_completo, primer_apellido_completo, segundo_apellido_completo, nombre_preferido, primer_apellido_preferido, segundo_apellido_preferido, lugar_de_nacimiento, institucion, afiliacion, genero, fecha_de_nacimiento, estado_de_identificacion]\n",
       "Index: []"
      ]
     },
     "execution_count": 10,
     "metadata": {},
     "output_type": "execute_result"
    }
   ],
   "source": [
    "columnas_registro_principal = [\"identificador_CA\", \n",
    "                                \"nombre_completo\",\n",
    "                                \"primer_apellido_completo\", \n",
    "                                \"segundo_apellido_completo\", \n",
    "                                \"nombre_preferido\", \n",
    "                                \"primer_apellido_preferido\", \n",
    "                                \"segundo_apellido_preferido\", \n",
    "                                \"lugar_de_nacimiento\",\n",
    "                                \"institucion\",\n",
    "                                \"afiliacion\",\n",
    "                                \"genero\", \n",
    "                                \"fecha_de_nacimiento\",\n",
    "                                \"estado_de_identificacion\"]\n",
    "registro_principal = pd.DataFrame(columns = columnas_registro_principal)\n",
    "registro_principal"
   ]
  },
  {
   "cell_type": "code",
   "execution_count": 11,
   "metadata": {},
   "outputs": [
    {
     "data": {
      "text/html": [
       "<div>\n",
       "<style scoped>\n",
       "    .dataframe tbody tr th:only-of-type {\n",
       "        vertical-align: middle;\n",
       "    }\n",
       "\n",
       "    .dataframe tbody tr th {\n",
       "        vertical-align: top;\n",
       "    }\n",
       "\n",
       "    .dataframe thead th {\n",
       "        text-align: right;\n",
       "    }\n",
       "</style>\n",
       "<table border=\"1\" class=\"dataframe\">\n",
       "  <thead>\n",
       "    <tr style=\"text-align: right;\">\n",
       "      <th></th>\n",
       "      <th>identificador_CA</th>\n",
       "      <th>nombres</th>\n",
       "      <th>primer_apellido</th>\n",
       "      <th>segundo_apellido</th>\n",
       "    </tr>\n",
       "  </thead>\n",
       "  <tbody>\n",
       "  </tbody>\n",
       "</table>\n",
       "</div>"
      ],
      "text/plain": [
       "Empty DataFrame\n",
       "Columns: [identificador_CA, nombres, primer_apellido, segundo_apellido]\n",
       "Index: []"
      ]
     },
     "execution_count": 11,
     "metadata": {},
     "output_type": "execute_result"
    }
   ],
   "source": [
    "columnas_variantes_de_nombres = [\"identificador_CA\", \n",
    "                                               \"nombres\", \n",
    "                                               \"primer_apellido\", \n",
    "                                               \"segundo_apellido\"]\n",
    "variantes_de_nombres = pd.DataFrame(columns = columnas_variantes_de_nombres)\n",
    "variantes_de_nombres"
   ]
  },
  {
   "cell_type": "code",
   "execution_count": 12,
   "metadata": {},
   "outputs": [
    {
     "data": {
      "text/html": [
       "<div>\n",
       "<style scoped>\n",
       "    .dataframe tbody tr th:only-of-type {\n",
       "        vertical-align: middle;\n",
       "    }\n",
       "\n",
       "    .dataframe tbody tr th {\n",
       "        vertical-align: top;\n",
       "    }\n",
       "\n",
       "    .dataframe thead th {\n",
       "        text-align: right;\n",
       "    }\n",
       "</style>\n",
       "<table border=\"1\" class=\"dataframe\">\n",
       "  <thead>\n",
       "    <tr style=\"text-align: right;\">\n",
       "      <th></th>\n",
       "      <th>identificador_CA</th>\n",
       "      <th>tipo</th>\n",
       "      <th>valor</th>\n",
       "    </tr>\n",
       "  </thead>\n",
       "  <tbody>\n",
       "  </tbody>\n",
       "</table>\n",
       "</div>"
      ],
      "text/plain": [
       "Empty DataFrame\n",
       "Columns: [identificador_CA, tipo, valor]\n",
       "Index: []"
      ]
     },
     "execution_count": 12,
     "metadata": {},
     "output_type": "execute_result"
    }
   ],
   "source": [
    "columnas_identificadores = [\"identificador_CA\", \"tipo\", \"valor\"]\n",
    "identificadores = pd.DataFrame(columns = columnas_identificadores)\n",
    "identificadores"
   ]
  },
  {
   "cell_type": "code",
   "execution_count": 13,
   "metadata": {},
   "outputs": [],
   "source": [
    "def extraer_dato(persona, columna, lista_de_prioridades):\n",
    "    dato = \"\"\n",
    "    mini_base = persona[:,[13, columna]]\n",
    "    for renglon in mini_base:\n",
    "        if renglon[0] == lista_de_prioridades[0]:\n",
    "            if str(renglon[1]) != \"nan\":\n",
    "                dato = renglon[1]\n",
    "                return dato\n",
    "    for renglon in mini_base:\n",
    "        if renglon[0] == lista_de_prioridades[1]:\n",
    "            if str(renglon[1]) != \"nan\":\n",
    "                dato = renglon[1]\n",
    "                return dato\n",
    "    for renglon in mini_base:\n",
    "        if renglon[0] == lista_de_prioridades[2]:\n",
    "            if str(renglon[1]) != \"nan\":\n",
    "                dato = renglon[1]\n",
    "                return dato\n",
    "    return dato"
   ]
  },
  {
   "cell_type": "code",
   "execution_count": 14,
   "metadata": {},
   "outputs": [
    {
     "data": {
      "text/plain": [
       "[(0, 'curp'),\n",
       " (1, 'primer_apellido'),\n",
       " (2, 'segundo_apellido'),\n",
       " (3, 'nombres'),\n",
       " (4, 'fecha_de_nacimiento'),\n",
       " (5, 'pais_asociado'),\n",
       " (6, 'genero'),\n",
       " (7, 'cvu'),\n",
       " (8, 'orcid'),\n",
       " (9, 'rn'),\n",
       " (10, 'dni'),\n",
       " (11, 'pais_de_nacimiento'),\n",
       " (12, 'afiliacion'),\n",
       " (13, 'origen')]"
      ]
     },
     "execution_count": 14,
     "metadata": {},
     "output_type": "execute_result"
    }
   ],
   "source": [
    "list(enumerate(base))"
   ]
  },
  {
   "cell_type": "code",
   "execution_count": 15,
   "metadata": {},
   "outputs": [
    {
     "data": {
      "text/plain": [
       "[(0, 'identificador_CA'),\n",
       " (1, 'nombre_completo'),\n",
       " (2, 'primer_apellido_completo'),\n",
       " (3, 'segundo_apellido_completo'),\n",
       " (4, 'nombre_preferido'),\n",
       " (5, 'primer_apellido_preferido'),\n",
       " (6, 'segundo_apellido_preferido'),\n",
       " (7, 'lugar_de_nacimiento'),\n",
       " (8, 'institucion'),\n",
       " (9, 'afiliacion'),\n",
       " (10, 'genero'),\n",
       " (11, 'fecha_de_nacimiento'),\n",
       " (12, 'estado_de_identificacion')]"
      ]
     },
     "execution_count": 15,
     "metadata": {},
     "output_type": "execute_result"
    }
   ],
   "source": [
    "list(enumerate(columnas_registro_principal))"
   ]
  },
  {
   "cell_type": "code",
   "execution_count": 16,
   "metadata": {},
   "outputs": [],
   "source": [
    "def enviar_a_registro_principal(tupla):\n",
    "    persona = df[[tupla[1]]]\n",
    "    \n",
    "    indicador_CA = tupla[0]\n",
    "    nombre_completo = extraer_dato(persona, 3, [\"cvu\", \"rn\", \"dape\"])\n",
    "    primer_apellido_completo = extraer_dato(persona, 1, [\"cvu\", \"rn\", \"dape\"])\n",
    "    segundo_apellido_completo = extraer_dato(persona, 2, [\"cvu\", \"rn\", \"dape\"])\n",
    "    nombre_preferido = extraer_dato(persona, 3, [\"rn\", \"dape\", \"cvu\"])\n",
    "    primer_apellido_preferido = extraer_dato(persona, 1, [\"rn\", \"dape\", \"cvu\"])\n",
    "    segundo_apellido_preferido = extraer_dato(persona, 2, [\"rn\", \"dape\", \"cvu\"])\n",
    "    lugar_de_nacimiento = extraer_dato(persona, 11, [\"cvu\", \"dape\", \"\"])\n",
    "    institucion = extraer_dato(persona, 12, [\"rn\", \"\", \"\"])\n",
    "    if institucion != \"\":\n",
    "        afiliacion = \"Actual\"\n",
    "    else:\n",
    "        afiliacion = \"\"\n",
    "    genero = extraer_dato(persona, 6, [\"cvu\", \"\", \"\"])\n",
    "    fecha_de_nacimiento = extraer_dato(persona, 4, [\"cvu\", \"dape\", \"\"])\n",
    "    if len(persona) == 1:\n",
    "        estado_de_identificacion = \"preliminar\"\n",
    "    else:\n",
    "        estado_de_identificacion = \"preliminar fusionado\"\n",
    "    \n",
    "    datos =[indicador_CA, \n",
    "            nombre_completo, \n",
    "            primer_apellido_completo, \n",
    "            segundo_apellido_completo, \n",
    "            nombre_preferido, \n",
    "            primer_apellido_preferido,\n",
    "            segundo_apellido_preferido,\n",
    "            lugar_de_nacimiento, \n",
    "            institucion,\n",
    "            afiliacion,\n",
    "            genero,\n",
    "            fecha_de_nacimiento,\n",
    "            estado_de_identificacion]\n",
    "    return datos"
   ]
  },
  {
   "cell_type": "code",
   "execution_count": 17,
   "metadata": {},
   "outputs": [],
   "source": [
    "import multiprocessing as mp"
   ]
  },
  {
   "cell_type": "code",
   "execution_count": 18,
   "metadata": {},
   "outputs": [],
   "source": [
    "p = mp.Pool()"
   ]
  },
  {
   "cell_type": "code",
   "execution_count": 26,
   "metadata": {},
   "outputs": [
    {
     "data": {
      "text/html": [
       "<div>\n",
       "<style scoped>\n",
       "    .dataframe tbody tr th:only-of-type {\n",
       "        vertical-align: middle;\n",
       "    }\n",
       "\n",
       "    .dataframe tbody tr th {\n",
       "        vertical-align: top;\n",
       "    }\n",
       "\n",
       "    .dataframe thead th {\n",
       "        text-align: right;\n",
       "    }\n",
       "</style>\n",
       "<table border=\"1\" class=\"dataframe\">\n",
       "  <thead>\n",
       "    <tr style=\"text-align: right;\">\n",
       "      <th></th>\n",
       "      <th>identificador_CA</th>\n",
       "      <th>nombre_completo</th>\n",
       "      <th>primer_apellido_completo</th>\n",
       "      <th>segundo_apellido_completo</th>\n",
       "      <th>nombre_preferido</th>\n",
       "      <th>primer_apellido_preferido</th>\n",
       "      <th>segundo_apellido_preferido</th>\n",
       "      <th>lugar_de_nacimiento</th>\n",
       "      <th>institucion</th>\n",
       "      <th>afiliacion</th>\n",
       "      <th>genero</th>\n",
       "      <th>fecha_de_nacimiento</th>\n",
       "      <th>estado_de_identificacion</th>\n",
       "    </tr>\n",
       "  </thead>\n",
       "  <tbody>\n",
       "    <tr>\n",
       "      <th>0</th>\n",
       "      <td>0</td>\n",
       "      <td>JOSE GUADALUPE</td>\n",
       "      <td>MORENO</td>\n",
       "      <td>DE ALBA</td>\n",
       "      <td>JOSE GUADALUPE</td>\n",
       "      <td>MORENO</td>\n",
       "      <td>DE ALBA</td>\n",
       "      <td>MEX</td>\n",
       "      <td></td>\n",
       "      <td></td>\n",
       "      <td>Masculino</td>\n",
       "      <td>12/12/1940</td>\n",
       "      <td>preliminar fusionado</td>\n",
       "    </tr>\n",
       "    <tr>\n",
       "      <th>1</th>\n",
       "      <td>1</td>\n",
       "      <td>JOSE</td>\n",
       "      <td>PASCUAL</td>\n",
       "      <td>BUXO</td>\n",
       "      <td>JOSE</td>\n",
       "      <td>PASCUAL</td>\n",
       "      <td>BUXO</td>\n",
       "      <td>ESP</td>\n",
       "      <td></td>\n",
       "      <td></td>\n",
       "      <td>Masculino</td>\n",
       "      <td>12/02/1931</td>\n",
       "      <td>preliminar fusionado</td>\n",
       "    </tr>\n",
       "    <tr>\n",
       "      <th>2</th>\n",
       "      <td>2</td>\n",
       "      <td>SURENDRA PAL</td>\n",
       "      <td>VERMA</td>\n",
       "      <td>JAISWAL</td>\n",
       "      <td>SURENDRA PAL</td>\n",
       "      <td>VERMA</td>\n",
       "      <td>JAISWAL</td>\n",
       "      <td>IND</td>\n",
       "      <td></td>\n",
       "      <td></td>\n",
       "      <td>Masculino</td>\n",
       "      <td>15/07/1945</td>\n",
       "      <td>preliminar fusionado</td>\n",
       "    </tr>\n",
       "    <tr>\n",
       "      <th>3</th>\n",
       "      <td>3</td>\n",
       "      <td>JORGE</td>\n",
       "      <td>ALONSO</td>\n",
       "      <td>SANCHEZ</td>\n",
       "      <td>JORGE</td>\n",
       "      <td>ALONSO</td>\n",
       "      <td>SANCHEZ</td>\n",
       "      <td>MEX</td>\n",
       "      <td></td>\n",
       "      <td></td>\n",
       "      <td>Masculino</td>\n",
       "      <td>20/01/1943</td>\n",
       "      <td>preliminar fusionado</td>\n",
       "    </tr>\n",
       "    <tr>\n",
       "      <th>4</th>\n",
       "      <td>4</td>\n",
       "      <td>ELENA</td>\n",
       "      <td>AZAOLA</td>\n",
       "      <td>GARRIDO</td>\n",
       "      <td>ELENA</td>\n",
       "      <td>AZAOLA</td>\n",
       "      <td>GARRIDO</td>\n",
       "      <td>MEX</td>\n",
       "      <td></td>\n",
       "      <td></td>\n",
       "      <td>Femenino</td>\n",
       "      <td>10/11/1951</td>\n",
       "      <td>preliminar fusionado</td>\n",
       "    </tr>\n",
       "    <tr>\n",
       "      <th>5</th>\n",
       "      <td>5</td>\n",
       "      <td>FIDEL ALBERTO</td>\n",
       "      <td>RAMON</td>\n",
       "      <td>Y ROMERO</td>\n",
       "      <td>FIDEL ALBERTO</td>\n",
       "      <td>RAMON</td>\n",
       "      <td>Y ROMERO</td>\n",
       "      <td></td>\n",
       "      <td></td>\n",
       "      <td></td>\n",
       "      <td>Masculino</td>\n",
       "      <td>02/02/1938</td>\n",
       "      <td>preliminar fusionado</td>\n",
       "    </tr>\n",
       "    <tr>\n",
       "      <th>6</th>\n",
       "      <td>6</td>\n",
       "      <td>GRACIELA</td>\n",
       "      <td>CALDERON</td>\n",
       "      <td>DIAZ BARRIGA</td>\n",
       "      <td>GRACIELA</td>\n",
       "      <td>CALDERON</td>\n",
       "      <td>DIAZ BARRIGA</td>\n",
       "      <td>MEX</td>\n",
       "      <td></td>\n",
       "      <td></td>\n",
       "      <td>Femenino</td>\n",
       "      <td>14/07/1931</td>\n",
       "      <td>preliminar fusionado</td>\n",
       "    </tr>\n",
       "    <tr>\n",
       "      <th>7</th>\n",
       "      <td>7</td>\n",
       "      <td>JERZY</td>\n",
       "      <td>RZEDOWSKI</td>\n",
       "      <td>ROTTER</td>\n",
       "      <td>JERZY</td>\n",
       "      <td>RZEDOWSKI</td>\n",
       "      <td>ROTTER</td>\n",
       "      <td>MEX</td>\n",
       "      <td></td>\n",
       "      <td></td>\n",
       "      <td>Masculino</td>\n",
       "      <td>27/12/1926</td>\n",
       "      <td>preliminar fusionado</td>\n",
       "    </tr>\n",
       "    <tr>\n",
       "      <th>8</th>\n",
       "      <td>8</td>\n",
       "      <td>MIGUEL ANGEL</td>\n",
       "      <td>PEREZ</td>\n",
       "      <td>ANGON</td>\n",
       "      <td>MIGUEL ANGEL</td>\n",
       "      <td>PEREZ</td>\n",
       "      <td>ANGON</td>\n",
       "      <td>MEX</td>\n",
       "      <td></td>\n",
       "      <td></td>\n",
       "      <td>Masculino</td>\n",
       "      <td>05/03/1948</td>\n",
       "      <td>preliminar fusionado</td>\n",
       "    </tr>\n",
       "    <tr>\n",
       "      <th>9</th>\n",
       "      <td>9</td>\n",
       "      <td>MAGDALENO</td>\n",
       "      <td>MEDINA</td>\n",
       "      <td>NOYOLA</td>\n",
       "      <td>MAGDALENO</td>\n",
       "      <td>MEDINA</td>\n",
       "      <td>NOYOLA</td>\n",
       "      <td>MEX</td>\n",
       "      <td></td>\n",
       "      <td></td>\n",
       "      <td>Masculino</td>\n",
       "      <td>06/03/1951</td>\n",
       "      <td>preliminar fusionado</td>\n",
       "    </tr>\n",
       "  </tbody>\n",
       "</table>\n",
       "</div>"
      ],
      "text/plain": [
       "   identificador_CA nombre_completo primer_apellido_completo  \\\n",
       "0                 0  JOSE GUADALUPE                   MORENO   \n",
       "1                 1            JOSE                  PASCUAL   \n",
       "2                 2    SURENDRA PAL                    VERMA   \n",
       "3                 3           JORGE                   ALONSO   \n",
       "4                 4           ELENA                   AZAOLA   \n",
       "5                 5   FIDEL ALBERTO                    RAMON   \n",
       "6                 6        GRACIELA                 CALDERON   \n",
       "7                 7           JERZY                RZEDOWSKI   \n",
       "8                 8    MIGUEL ANGEL                    PEREZ   \n",
       "9                 9       MAGDALENO                   MEDINA   \n",
       "\n",
       "  segundo_apellido_completo nombre_preferido primer_apellido_preferido  \\\n",
       "0                   DE ALBA   JOSE GUADALUPE                    MORENO   \n",
       "1                      BUXO             JOSE                   PASCUAL   \n",
       "2                   JAISWAL     SURENDRA PAL                     VERMA   \n",
       "3                   SANCHEZ            JORGE                    ALONSO   \n",
       "4                   GARRIDO            ELENA                    AZAOLA   \n",
       "5                  Y ROMERO    FIDEL ALBERTO                     RAMON   \n",
       "6              DIAZ BARRIGA         GRACIELA                  CALDERON   \n",
       "7                    ROTTER            JERZY                 RZEDOWSKI   \n",
       "8                     ANGON     MIGUEL ANGEL                     PEREZ   \n",
       "9                    NOYOLA        MAGDALENO                    MEDINA   \n",
       "\n",
       "  segundo_apellido_preferido lugar_de_nacimiento institucion afiliacion  \\\n",
       "0                    DE ALBA                 MEX                          \n",
       "1                       BUXO                 ESP                          \n",
       "2                    JAISWAL                 IND                          \n",
       "3                    SANCHEZ                 MEX                          \n",
       "4                    GARRIDO                 MEX                          \n",
       "5                   Y ROMERO                                              \n",
       "6               DIAZ BARRIGA                 MEX                          \n",
       "7                     ROTTER                 MEX                          \n",
       "8                      ANGON                 MEX                          \n",
       "9                     NOYOLA                 MEX                          \n",
       "\n",
       "      genero fecha_de_nacimiento estado_de_identificacion  \n",
       "0  Masculino          12/12/1940     preliminar fusionado  \n",
       "1  Masculino          12/02/1931     preliminar fusionado  \n",
       "2  Masculino          15/07/1945     preliminar fusionado  \n",
       "3  Masculino          20/01/1943     preliminar fusionado  \n",
       "4   Femenino          10/11/1951     preliminar fusionado  \n",
       "5  Masculino          02/02/1938     preliminar fusionado  \n",
       "6   Femenino          14/07/1931     preliminar fusionado  \n",
       "7  Masculino          27/12/1926     preliminar fusionado  \n",
       "8  Masculino          05/03/1948     preliminar fusionado  \n",
       "9  Masculino          06/03/1951     preliminar fusionado  "
      ]
     },
     "execution_count": 26,
     "metadata": {},
     "output_type": "execute_result"
    }
   ],
   "source": [
    "pd.DataFrame(p.map(func = enviar_a_registro_principal, iterable = iter(per)), columns = columnas_registro_principal)"
   ]
  }
 ],
 "metadata": {
  "kernelspec": {
   "display_name": "Python 3",
   "language": "python",
   "name": "python3"
  },
  "language_info": {
   "codemirror_mode": {
    "name": "ipython",
    "version": 3
   },
   "file_extension": ".py",
   "mimetype": "text/x-python",
   "name": "python",
   "nbconvert_exporter": "python",
   "pygments_lexer": "ipython3",
   "version": "3.5.2"
  }
 },
 "nbformat": 4,
 "nbformat_minor": 2
}
