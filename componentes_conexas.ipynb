{
 "cells": [
  {
   "cell_type": "code",
   "execution_count": 2,
   "metadata": {},
   "outputs": [
    {
     "name": "stdout",
     "output_type": "stream",
     "text": [
      "resultados/:\n",
      "total 16\n",
      "drwxrwxrwx 2 juan juan 4096 Jul  4 12:14 alfa\n",
      "drwxrwxrwx 2 juan juan 4096 Jul  2 18:53 beta\n",
      "drwxrwxrwx 2 juan juan 4096 Jul  2 22:08 gamma\n",
      "drwxrwxrwx 2 juan juan 4096 Jul  2 18:53 meta-nodos\n",
      "\n",
      "resultados/alfa:\n",
      "total 40\n",
      "-rwxrwxrwx 1 juan juan 3 Jul  1 14:57 parejas--import_datos_registros.csv--(0-100000)x(600000-1200000)\n",
      "-rwxrwxrwx 1 juan juan 3 Jul  1 14:57 parejas--import_datos_registros.csv--(100000-200000)x(600000-1200000)\n",
      "-rwxrwxrwx 1 juan juan 3 Jul  1 14:57 parejas--import_datos_registros.csv--(200000-300000)x(600000-1200000)\n",
      "-rw-r--r-- 1 juan juan 3 Jul  4 12:12 parejas--import_datos_registros.csv--(300000-350000)x(600000-1200000)\n",
      "-rw-r--r-- 1 juan juan 3 Jul  4 12:12 parejas--import_datos_registros.csv--(350000-400000)x(600000-1200000)\n",
      "-rw-r--r-- 1 juan juan 3 Jul  3 22:34 parejas--import_datos_registros.csv--(400000-425000)x(600000-1200000)\n",
      "-rw-r--r-- 1 juan juan 3 Jul  3 22:34 parejas--import_datos_registros.csv--(425000-450000)x(600000-1200000)\n",
      "-rw-r--r-- 1 juan juan 3 Jul  3 22:34 parejas--import_datos_registros.csv--(450000-475000)x(600000-1200000)\n",
      "-rw-r--r-- 1 juan juan 3 Jul  3 22:34 parejas--import_datos_registros.csv--(475000-500000)x(600000-1200000)\n",
      "-rwxrwxrwx 1 juan juan 3 Jul  1 14:57 parejas--import_datos_registros.csv--(500000-600000)x(600000-1200000)\n",
      "\n",
      "resultados/beta:\n",
      "total 4\n",
      "-rwxrwxrwx 1 juan juan 3 Jul  1 14:57 parejas--import_datos_registros.csv(600000-1200000)x(1200000-1700555)\n",
      "\n",
      "resultados/gamma:\n",
      "total 8812\n",
      "-rwxrwxrwx 1 juan juan 1788980 Jul  1 14:57 parejas--import_datos_registros.csv--(0-100000)x(1200000-1700555)\n",
      "-rwxrwxrwx 1 juan juan 1905758 Jul  1 14:57 parejas--import_datos_registros.csv--(100000-200000)x(1200000-1700555)\n",
      "-rwxrwxrwx 1 juan juan 1970377 Jul  1 14:57 parejas--import_datos_registros.csv--(200000-300000)x(1200000-1700555)\n",
      "-rwxrwxrwx 1 juan juan 1940490 Jul  1 14:57 parejas--import_datos_registros.csv--(300000-400000)x(1200000-1700555)\n",
      "-rwxrwxrwx 1 juan juan 1400149 Jul  1 14:57 parejas--import_datos_registros.csv--(400000-500000)x(1200000-1700555)\n",
      "-rwxrwxrwx 1 juan juan       3 Jul  1 14:57 parejas--import_datos_registros.csv--(480000-540000)x(1200000-1700555)\n",
      "-rwxrwxrwx 1 juan juan       3 Jul  1 14:57 parejas--import_datos_registros.csv--(540000-600000)x(1200000-1700555)\n",
      "\n",
      "resultados/meta-nodos:\n",
      "total 7576\n",
      "-rwxrwxrwx 1 juan juan 2011047 Jul  1 14:57 parejas--import_datos_registros.csv--(0-600000)x(0-600000)\n",
      "-rwxrwxrwx 1 juan juan 5742121 Jul  1 14:57 parejas--import_datos_registros.csv--(1200000-1700555)x(1200000-1700555)\n",
      "-rwxrwxrwx 1 juan juan       3 Jul  1 14:57 parejas--import_datos_registros.csv--(600000-1200000)x(600000-1200000)\n"
     ]
    }
   ],
   "source": [
    "!{\"ls resultados/ -Rl\"}"
   ]
  },
  {
   "cell_type": "code",
   "execution_count": 3,
   "metadata": {},
   "outputs": [],
   "source": [
    "parejas = set()"
   ]
  },
  {
   "cell_type": "code",
   "execution_count": 4,
   "metadata": {},
   "outputs": [
    {
     "data": {
      "text/plain": [
       "0"
      ]
     },
     "execution_count": 4,
     "metadata": {},
     "output_type": "execute_result"
    }
   ],
   "source": [
    "len(parejas)"
   ]
  },
  {
   "cell_type": "code",
   "execution_count": 5,
   "metadata": {},
   "outputs": [
    {
     "data": {
      "text/plain": [
       "100005"
      ]
     },
     "execution_count": 5,
     "metadata": {},
     "output_type": "execute_result"
    }
   ],
   "source": [
    "with open(\"resultados/gamma/parejas--import_datos_registros.csv--(0-100000)x(1200000-1700555)\", \"r\") as archivo:\n",
    "    cadena = archivo.read()\n",
    "parejas = parejas | set(eval(cadena))\n",
    "len(parejas)"
   ]
  },
  {
   "cell_type": "code",
   "execution_count": 6,
   "metadata": {},
   "outputs": [
    {
     "data": {
      "text/plain": [
       "200308"
      ]
     },
     "execution_count": 6,
     "metadata": {},
     "output_type": "execute_result"
    }
   ],
   "source": [
    "with open(\"resultados/gamma/parejas--import_datos_registros.csv--(100000-200000)x(1200000-1700555)\", \"r\") as archivo:\n",
    "    cadena = archivo.read()\n",
    "parejas = parejas| set(eval(cadena))\n",
    "len(parejas)"
   ]
  },
  {
   "cell_type": "code",
   "execution_count": 7,
   "metadata": {},
   "outputs": [
    {
     "data": {
      "text/plain": [
       "304012"
      ]
     },
     "execution_count": 7,
     "metadata": {},
     "output_type": "execute_result"
    }
   ],
   "source": [
    "with open(\"resultados/gamma/parejas--import_datos_registros.csv--(200000-300000)x(1200000-1700555)\", \"r\") as archivo:\n",
    "    cadena = archivo.read()\n",
    "parejas = parejas | set(eval(cadena))\n",
    "len(parejas)"
   ]
  },
  {
   "cell_type": "code",
   "execution_count": 8,
   "metadata": {},
   "outputs": [
    {
     "data": {
      "text/plain": [
       "406143"
      ]
     },
     "execution_count": 8,
     "metadata": {},
     "output_type": "execute_result"
    }
   ],
   "source": [
    "with open(\"resultados/gamma/parejas--import_datos_registros.csv--(300000-400000)x(1200000-1700555)\", \"r\") as archivo:\n",
    "    cadena = archivo.read()\n",
    "parejas = parejas | set(eval(cadena))\n",
    "len(parejas)"
   ]
  },
  {
   "cell_type": "code",
   "execution_count": 9,
   "metadata": {},
   "outputs": [
    {
     "data": {
      "text/plain": [
       "479835"
      ]
     },
     "execution_count": 9,
     "metadata": {},
     "output_type": "execute_result"
    }
   ],
   "source": [
    "with open(\"resultados/gamma/parejas--import_datos_registros.csv--(400000-500000)x(1200000-1700555)\", \"r\") as archivo:\n",
    "    cadena = archivo.read()\n",
    "parejas = parejas | set(eval(cadena))\n",
    "len(parejas)"
   ]
  },
  {
   "cell_type": "code",
   "execution_count": 10,
   "metadata": {},
   "outputs": [
    {
     "data": {
      "text/plain": [
       "595279"
      ]
     },
     "execution_count": 10,
     "metadata": {},
     "output_type": "execute_result"
    }
   ],
   "source": [
    "with open(\"resultados/meta-nodos/parejas--import_datos_registros.csv--(0-600000)x(0-600000)\", \"r\") as archivo:\n",
    "    cadena = archivo.read()\n",
    "parejas = parejas | set(eval(cadena))\n",
    "len(parejas)"
   ]
  },
  {
   "cell_type": "code",
   "execution_count": 11,
   "metadata": {},
   "outputs": [
    {
     "data": {
      "text/plain": [
       "882385"
      ]
     },
     "execution_count": 11,
     "metadata": {},
     "output_type": "execute_result"
    }
   ],
   "source": [
    "with open(\"resultados/meta-nodos/parejas--import_datos_registros.csv--(1200000-1700555)x(1200000-1700555)\", \"r\") as archivo:\n",
    "    cadena = archivo.read()\n",
    "parejas = parejas | set(eval(cadena))\n",
    "len(parejas)"
   ]
  },
  {
   "cell_type": "code",
   "execution_count": 12,
   "metadata": {},
   "outputs": [],
   "source": [
    "import pandas as pd"
   ]
  },
  {
   "cell_type": "code",
   "execution_count": 13,
   "metadata": {},
   "outputs": [
    {
     "name": "stderr",
     "output_type": "stream",
     "text": [
      "/usr/local/lib/python3.5/dist-packages/IPython/core/interactiveshell.py:2728: DtypeWarning: Columns (0,2,4,5,6,7,8,10,11,12) have mixed types. Specify dtype option on import or set low_memory=False.\n",
      "  interactivity=interactivity, compiler=compiler, result=result)\n"
     ]
    }
   ],
   "source": [
    "df = pd.read_csv(\"import/datos/registros.csv\")"
   ]
  },
  {
   "cell_type": "code",
   "execution_count": 14,
   "metadata": {},
   "outputs": [],
   "source": [
    "import networkx as nx"
   ]
  },
  {
   "cell_type": "code",
   "execution_count": 15,
   "metadata": {},
   "outputs": [],
   "source": [
    "G = nx.Graph()"
   ]
  },
  {
   "cell_type": "code",
   "execution_count": 16,
   "metadata": {},
   "outputs": [],
   "source": [
    "G.add_nodes_from(list(range(df.shape[0])))"
   ]
  },
  {
   "cell_type": "code",
   "execution_count": 17,
   "metadata": {},
   "outputs": [],
   "source": [
    "G.add_edges_from(parejas)"
   ]
  }
 ],
 "metadata": {
  "kernelspec": {
   "display_name": "Python 3",
   "language": "python",
   "name": "python3"
  },
  "language_info": {
   "codemirror_mode": {
    "name": "ipython",
    "version": 3
   },
   "file_extension": ".py",
   "mimetype": "text/x-python",
   "name": "python",
   "nbconvert_exporter": "python",
   "pygments_lexer": "ipython3",
   "version": "3.5.2"
  }
 },
 "nbformat": 4,
 "nbformat_minor": 2
}
